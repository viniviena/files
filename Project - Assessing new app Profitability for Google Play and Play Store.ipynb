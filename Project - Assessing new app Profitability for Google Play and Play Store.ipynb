{
 "cells": [
  {
   "cell_type": "markdown",
   "metadata": {
    "collapsed": true
   },
   "source": [
    "#          Apple Store and Google Play"
   ]
  },
  {
   "cell_type": "markdown",
   "metadata": {},
   "source": [
    "# Introduction\n",
    "This project analyses _IOS_ and _Android_ apps related variables from a public data base in order to rank the characteristics that can increase free apps **profitability** in both markets.\n",
    "\n",
    "We already know that the number of users have great influence in free apps profitability. This work intends to figure out what characteristics attract users and are more likely to make a free app profitable for both markets.\n",
    "\n",
    "The Data Sets are [Google Play](https://www.kaggle.com/lava18/google-play-store-apps/home) and [IOS](https://www.kaggle.com/ramamet4/app-store-apple-data-set-10k-apps/home) apps. The Columns are app related variables and are organized in the following order:\n",
    "\n",
    "Google Play Data Set:\n",
    "\n",
    "\n",
    "| App   | Category       | Rating | Reviews | Size | Installs | Type | Price | Content Rating | Genres       | Last Updated    | Current Ver | Android Ver  |\n",
    "|------------------------------------------------|----------------|--------|---------|------|----------|------|-------|----------------|--------------|-----------------|-------------|--------------|\n",
    "| Photo Editor & Candy Camera & Grid & ScrapBook | ART_AND_DESIGN | 4.1    | 159     | 19M  | 10,000+  | Free | 0     | Everyone       | Art & Design | January 7, 2018 | 1.0.0       | 4.0.3 and up |\n",
    "\n",
    "Apple Store Data Set:\n",
    "\n",
    "\n",
    "|     id    |    track_name   | size_bytes | currency | price | rating_counter_tot | rating_counter_ver | user_rating | user_rating_ver |  ver  | cont_rating | prime_genre | sup_devices.num | ipadSc_urls.num | lang.num | vpp_lic |\n",
    "|:---------:|:---------------:|:----------:|:--------:|:-----:|:------------------:|:------------------:|:-----------:|:---------------:|:-----:|:-----------:|:-----------:|:---------------:|:---------------:|:--------:|:-------:|\n",
    "| 281656475 | PAC-MAN Premium |  100788224 |    USD   |  3.99 |        21292       |         26         |      4      |       4.5       | 6.3.5 |      4+     |    Games    |        38       |        5        |    10    |    1    |\n",
    "\n"
   ]
  },
  {
   "cell_type": "markdown",
   "metadata": {},
   "source": [
    "## 1. Exploring Apple Store and Google Play Data sets."
   ]
  },
  {
   "cell_type": "markdown",
   "metadata": {},
   "source": [
    "\n",
    "In this section I will explore the Apple Store and Google Play data sets by doing the following steps:\n",
    "\n",
    "   1. Opening the csv files;\n",
    "   2. Using the `explore_data()` function to print few rows;\n",
    "   3. Print the column names to gain insight for future analysis."
   ]
  },
  {
   "cell_type": "markdown",
   "metadata": {},
   "source": [
    "## 1.1. Opening the csv files"
   ]
  },
  {
   "cell_type": "code",
   "execution_count": 1,
   "metadata": {},
   "outputs": [],
   "source": [
    "opened_data_ios = open('AppleStore.csv',encoding='utf8')\n",
    "opened_data_andr = open('googleplaystore.csv',encoding='utf8')\n",
    "from csv import reader\n",
    "read_ios = reader(opened_data_ios)\n",
    "read_andr = reader(opened_data_andr)\n",
    "ios_data = list(read_ios)\n",
    "andr_data = list(read_andr)\n",
    "ios_data = ios_data[1:]\n",
    "andr_data = andr_data[1:]"
   ]
  },
  {
   "cell_type": "markdown",
   "metadata": {},
   "source": [
    "## 1.2 Defining `explore_data()` and exploring the data sets"
   ]
  },
  {
   "cell_type": "code",
   "execution_count": 2,
   "metadata": {},
   "outputs": [
    {
     "name": "stdout",
     "output_type": "stream",
     "text": [
      "['284882215', 'Facebook', '389879808', 'USD', '0.0', '2974676', '212', '3.5', '3.5', '95.0', '4+', 'Social Networking', '37', '1', '29', '1']\n",
      "\n",
      "\n",
      "['389801252', 'Instagram', '113954816', 'USD', '0.0', '2161558', '1289', '4.5', '4.0', '10.23', '12+', 'Photo & Video', '37', '0', '29', '1']\n",
      "\n",
      "\n",
      "['529479190', 'Clash of Clans', '116476928', 'USD', '0.0', '2130805', '579', '4.5', '4.5', '9.24.12', '9+', 'Games', '38', '5', '18', '1']\n",
      "\n",
      "\n",
      "Number of rows: 7197\n",
      "Number of columns: 16\n",
      "['Photo Editor & Candy Camera & Grid & ScrapBook', 'ART_AND_DESIGN', '4.1', '159', '19M', '10,000+', 'Free', '0', 'Everyone', 'Art & Design', 'January 7, 2018', '1.0.0', '4.0.3 and up']\n",
      "\n",
      "\n",
      "['Coloring book moana', 'ART_AND_DESIGN', '3.9', '967', '14M', '500,000+', 'Free', '0', 'Everyone', 'Art & Design;Pretend Play', 'January 15, 2018', '2.0.0', '4.0.3 and up']\n",
      "\n",
      "\n",
      "['U Launcher Lite – FREE Live Cool Themes, Hide Apps', 'ART_AND_DESIGN', '4.7', '87510', '8.7M', '5,000,000+', 'Free', '0', 'Everyone', 'Art & Design', 'August 1, 2018', '1.2.4', '4.0.3 and up']\n",
      "\n",
      "\n",
      "Number of rows: 10841\n",
      "Number of columns: 13\n"
     ]
    }
   ],
   "source": [
    "def explore_data(dataset, start, end, rows_and_columns=False):\n",
    "    dataset_slice = dataset[start:end]    \n",
    "    for row in dataset_slice:\n",
    "        print(row)\n",
    "        print('\\n') # adds a new (empty) line after each row\n",
    "\n",
    "    if rows_and_columns:\n",
    "        print('Number of rows:', len(dataset))\n",
    "        print('Number of columns:', len(dataset[0]))\n",
    "        \n",
    "explore_data(ios_data,0,3,True)\n",
    "explore_data(andr_data,0,3,True)"
   ]
  },
  {
   "cell_type": "markdown",
   "metadata": {},
   "source": [
    "## 2. Cleaning Data"
   ]
  },
  {
   "cell_type": "markdown",
   "metadata": {},
   "source": [
    "In this section, I'm going to remove the data that are not useful for my objectives such as **non free apps**, **repeated apps** or **apps with missing information** and, finally, apps which are not in **English**."
   ]
  },
  {
   "cell_type": "markdown",
   "metadata": {},
   "source": [
    "## 2.1 Removing row with error in Google Play Data Set"
   ]
  },
  {
   "cell_type": "code",
   "execution_count": 3,
   "metadata": {},
   "outputs": [
    {
     "name": "stdout",
     "output_type": "stream",
     "text": [
      "['Life Made WI-Fi Touchscreen Photo Frame', '1.9', '19', '3.0M', '1,000+', 'Free', '0', 'Everyone', '', 'February 11, 2018', '1.0.19', '4.0 and up']\n",
      "12\n",
      "13\n"
     ]
    }
   ],
   "source": [
    "print(andr_data[10472])\n",
    "print(len(andr_data[10472]))\n",
    "print(len(andr_data[10471]))"
   ]
  },
  {
   "cell_type": "markdown",
   "metadata": {},
   "source": [
    "It can be seen that the row number 10472 has only **12** columns compared to the row number 10471. This error was reported in [Kaggle discussion Google Play Dataset](https://www.kaggle.com/lava18/google-play-store-apps/discussion/66015Thus). To handle this error, I've removed the column number 10472 by using the `del` built in function."
   ]
  },
  {
   "cell_type": "code",
   "execution_count": 4,
   "metadata": {},
   "outputs": [],
   "source": [
    "del andr_data[10472]"
   ]
  },
  {
   "cell_type": "code",
   "execution_count": 5,
   "metadata": {},
   "outputs": [
    {
     "name": "stdout",
     "output_type": "stream",
     "text": [
      "['osmino Wi-Fi: free WiFi', 'TOOLS', '4.2', '134203', '4.1M', '10,000,000+', 'Free', '0', 'Everyone', 'Tools', 'August 7, 2018', '6.06.14', '4.4 and up']\n"
     ]
    }
   ],
   "source": [
    "print(andr_data[10472])"
   ]
  },
  {
   "cell_type": "markdown",
   "metadata": {
    "collapsed": true
   },
   "source": [
    "## 2.2 Removing duplicated rows"
   ]
  },
  {
   "cell_type": "markdown",
   "metadata": {},
   "source": [
    "By exploring the Google Play data set, it is possible to see that some apps have **duplicated entries**. in the following, I will track all apps that have repeated entries and print some of them."
   ]
  },
  {
   "cell_type": "code",
   "execution_count": 6,
   "metadata": {},
   "outputs": [
    {
     "name": "stdout",
     "output_type": "stream",
     "text": [
      "['Quick PDF Scanner + OCR FREE', 'Box', 'Google My Business', 'ZOOM Cloud Meetings']\n",
      "The number of duplicate apps: 1181\n"
     ]
    }
   ],
   "source": [
    "unique_apps = []\n",
    "duplicate_apps =[]\n",
    "for i in andr_data:\n",
    "    name_app = i[0]\n",
    "    if name_app in unique_apps:\n",
    "        duplicate_apps.append(name_app)\n",
    "    else:\n",
    "        unique_apps.append(name_app)\n",
    "print(duplicate_apps[0:4])\n",
    "number_duplicates = len(duplicate_apps)        \n",
    "print(\"The number of duplicate apps:\",(number_duplicates))"
   ]
  },
  {
   "cell_type": "markdown",
   "metadata": {
    "collapsed": true
   },
   "source": [
    "   \n",
    "  Now, a methodology to remove the duplicated will be employed. First, lets check which variable differ for each repeated app."
   ]
  },
  {
   "cell_type": "code",
   "execution_count": 7,
   "metadata": {},
   "outputs": [
    {
     "name": "stdout",
     "output_type": "stream",
     "text": [
      "['Quick PDF Scanner + OCR FREE', 'BUSINESS', '4.2', '80805', 'Varies with device', '5,000,000+', 'Free', '0', 'Everyone', 'Business', 'February 26, 2018', 'Varies with device', '4.0.3 and up']\n",
      "['Quick PDF Scanner + OCR FREE', 'BUSINESS', '4.2', '80805', 'Varies with device', '5,000,000+', 'Free', '0', 'Everyone', 'Business', 'February 26, 2018', 'Varies with device', '4.0.3 and up']\n",
      "['Quick PDF Scanner + OCR FREE', 'BUSINESS', '4.2', '80804', 'Varies with device', '5,000,000+', 'Free', '0', 'Everyone', 'Business', 'February 26, 2018', 'Varies with device', '4.0.3 and up']\n"
     ]
    }
   ],
   "source": [
    "for i in andr_data:\n",
    "    app_name = i[0]\n",
    "    if app_name == \"Quick PDF Scanner + OCR FREE\":\n",
    "        print(i)\n",
    "        \n",
    "\n",
    "    "
   ]
  },
  {
   "cell_type": "markdown",
   "metadata": {},
   "source": [
    "The criteria to select one of all repeated apps is the number of reviews. The highest, more recent is the app data and better for our analysis. This is used to remove the remaining data from the data set."
   ]
  },
  {
   "cell_type": "markdown",
   "metadata": {},
   "source": [
    "1. First we start creating an empty list `reviews_max{}`\n",
    "2. Then we loop in the Google Play Data Set and assign, at each iteration, the app name to a variable `name` and the number of reviews to a variable `n_reviews`.\n",
    "3. The first `if` test two conditions\n",
    "    * if there is already the current app in the dictionary\n",
    "    * if the associated value is lesser than the one already in position\n",
    "4. The second `if` checks if the current app name in evaluation is already in the dictionary. If not, add it to the dictionary"
   ]
  },
  {
   "cell_type": "code",
   "execution_count": 8,
   "metadata": {},
   "outputs": [
    {
     "name": "stdout",
     "output_type": "stream",
     "text": [
      "The amount of rows with no repeated apps in Android is equal to 9659\n"
     ]
    }
   ],
   "source": [
    "def rows_selection(dataset,name_idx,reviewn_idx):\n",
    "    reviews_max = {}\n",
    "    for i in dataset:\n",
    "        name= i[name_idx]\n",
    "        n_reviews = float(i[reviewn_idx])\n",
    "        if name in reviews_max and reviews_max[name]<n_reviews:\n",
    "            reviews_max[name] = n_reviews\n",
    "        if name not in reviews_max:\n",
    "            reviews_max[name]=n_reviews\n",
    "    return reviews_max\n",
    "\n",
    "Android_non_repeated = rows_selection(andr_data,0,3)\n",
    "print('The amount of rows with no repeated apps in Android is equal to',len(Android_non_repeated))\n",
    "    \n"
   ]
  },
  {
   "cell_type": "markdown",
   "metadata": {},
   "source": [
    "The next code line creates a initially empty list which will be filled with the non repeated entries.\n",
    "Then, we loop through the Google Play Data Set and then check two conditions:\n",
    "1. If the current number of reviews equals the maximum *AND*\n",
    "2. IF the app name was already assessed.\n",
    " **The step 2 is important because the Google Play Data Set contains apps that may have the same numbers of reviews and all being the maximum value**"
   ]
  },
  {
   "cell_type": "code",
   "execution_count": 9,
   "metadata": {},
   "outputs": [
    {
     "name": "stdout",
     "output_type": "stream",
     "text": [
      "New Data set size is: 9659\n"
     ]
    }
   ],
   "source": [
    "android_clean = []\n",
    "already_added = []\n",
    "for i in andr_data:\n",
    "    name = i[0]\n",
    "    n_reviews = float(i[3])\n",
    "    if n_reviews == Android_non_repeated[name] and name not in already_added:\n",
    "        android_clean.append(i)\n",
    "        already_added.append(name)\n",
    "print('New Data set size is:',len(android_clean))\n",
    "        "
   ]
  },
  {
   "cell_type": "markdown",
   "metadata": {},
   "source": [
    "The obtained Data set size is in agreement with the result obtained in the dictionary construction `review_max{}`"
   ]
  },
  {
   "cell_type": "markdown",
   "metadata": {},
   "source": [
    "## 2.3 Removing apps with titles not in English Language"
   ]
  },
  {
   "cell_type": "markdown",
   "metadata": {},
   "source": [
    "Since we are only interested in apps developed in English Language, the non English Language written apps will be removed from the analysis.To do that, i'm going make use of the way the computer stores strings. It associate numbers to each symbol representing a letter. We can obtain this number by using the built in function `ord()`. The words in english are built with characters that ranges from 0 to 127. Then, we can check if the any string in the title exceed this range to exclude the corresponding app from the data set."
   ]
  },
  {
   "cell_type": "markdown",
   "metadata": {},
   "source": [
    "The following function can classify most words in English or non-English."
   ]
  },
  {
   "cell_type": "code",
   "execution_count": 10,
   "metadata": {},
   "outputs": [
    {
     "data": {
      "text/plain": [
       "False"
      ]
     },
     "execution_count": 10,
     "metadata": {},
     "output_type": "execute_result"
    }
   ],
   "source": [
    "def word_class(string):\n",
    "    for letter in string:\n",
    "        if ord(letter)>127:\n",
    "            return False\n",
    "word_class('Docs To Go™ Free Office Suite') #testing function\n",
    "\n",
    "        "
   ]
  },
  {
   "cell_type": "markdown",
   "metadata": {},
   "source": [
    "It can be that the previous algorithm missclassify English words due to the presence of special strings. To improve it, a new function will be defined in order to reduce the possibility of missclassification by introducing a more robust checking. The algorithm will return False only if **FOUR** or more strings are indexed greater than 127."
   ]
  },
  {
   "cell_type": "code",
   "execution_count": 11,
   "metadata": {},
   "outputs": [
    {
     "data": {
      "text/plain": [
       "True"
      ]
     },
     "execution_count": 11,
     "metadata": {},
     "output_type": "execute_result"
    }
   ],
   "source": [
    "def word_class2(string):\n",
    "    true_count = 0\n",
    "    for letter in string:\n",
    "        letter_indx = ord(letter)    \n",
    "        if letter_indx > 127:\n",
    "            true_count += 1\n",
    "    if true_count > 3:\n",
    "        return(False)\n",
    "    else:\n",
    "        return(True)\n",
    "        \n",
    "        \n",
    "word_class2('Instachat 😜') #testing function"
   ]
  },
  {
   "cell_type": "markdown",
   "metadata": {},
   "source": [
    "The following code removes non-English apps from Google Play and Apple Store Data Sets"
   ]
  },
  {
   "cell_type": "code",
   "execution_count": 12,
   "metadata": {},
   "outputs": [
    {
     "name": "stdout",
     "output_type": "stream",
     "text": [
      "The Google Play English data set has 9614 rows\n",
      "\n",
      "\n",
      "The Apple Store English data set has 6183 rows\n",
      "\n",
      "\n",
      "['Photo Editor & Candy Camera & Grid & ScrapBook', 'ART_AND_DESIGN', '4.1', '159', '19M', '10,000+', 'Free', '0', 'Everyone', 'Art & Design', 'January 7, 2018', '1.0.0', '4.0.3 and up']\n"
     ]
    }
   ],
   "source": [
    "Android_English = []\n",
    "IOS_English = []\n",
    "for j in android_clean: #Looping through Google Play Data set with no repeated entries\n",
    "    name = j[0]\n",
    "    if word_class2(name):\n",
    "        Android_English.append(j)\n",
    "for i in ios_data: #Loooping through Apple Store Data set with no repeated entries\n",
    "    name = i[1]\n",
    "    if word_class2(name):\n",
    "        IOS_English.append(i)   \n",
    "print('The Google Play English data set has',len(Android_English),'rows')\n",
    "print('\\n')\n",
    "print('The Apple Store English data set has',len(IOS_English),'rows')\n",
    "print('\\n')\n",
    "print(Android_English[0])\n",
    "    "
   ]
  },
  {
   "cell_type": "markdown",
   "metadata": {},
   "source": [
    "## 2.4 Removing non-free apps"
   ]
  },
  {
   "cell_type": "code",
   "execution_count": 13,
   "metadata": {},
   "outputs": [
    {
     "name": "stdout",
     "output_type": "stream",
     "text": [
      "The Google play data set final length is 8864\n",
      "The IOS data set final length is 3222\n"
     ]
    }
   ],
   "source": [
    "android_finalclean = []\n",
    "for i in Android_English:\n",
    "    label = i[7]\n",
    "    if label == '0':\n",
    "        android_finalclean.append(i)\n",
    "\n",
    "print('The Google play data set final length is',len(android_finalclean))\n",
    "\n",
    "ios_finalclean = []\n",
    "for i in IOS_English:\n",
    "    label = i[4]\n",
    "    if label == '0.0':\n",
    "        ios_finalclean.append(i)\n",
    "\n",
    "print('The IOS data set final length is',len(ios_finalclean)) \n",
    "\n"
   ]
  },
  {
   "cell_type": "markdown",
   "metadata": {},
   "source": [
    "As the first paragraph stated, the objective of the present analysis is finding the characteristics that makes free apps profitable in both IOS and Android Markets. An strong indication of profitability is the number of users. So, this is the sensor to measure profitability success."
   ]
  },
  {
   "cell_type": "markdown",
   "metadata": {},
   "source": [
    "## 3. Genre Data Set Analysis"
   ]
  },
  {
   "cell_type": "markdown",
   "metadata": {},
   "source": [
    "In this section, i'm finally starting the analysis in order to reach the objective stated. This section is intended to rank the apps Genres. This will give a clue on what is the most frequent Genre and will be used later for the averaged numbers of users."
   ]
  },
  {
   "cell_type": "markdown",
   "metadata": {},
   "source": [
    "## 3.1 Basic Statistics - Calculating proportions of Genres"
   ]
  },
  {
   "cell_type": "code",
   "execution_count": 14,
   "metadata": {},
   "outputs": [
    {
     "name": "stdout",
     "output_type": "stream",
     "text": [
      "This is the unsorted relative frequency table for Google Play Data Set\n",
      "\n",
      "\n",
      "{'ART_AND_DESIGN': 0.6430505415162455, 'AUTO_AND_VEHICLES': 0.9250902527075812, 'BEAUTY': 0.5979241877256317, 'BOOKS_AND_REFERENCE': 2.1435018050541514, 'BUSINESS': 4.591606498194946, 'COMICS': 0.6204873646209386, 'COMMUNICATION': 3.2378158844765346, 'DATING': 1.861462093862816, 'EDUCATION': 1.1620036101083033, 'ENTERTAINMENT': 0.9589350180505415, 'EVENTS': 0.7107400722021661, 'FINANCE': 3.7003610108303246, 'FOOD_AND_DRINK': 1.2409747292418771, 'HEALTH_AND_FITNESS': 3.0798736462093865, 'HOUSE_AND_HOME': 0.8235559566787004, 'LIBRARIES_AND_DEMO': 0.9363718411552346, 'LIFESTYLE': 3.9034296028880866, 'GAME': 9.724729241877256, 'FAMILY': 18.907942238267147, 'MEDICAL': 3.531137184115524, 'SOCIAL': 2.6624548736462095, 'SHOPPING': 2.2450361010830324, 'PHOTOGRAPHY': 2.944494584837545, 'SPORTS': 3.395758122743682, 'TRAVEL_AND_LOCAL': 2.33528880866426, 'TOOLS': 8.461191335740072, 'PERSONALIZATION': 3.3167870036101084, 'PRODUCTIVITY': 3.892148014440433, 'PARENTING': 0.6543321299638989, 'WEATHER': 0.8009927797833934, 'VIDEO_PLAYERS': 1.7937725631768955, 'NEWS_AND_MAGAZINES': 2.7978339350180503, 'MAPS_AND_NAVIGATION': 1.3989169675090252}\n"
     ]
    }
   ],
   "source": [
    "def frequence_table(dataset,index):\n",
    "    proportion = {}\n",
    "    dictionary = {}\n",
    "    for row in dataset:\n",
    "        genre = row[index]\n",
    "        if genre in dictionary:\n",
    "            dictionary[genre] +=1\n",
    "            proportion[genre] = dictionary[genre]/len(dataset)*100\n",
    "        else:\n",
    "            dictionary[genre] = 1\n",
    "            proportion[genre] = dictionary[genre]/len(dataset)*100\n",
    "    return proportion\n",
    "            \n",
    "\n",
    "ANDROID_frequency = frequence_table(android_finalclean,1)\n",
    "#print(ANDROID_frequency)\n",
    "\n",
    "print('This is the unsorted relative frequency table for Google Play Data Set')\n",
    "print('\\n')\n",
    "print(ANDROID_frequency)\n",
    "\n",
    "    \n",
    "    "
   ]
  },
  {
   "cell_type": "markdown",
   "metadata": {},
   "source": [
    "The following code sort the dictionary in descending order of frequence by using a written function called `display_table`."
   ]
  },
  {
   "cell_type": "code",
   "execution_count": 15,
   "metadata": {},
   "outputs": [
    {
     "name": "stdout",
     "output_type": "stream",
     "text": [
      "Category relative frequence for Google Play Data Set\n",
      "FAMILY : 18.907942238267147\n",
      "GAME : 9.724729241877256\n",
      "TOOLS : 8.461191335740072\n",
      "BUSINESS : 4.591606498194946\n",
      "LIFESTYLE : 3.9034296028880866\n",
      "PRODUCTIVITY : 3.892148014440433\n",
      "FINANCE : 3.7003610108303246\n",
      "MEDICAL : 3.531137184115524\n",
      "SPORTS : 3.395758122743682\n",
      "PERSONALIZATION : 3.3167870036101084\n",
      "COMMUNICATION : 3.2378158844765346\n",
      "HEALTH_AND_FITNESS : 3.0798736462093865\n",
      "PHOTOGRAPHY : 2.944494584837545\n",
      "NEWS_AND_MAGAZINES : 2.7978339350180503\n",
      "SOCIAL : 2.6624548736462095\n",
      "TRAVEL_AND_LOCAL : 2.33528880866426\n",
      "SHOPPING : 2.2450361010830324\n",
      "BOOKS_AND_REFERENCE : 2.1435018050541514\n",
      "DATING : 1.861462093862816\n",
      "VIDEO_PLAYERS : 1.7937725631768955\n",
      "MAPS_AND_NAVIGATION : 1.3989169675090252\n",
      "FOOD_AND_DRINK : 1.2409747292418771\n",
      "EDUCATION : 1.1620036101083033\n",
      "ENTERTAINMENT : 0.9589350180505415\n",
      "LIBRARIES_AND_DEMO : 0.9363718411552346\n",
      "AUTO_AND_VEHICLES : 0.9250902527075812\n",
      "HOUSE_AND_HOME : 0.8235559566787004\n",
      "WEATHER : 0.8009927797833934\n",
      "EVENTS : 0.7107400722021661\n",
      "PARENTING : 0.6543321299638989\n",
      "ART_AND_DESIGN : 0.6430505415162455\n",
      "COMICS : 0.6204873646209386\n",
      "BEAUTY : 0.5979241877256317\n",
      "\n",
      "\n",
      "Genre relative frequence for Google Play Data Set\n",
      "Tools : 8.449909747292418\n",
      "Entertainment : 6.069494584837545\n",
      "Education : 5.347472924187725\n",
      "Business : 4.591606498194946\n",
      "Productivity : 3.892148014440433\n",
      "Lifestyle : 3.892148014440433\n",
      "Finance : 3.7003610108303246\n",
      "Medical : 3.531137184115524\n",
      "Sports : 3.463447653429603\n",
      "Personalization : 3.3167870036101084\n",
      "Communication : 3.2378158844765346\n",
      "Action : 3.1024368231046933\n",
      "Health & Fitness : 3.0798736462093865\n",
      "Photography : 2.944494584837545\n",
      "News & Magazines : 2.7978339350180503\n",
      "Social : 2.6624548736462095\n",
      "Travel & Local : 2.3240072202166067\n",
      "Shopping : 2.2450361010830324\n",
      "Books & Reference : 2.1435018050541514\n",
      "Simulation : 2.0419675090252705\n",
      "Dating : 1.861462093862816\n",
      "Arcade : 1.8501805054151623\n",
      "Video Players & Editors : 1.7712093862815883\n",
      "Casual : 1.7599277978339352\n",
      "Maps & Navigation : 1.3989169675090252\n",
      "Food & Drink : 1.2409747292418771\n",
      "Puzzle : 1.128158844765343\n",
      "Racing : 0.9927797833935018\n",
      "Role Playing : 0.9363718411552346\n",
      "Libraries & Demo : 0.9363718411552346\n",
      "Auto & Vehicles : 0.9250902527075812\n",
      "Strategy : 0.9138086642599278\n",
      "House & Home : 0.8235559566787004\n",
      "Weather : 0.8009927797833934\n",
      "Events : 0.7107400722021661\n",
      "Adventure : 0.6768953068592057\n",
      "Comics : 0.6092057761732852\n",
      "Beauty : 0.5979241877256317\n",
      "Art & Design : 0.5979241877256317\n",
      "Parenting : 0.4963898916967509\n",
      "Card : 0.45126353790613716\n",
      "Casino : 0.42870036101083037\n",
      "Trivia : 0.41741877256317694\n",
      "Educational;Education : 0.39485559566787\n",
      "Board : 0.3835740072202166\n",
      "Educational : 0.3722924187725632\n",
      "Education;Education : 0.33844765342960287\n",
      "Word : 0.2594765342960289\n",
      "Casual;Pretend Play : 0.236913357400722\n",
      "Music : 0.2030685920577617\n",
      "Racing;Action & Adventure : 0.16922382671480143\n",
      "Puzzle;Brain Games : 0.16922382671480143\n",
      "Entertainment;Music & Video : 0.16922382671480143\n",
      "Casual;Brain Games : 0.13537906137184114\n",
      "Casual;Action & Adventure : 0.13537906137184114\n",
      "Arcade;Action & Adventure : 0.12409747292418773\n",
      "Action;Action & Adventure : 0.10153429602888085\n",
      "Educational;Pretend Play : 0.09025270758122744\n",
      "Simulation;Action & Adventure : 0.078971119133574\n",
      "Parenting;Education : 0.078971119133574\n",
      "Entertainment;Brain Games : 0.078971119133574\n",
      "Board;Brain Games : 0.078971119133574\n",
      "Parenting;Music & Video : 0.06768953068592057\n",
      "Educational;Brain Games : 0.06768953068592057\n",
      "Casual;Creativity : 0.06768953068592057\n",
      "Art & Design;Creativity : 0.06768953068592057\n",
      "Education;Pretend Play : 0.056407942238267145\n",
      "Role Playing;Pretend Play : 0.04512635379061372\n",
      "Education;Creativity : 0.04512635379061372\n",
      "Role Playing;Action & Adventure : 0.033844765342960284\n",
      "Puzzle;Action & Adventure : 0.033844765342960284\n",
      "Entertainment;Creativity : 0.033844765342960284\n",
      "Entertainment;Action & Adventure : 0.033844765342960284\n",
      "Educational;Creativity : 0.033844765342960284\n",
      "Educational;Action & Adventure : 0.033844765342960284\n",
      "Education;Music & Video : 0.033844765342960284\n",
      "Education;Brain Games : 0.033844765342960284\n",
      "Education;Action & Adventure : 0.033844765342960284\n",
      "Adventure;Action & Adventure : 0.033844765342960284\n",
      "Video Players & Editors;Music & Video : 0.02256317689530686\n",
      "Sports;Action & Adventure : 0.02256317689530686\n",
      "Simulation;Pretend Play : 0.02256317689530686\n",
      "Puzzle;Creativity : 0.02256317689530686\n",
      "Music;Music & Video : 0.02256317689530686\n",
      "Entertainment;Pretend Play : 0.02256317689530686\n",
      "Casual;Education : 0.02256317689530686\n",
      "Board;Action & Adventure : 0.02256317689530686\n",
      "Video Players & Editors;Creativity : 0.01128158844765343\n",
      "Trivia;Education : 0.01128158844765343\n",
      "Travel & Local;Action & Adventure : 0.01128158844765343\n",
      "Tools;Education : 0.01128158844765343\n",
      "Strategy;Education : 0.01128158844765343\n",
      "Strategy;Creativity : 0.01128158844765343\n",
      "Strategy;Action & Adventure : 0.01128158844765343\n",
      "Simulation;Education : 0.01128158844765343\n",
      "Role Playing;Brain Games : 0.01128158844765343\n",
      "Racing;Pretend Play : 0.01128158844765343\n",
      "Puzzle;Education : 0.01128158844765343\n",
      "Parenting;Brain Games : 0.01128158844765343\n",
      "Music & Audio;Music & Video : 0.01128158844765343\n",
      "Lifestyle;Pretend Play : 0.01128158844765343\n",
      "Lifestyle;Education : 0.01128158844765343\n",
      "Health & Fitness;Education : 0.01128158844765343\n",
      "Health & Fitness;Action & Adventure : 0.01128158844765343\n",
      "Entertainment;Education : 0.01128158844765343\n",
      "Communication;Creativity : 0.01128158844765343\n",
      "Comics;Creativity : 0.01128158844765343\n",
      "Casual;Music & Video : 0.01128158844765343\n",
      "Card;Action & Adventure : 0.01128158844765343\n",
      "Books & Reference;Education : 0.01128158844765343\n",
      "Art & Design;Pretend Play : 0.01128158844765343\n",
      "Art & Design;Action & Adventure : 0.01128158844765343\n",
      "Arcade;Pretend Play : 0.01128158844765343\n",
      "Adventure;Education : 0.01128158844765343\n"
     ]
    }
   ],
   "source": [
    "def display_table(dataset, index):\n",
    "    table = frequence_table(dataset, index)\n",
    "    table_display = []\n",
    "    for key in table:\n",
    "        key_val_as_tuple = (table[key], key)\n",
    "        table_display.append(key_val_as_tuple)\n",
    "\n",
    "    table_sorted = sorted(table_display, reverse = True)\n",
    "    for entry in table_sorted:\n",
    "        print(entry[1], ':', entry[0])\n",
    "\n",
    "print('Category relative frequence for Google Play Data Set')\n",
    "display_table(android_finalclean,1)\n",
    "print('\\n')\n",
    "print('Genre relative frequence for Google Play Data Set')\n",
    "display_table(android_finalclean,9)\n"
   ]
  },
  {
   "cell_type": "code",
   "execution_count": 16,
   "metadata": {},
   "outputs": [
    {
     "name": "stdout",
     "output_type": "stream",
     "text": [
      "Table2. Prime Genre relative frequence for Apple Store Data Set\n",
      "Games : 58.16263190564867\n",
      "Entertainment : 7.883302296710118\n",
      "Photo & Video : 4.9658597144630665\n",
      "Education : 3.662321539416512\n",
      "Social Networking : 3.2898820608317814\n",
      "Shopping : 2.60707635009311\n",
      "Utilities : 2.5139664804469275\n",
      "Sports : 2.1415270018621975\n",
      "Music : 2.0484171322160147\n",
      "Health & Fitness : 2.0173805090006205\n",
      "Productivity : 1.7380509000620732\n",
      "Lifestyle : 1.5828677839851024\n",
      "News : 1.3345747982619491\n",
      "Travel : 1.2414649286157666\n",
      "Finance : 1.1173184357541899\n",
      "Weather : 0.8690254500310366\n",
      "Food & Drink : 0.8069522036002483\n",
      "Reference : 0.5586592178770949\n",
      "Business : 0.5276225946617008\n",
      "Book : 0.4345127250155183\n",
      "Navigation : 0.186219739292365\n",
      "Medical : 0.186219739292365\n",
      "Catalogs : 0.12414649286157665\n"
     ]
    }
   ],
   "source": [
    "print('Table2. Prime Genre relative frequence for Apple Store Data Set')\n",
    "display_table(ios_finalclean,-5)"
   ]
  },
  {
   "cell_type": "markdown",
   "metadata": {},
   "source": [
    "## 3.2 Results and Discussion"
   ]
  },
  {
   "cell_type": "markdown",
   "metadata": {},
   "source": [
    "1. FOR **IOS**:\n",
    " \n",
    " - It can be seen in Table 2, that the majority of English free apps are entertaiment related. Games account for 58% of the total. However, it does not mean they are the most profitable (have highest numbers of users).\n",
    " \n",
    "2- FOR **ANDROID**\n",
    " - It can be seen from table 1 from Google Play Data Set that the categories Family, Game and Tools accounts for 37% percent of the apps. It can be seen a different picture from IOS market. A significant percentage of apps are not entertainment purposed.When we analyze by genre, it is possible to see a more homogeneous distribution and lot of genres lying between zero and one percent frequence. This may be due to the huge amount of genre classification Google Play store allows."
   ]
  },
  {
   "cell_type": "markdown",
   "metadata": {},
   "source": [
    "# 4. Averaged number of Users Analysis"
   ]
  },
  {
   "cell_type": "markdown",
   "metadata": {},
   "source": [
    "The following code is intended to calculate the average number of users by genre in Google Play and Apple Store final Data Sets."
   ]
  },
  {
   "cell_type": "code",
   "execution_count": 17,
   "metadata": {},
   "outputs": [
    {
     "name": "stdout",
     "output_type": "stream",
     "text": [
      "Rank of averaged Apple Store app users by Genre\n",
      "\n",
      "\n",
      "Navigation : 86090.33333333333\n",
      "Reference : 74942.11111111111\n",
      "Social Networking : 71548.34905660375\n",
      "Music : 57326.530303030326\n",
      "Weather : 52279.89285714287\n",
      "Book : 39758.5\n",
      "Food & Drink : 33333.923076923085\n",
      "Finance : 31467.944444444445\n",
      "Photo & Video : 28441.543749999993\n",
      "Travel : 28243.799999999992\n",
      "Shopping : 26919.690476190473\n",
      "Health & Fitness : 23298.01538461538\n",
      "Sports : 23008.89855072465\n",
      "Games : 22788.669690501574\n",
      "News : 21248.023255813954\n",
      "Productivity : 21028.41071428573\n",
      "Utilities : 18684.45679012345\n",
      "Lifestyle : 16485.764705882353\n",
      "Entertainment : 14029.830708661415\n",
      "Business : 7491.117647058824\n",
      "Education : 7003.983050847457\n",
      "Catalogs : 4004.0\n",
      "Medical : 612.0\n",
      "None\n",
      "\n",
      "\n",
      "Rank of averaged Google Play users by Genre\n",
      "\n",
      "\n",
      "COMMUNICATION : 38456119.16724742\n",
      "VIDEO_PLAYERS : 24727872.452830214\n",
      "SOCIAL : 23253652.127118677\n",
      "PHOTOGRAPHY : 17840110.402298864\n",
      "PRODUCTIVITY : 16787331.3449275\n",
      "GAME : 15588015.603248302\n",
      "TRAVEL_AND_LOCAL : 13984077.71014492\n",
      "ENTERTAINMENT : 11640705.882352963\n",
      "TOOLS : 10801391.298666695\n",
      "NEWS_AND_MAGAZINES : 9549178.467741938\n",
      "BOOKS_AND_REFERENCE : 8767811.894736832\n",
      "SHOPPING : 7036877.31155779\n",
      "PERSONALIZATION : 5201482.612244875\n",
      "WEATHER : 5074486.197183099\n",
      "HEALTH_AND_FITNESS : 4188821.985347981\n",
      "MAPS_AND_NAVIGATION : 4056941.7741935463\n",
      "FAMILY : 3695641.819809198\n",
      "SPORTS : 3638640.1428571404\n",
      "ART_AND_DESIGN : 1986335.0877192996\n",
      "FOOD_AND_DRINK : 1924897.7363636356\n",
      "EDUCATION : 1833495.1456310663\n",
      "BUSINESS : 1712290.1474201493\n",
      "LIFESTYLE : 1437816.268786131\n",
      "FINANCE : 1387692.4756097558\n",
      "HOUSE_AND_HOME : 1331540.5616438352\n",
      "DATING : 854028.8303030285\n",
      "COMICS : 817657.2727272728\n",
      "AUTO_AND_VEHICLES : 647317.8170731703\n",
      "LIBRARIES_AND_DEMO : 638503.7349397584\n",
      "PARENTING : 542603.6206896551\n",
      "BEAUTY : 513151.8867924529\n",
      "EVENTS : 253542.22222222245\n",
      "MEDICAL : 120550.61980830604\n",
      "None\n"
     ]
    }
   ],
   "source": [
    "#Apple Store\n",
    "def average_users_ios(dataset,genre_idx,users_idx):\n",
    "    nusers = {} #dictionary for total number of users\n",
    "    table = frequence_table(dataset, genre_idx)\n",
    "    for i in dataset:\n",
    "        genre = i[genre_idx]\n",
    "        users = float(i[users_idx])\n",
    "        if genre not in nusers:\n",
    "            nusers[genre] = users/(table[genre]*len(dataset)/100)\n",
    "        else:\n",
    "            nusers[genre] += users/(table[genre]*len(dataset)/100)\n",
    "    return nusers\n",
    "\n",
    "\n",
    "def display_table2(table):\n",
    "    table_display = []\n",
    "    for key in table:\n",
    "        key_val_as_tuple = (table[key], key)\n",
    "        table_display.append(key_val_as_tuple)\n",
    "\n",
    "    table_sorted = sorted(table_display, reverse = True)\n",
    "    for entry in table_sorted:\n",
    "        print(entry[1], ':', entry[0])\n",
    "\n",
    "test = average_users_ios(ios_finalclean,-5,5) \n",
    "print('Rank of averaged Apple Store app users by Genre')       \n",
    "print('\\n')\n",
    "print(display_table2(test))\n",
    "print('\\n')\n",
    "\n",
    "\n",
    "#Google Play\n",
    "def average_users_android(dataset,genre_idx,users_idx):\n",
    "    nusers = {} #dictionary for total number of users\n",
    "    table = frequence_table(dataset, genre_idx)\n",
    "    for i in dataset:\n",
    "        genre = i[genre_idx]\n",
    "        installs = i[users_idx]\n",
    "        installs1 = installs.replace('+', '')\n",
    "        installs2 = installs1.replace(',', '')\n",
    "        users = float(installs2)\n",
    "        if genre not in nusers:\n",
    "            nusers[genre] = users/(table[genre]*len(dataset)/100)\n",
    "        else:\n",
    "            nusers[genre] += users/(table[genre]*len(dataset)/100)\n",
    "    return nusers\n",
    "test2 = average_users_android(android_finalclean,1,5)\n",
    "print('Rank of averaged Google Play users by Genre')       \n",
    "print('\\n')\n",
    "print(display_table2(test2))\n",
    "\n",
    "        "
   ]
  },
  {
   "cell_type": "markdown",
   "metadata": {},
   "source": [
    "## 4.1. Results and Discussion"
   ]
  },
  {
   "cell_type": "markdown",
   "metadata": {},
   "source": [
    "Based on the average users results on the previous section, it can be seen that for Apple Store, navigation apps are the most used. However this result is skewed since few apps concentrates the majority of users, thus the averaged number of users (users/number_of_apps) is very high. As example we can cite, Google Maps, Waze. \n",
    "\n",
    "The same happens for social networking such as Facebook, Twitter and Instagram. I could perform a few calculations to show a Paretto chart showing with the cumulative proportion of average users in the y axis and the ordinal variables in the x axis and we would able to see that few apps would respond to the majority of users. \n",
    "\n",
    "Thus it would not be a good choice to develop apps with such market. Its worth doing the referred chart at least for top 10 apps and choosing a treshold to pick apps that are not too close or to far from the most \"concentrated region\"."
   ]
  }
 ],
 "metadata": {
  "kernelspec": {
   "display_name": "Python 3",
   "language": "python",
   "name": "python3"
  },
  "language_info": {
   "codemirror_mode": {
    "name": "ipython",
    "version": 3
   },
   "file_extension": ".py",
   "mimetype": "text/x-python",
   "name": "python",
   "nbconvert_exporter": "python",
   "pygments_lexer": "ipython3",
   "version": "3.7.4"
  }
 },
 "nbformat": 4,
 "nbformat_minor": 2
}
