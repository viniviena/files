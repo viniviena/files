{
  "nbformat": 4,
  "nbformat_minor": 0,
  "metadata": {
    "anaconda-cloud": {},
    "kernelspec": {
      "display_name": "Python 3",
      "language": "python",
      "name": "python3"
    },
    "language_info": {
      "codemirror_mode": {
        "name": "ipython",
        "version": 3
      },
      "file_extension": ".py",
      "mimetype": "text/x-python",
      "name": "python",
      "nbconvert_exporter": "python",
      "pygments_lexer": "ipython3",
      "version": "3.4.3"
    },
    "colab": {
      "name": "LinearRegression.ipynb",
      "provenance": []
    }
  },
  "cells": [
    {
      "cell_type": "code",
      "metadata": {
        "id": "nIIjWdMrHX8V"
      },
      "source": [
        "import matplotlib.pyplot as plt\n",
        "import pandas as pd\n",
        "from sklearn.metrics import mean_squared_error\n",
        "from sklearn.linear_model import LinearRegression\n",
        "from sklearn.preprocessing import MinMaxScaler\n",
        "from sklearn.model_selection import train_test_split"
      ],
      "execution_count": null,
      "outputs": []
    },
    {
      "cell_type": "code",
      "metadata": {
        "id": "tY_vlIr8HX8l"
      },
      "source": [
        "data = pd.read_table('AmesHousing.tsv')"
      ],
      "execution_count": null,
      "outputs": []
    },
    {
      "cell_type": "markdown",
      "metadata": {
        "id": "yn7K89fqHX8q"
      },
      "source": [
        "Missing value inputation should be done before splliting to prevent train_test leakage! It does not metter if worse the performance. \n",
        "You cannot use any information from test set when training."
      ]
    },
    {
      "cell_type": "code",
      "metadata": {
        "id": "XVej1W7xHX8r"
      },
      "source": [
        "def predictor(features):\n",
        "    #features = ['Gr Liv Area']\n",
        "    x = data[features]\n",
        "    y = data['SalePrice']\n",
        "    x_train,x_test,y_train,y_test = train_test_split(x,y,random_state=42,test_size = 1- .49829351535836175)\n",
        "    scaler = MinMaxScaler()\n",
        "    x_train_scaled = scaler.fit_transform(x_train)\n",
        "    x_test_scaled = scaler.transform(x_test)\n",
        "    lr = LinearRegression()\n",
        "    lr.fit(x_train,y_train)\n",
        "    predictions = lr.predict(x_test)\n",
        "    rmse = mean_squared_error(y_test,predictions)**.5\n",
        "    return rmse"
      ],
      "execution_count": null,
      "outputs": []
    },
    {
      "cell_type": "code",
      "metadata": {
        "id": "0F5d3ufOHX8u",
        "outputId": "44adaad6-32bb-4c06-ff9e-62c0175f48e0"
      },
      "source": [
        "predictor(['Gr Liv Area'])"
      ],
      "execution_count": null,
      "outputs": [
        {
          "output_type": "execute_result",
          "data": {
            "text/plain": [
              "57834.20956644962"
            ]
          },
          "metadata": {
            "tags": []
          },
          "execution_count": 4
        }
      ]
    },
    {
      "cell_type": "markdown",
      "metadata": {
        "collapsed": true,
        "id": "_7QEe9QYHX80"
      },
      "source": [
        "Let's explore the data set before diving into feature transformation and so on"
      ]
    },
    {
      "cell_type": "code",
      "metadata": {
        "id": "tlC2FAInHX81",
        "outputId": "8e5055da-7c5a-461a-a69f-0eff30684f22"
      },
      "source": [
        "data.info()"
      ],
      "execution_count": null,
      "outputs": [
        {
          "output_type": "stream",
          "text": [
            "<class 'pandas.core.frame.DataFrame'>\n",
            "RangeIndex: 2930 entries, 0 to 2929\n",
            "Data columns (total 82 columns):\n",
            "Order              2930 non-null int64\n",
            "PID                2930 non-null int64\n",
            "MS SubClass        2930 non-null int64\n",
            "MS Zoning          2930 non-null object\n",
            "Lot Frontage       2440 non-null float64\n",
            "Lot Area           2930 non-null int64\n",
            "Street             2930 non-null object\n",
            "Alley              198 non-null object\n",
            "Lot Shape          2930 non-null object\n",
            "Land Contour       2930 non-null object\n",
            "Utilities          2930 non-null object\n",
            "Lot Config         2930 non-null object\n",
            "Land Slope         2930 non-null object\n",
            "Neighborhood       2930 non-null object\n",
            "Condition 1        2930 non-null object\n",
            "Condition 2        2930 non-null object\n",
            "Bldg Type          2930 non-null object\n",
            "House Style        2930 non-null object\n",
            "Overall Qual       2930 non-null int64\n",
            "Overall Cond       2930 non-null int64\n",
            "Year Built         2930 non-null int64\n",
            "Year Remod/Add     2930 non-null int64\n",
            "Roof Style         2930 non-null object\n",
            "Roof Matl          2930 non-null object\n",
            "Exterior 1st       2930 non-null object\n",
            "Exterior 2nd       2930 non-null object\n",
            "Mas Vnr Type       2907 non-null object\n",
            "Mas Vnr Area       2907 non-null float64\n",
            "Exter Qual         2930 non-null object\n",
            "Exter Cond         2930 non-null object\n",
            "Foundation         2930 non-null object\n",
            "Bsmt Qual          2850 non-null object\n",
            "Bsmt Cond          2850 non-null object\n",
            "Bsmt Exposure      2847 non-null object\n",
            "BsmtFin Type 1     2850 non-null object\n",
            "BsmtFin SF 1       2929 non-null float64\n",
            "BsmtFin Type 2     2849 non-null object\n",
            "BsmtFin SF 2       2929 non-null float64\n",
            "Bsmt Unf SF        2929 non-null float64\n",
            "Total Bsmt SF      2929 non-null float64\n",
            "Heating            2930 non-null object\n",
            "Heating QC         2930 non-null object\n",
            "Central Air        2930 non-null object\n",
            "Electrical         2929 non-null object\n",
            "1st Flr SF         2930 non-null int64\n",
            "2nd Flr SF         2930 non-null int64\n",
            "Low Qual Fin SF    2930 non-null int64\n",
            "Gr Liv Area        2930 non-null int64\n",
            "Bsmt Full Bath     2928 non-null float64\n",
            "Bsmt Half Bath     2928 non-null float64\n",
            "Full Bath          2930 non-null int64\n",
            "Half Bath          2930 non-null int64\n",
            "Bedroom AbvGr      2930 non-null int64\n",
            "Kitchen AbvGr      2930 non-null int64\n",
            "Kitchen Qual       2930 non-null object\n",
            "TotRms AbvGrd      2930 non-null int64\n",
            "Functional         2930 non-null object\n",
            "Fireplaces         2930 non-null int64\n",
            "Fireplace Qu       1508 non-null object\n",
            "Garage Type        2773 non-null object\n",
            "Garage Yr Blt      2771 non-null float64\n",
            "Garage Finish      2771 non-null object\n",
            "Garage Cars        2929 non-null float64\n",
            "Garage Area        2929 non-null float64\n",
            "Garage Qual        2771 non-null object\n",
            "Garage Cond        2771 non-null object\n",
            "Paved Drive        2930 non-null object\n",
            "Wood Deck SF       2930 non-null int64\n",
            "Open Porch SF      2930 non-null int64\n",
            "Enclosed Porch     2930 non-null int64\n",
            "3Ssn Porch         2930 non-null int64\n",
            "Screen Porch       2930 non-null int64\n",
            "Pool Area          2930 non-null int64\n",
            "Pool QC            13 non-null object\n",
            "Fence              572 non-null object\n",
            "Misc Feature       106 non-null object\n",
            "Misc Val           2930 non-null int64\n",
            "Mo Sold            2930 non-null int64\n",
            "Yr Sold            2930 non-null int64\n",
            "Sale Type          2930 non-null object\n",
            "Sale Condition     2930 non-null object\n",
            "SalePrice          2930 non-null int64\n",
            "dtypes: float64(11), int64(28), object(43)\n",
            "memory usage: 1.8+ MB\n"
          ],
          "name": "stdout"
        }
      ]
    },
    {
      "cell_type": "code",
      "metadata": {
        "id": "ULB3Jpq_HX85",
        "outputId": "4871aecc-f4ce-4bd7-ecd6-2d2e10acda23"
      },
      "source": [
        "data.head(5)"
      ],
      "execution_count": null,
      "outputs": [
        {
          "output_type": "execute_result",
          "data": {
            "text/html": [
              "<div>\n",
              "<style scoped>\n",
              "    .dataframe tbody tr th:only-of-type {\n",
              "        vertical-align: middle;\n",
              "    }\n",
              "\n",
              "    .dataframe tbody tr th {\n",
              "        vertical-align: top;\n",
              "    }\n",
              "\n",
              "    .dataframe thead th {\n",
              "        text-align: right;\n",
              "    }\n",
              "</style>\n",
              "<table border=\"1\" class=\"dataframe\">\n",
              "  <thead>\n",
              "    <tr style=\"text-align: right;\">\n",
              "      <th></th>\n",
              "      <th>Order</th>\n",
              "      <th>PID</th>\n",
              "      <th>MS SubClass</th>\n",
              "      <th>MS Zoning</th>\n",
              "      <th>Lot Frontage</th>\n",
              "      <th>Lot Area</th>\n",
              "      <th>Street</th>\n",
              "      <th>Alley</th>\n",
              "      <th>Lot Shape</th>\n",
              "      <th>Land Contour</th>\n",
              "      <th>...</th>\n",
              "      <th>Pool Area</th>\n",
              "      <th>Pool QC</th>\n",
              "      <th>Fence</th>\n",
              "      <th>Misc Feature</th>\n",
              "      <th>Misc Val</th>\n",
              "      <th>Mo Sold</th>\n",
              "      <th>Yr Sold</th>\n",
              "      <th>Sale Type</th>\n",
              "      <th>Sale Condition</th>\n",
              "      <th>SalePrice</th>\n",
              "    </tr>\n",
              "  </thead>\n",
              "  <tbody>\n",
              "    <tr>\n",
              "      <th>0</th>\n",
              "      <td>1</td>\n",
              "      <td>526301100</td>\n",
              "      <td>20</td>\n",
              "      <td>RL</td>\n",
              "      <td>141.0</td>\n",
              "      <td>31770</td>\n",
              "      <td>Pave</td>\n",
              "      <td>NaN</td>\n",
              "      <td>IR1</td>\n",
              "      <td>Lvl</td>\n",
              "      <td>...</td>\n",
              "      <td>0</td>\n",
              "      <td>NaN</td>\n",
              "      <td>NaN</td>\n",
              "      <td>NaN</td>\n",
              "      <td>0</td>\n",
              "      <td>5</td>\n",
              "      <td>2010</td>\n",
              "      <td>WD</td>\n",
              "      <td>Normal</td>\n",
              "      <td>215000</td>\n",
              "    </tr>\n",
              "    <tr>\n",
              "      <th>1</th>\n",
              "      <td>2</td>\n",
              "      <td>526350040</td>\n",
              "      <td>20</td>\n",
              "      <td>RH</td>\n",
              "      <td>80.0</td>\n",
              "      <td>11622</td>\n",
              "      <td>Pave</td>\n",
              "      <td>NaN</td>\n",
              "      <td>Reg</td>\n",
              "      <td>Lvl</td>\n",
              "      <td>...</td>\n",
              "      <td>0</td>\n",
              "      <td>NaN</td>\n",
              "      <td>MnPrv</td>\n",
              "      <td>NaN</td>\n",
              "      <td>0</td>\n",
              "      <td>6</td>\n",
              "      <td>2010</td>\n",
              "      <td>WD</td>\n",
              "      <td>Normal</td>\n",
              "      <td>105000</td>\n",
              "    </tr>\n",
              "    <tr>\n",
              "      <th>2</th>\n",
              "      <td>3</td>\n",
              "      <td>526351010</td>\n",
              "      <td>20</td>\n",
              "      <td>RL</td>\n",
              "      <td>81.0</td>\n",
              "      <td>14267</td>\n",
              "      <td>Pave</td>\n",
              "      <td>NaN</td>\n",
              "      <td>IR1</td>\n",
              "      <td>Lvl</td>\n",
              "      <td>...</td>\n",
              "      <td>0</td>\n",
              "      <td>NaN</td>\n",
              "      <td>NaN</td>\n",
              "      <td>Gar2</td>\n",
              "      <td>12500</td>\n",
              "      <td>6</td>\n",
              "      <td>2010</td>\n",
              "      <td>WD</td>\n",
              "      <td>Normal</td>\n",
              "      <td>172000</td>\n",
              "    </tr>\n",
              "    <tr>\n",
              "      <th>3</th>\n",
              "      <td>4</td>\n",
              "      <td>526353030</td>\n",
              "      <td>20</td>\n",
              "      <td>RL</td>\n",
              "      <td>93.0</td>\n",
              "      <td>11160</td>\n",
              "      <td>Pave</td>\n",
              "      <td>NaN</td>\n",
              "      <td>Reg</td>\n",
              "      <td>Lvl</td>\n",
              "      <td>...</td>\n",
              "      <td>0</td>\n",
              "      <td>NaN</td>\n",
              "      <td>NaN</td>\n",
              "      <td>NaN</td>\n",
              "      <td>0</td>\n",
              "      <td>4</td>\n",
              "      <td>2010</td>\n",
              "      <td>WD</td>\n",
              "      <td>Normal</td>\n",
              "      <td>244000</td>\n",
              "    </tr>\n",
              "    <tr>\n",
              "      <th>4</th>\n",
              "      <td>5</td>\n",
              "      <td>527105010</td>\n",
              "      <td>60</td>\n",
              "      <td>RL</td>\n",
              "      <td>74.0</td>\n",
              "      <td>13830</td>\n",
              "      <td>Pave</td>\n",
              "      <td>NaN</td>\n",
              "      <td>IR1</td>\n",
              "      <td>Lvl</td>\n",
              "      <td>...</td>\n",
              "      <td>0</td>\n",
              "      <td>NaN</td>\n",
              "      <td>MnPrv</td>\n",
              "      <td>NaN</td>\n",
              "      <td>0</td>\n",
              "      <td>3</td>\n",
              "      <td>2010</td>\n",
              "      <td>WD</td>\n",
              "      <td>Normal</td>\n",
              "      <td>189900</td>\n",
              "    </tr>\n",
              "  </tbody>\n",
              "</table>\n",
              "<p>5 rows × 82 columns</p>\n",
              "</div>"
            ],
            "text/plain": [
              "   Order        PID  MS SubClass MS Zoning  Lot Frontage  Lot Area Street  \\\n",
              "0      1  526301100           20        RL         141.0     31770   Pave   \n",
              "1      2  526350040           20        RH          80.0     11622   Pave   \n",
              "2      3  526351010           20        RL          81.0     14267   Pave   \n",
              "3      4  526353030           20        RL          93.0     11160   Pave   \n",
              "4      5  527105010           60        RL          74.0     13830   Pave   \n",
              "\n",
              "  Alley Lot Shape Land Contour    ...     Pool Area Pool QC  Fence  \\\n",
              "0   NaN       IR1          Lvl    ...             0     NaN    NaN   \n",
              "1   NaN       Reg          Lvl    ...             0     NaN  MnPrv   \n",
              "2   NaN       IR1          Lvl    ...             0     NaN    NaN   \n",
              "3   NaN       Reg          Lvl    ...             0     NaN    NaN   \n",
              "4   NaN       IR1          Lvl    ...             0     NaN  MnPrv   \n",
              "\n",
              "  Misc Feature Misc Val Mo Sold Yr Sold Sale Type  Sale Condition  SalePrice  \n",
              "0          NaN        0       5    2010       WD           Normal     215000  \n",
              "1          NaN        0       6    2010       WD           Normal     105000  \n",
              "2         Gar2    12500       6    2010       WD           Normal     172000  \n",
              "3          NaN        0       4    2010       WD           Normal     244000  \n",
              "4          NaN        0       3    2010       WD           Normal     189900  \n",
              "\n",
              "[5 rows x 82 columns]"
            ]
          },
          "metadata": {
            "tags": []
          },
          "execution_count": 6
        }
      ]
    },
    {
      "cell_type": "markdown",
      "metadata": {
        "id": "cjwlbwjyHX88"
      },
      "source": [
        "First of all, let's remove columns with more than 5% of missing values. There is no rule to this, but 5% is a good start."
      ]
    },
    {
      "cell_type": "code",
      "metadata": {
        "id": "s5Wt9gPNHX89",
        "outputId": "b6733a05-2305-493b-ece4-19516bc0aa49"
      },
      "source": [
        "cutoff = int(len(data)*.05)\n",
        "print(cutoff)"
      ],
      "execution_count": null,
      "outputs": [
        {
          "output_type": "stream",
          "text": [
            "146\n"
          ],
          "name": "stdout"
        }
      ]
    },
    {
      "cell_type": "code",
      "metadata": {
        "id": "ilNfEkL3HX9A"
      },
      "source": [
        "missing_data = data.isnull().sum()"
      ],
      "execution_count": null,
      "outputs": []
    },
    {
      "cell_type": "code",
      "metadata": {
        "id": "wGIIYG7eHX9D",
        "outputId": "e18cfa5e-26b4-474f-ab94-b5f9b4c6fee8"
      },
      "source": [
        "missing_data_5 = missing_data[(missing_data >=0) & (missing_data < cutoff)]\n",
        "print('there are', len(missing_data), 'columns')\n",
        "print('\\n')\n",
        "print('there are', len(missing_data_5),'columns with less than 5% missing values')"
      ],
      "execution_count": null,
      "outputs": [
        {
          "output_type": "stream",
          "text": [
            "there are 82 columns\n",
            "\n",
            "\n",
            "there are 71 columns with less than 5% missing values\n"
          ],
          "name": "stdout"
        }
      ]
    },
    {
      "cell_type": "code",
      "metadata": {
        "id": "DCzv3pGUHX9F"
      },
      "source": [
        "data2 = data[missing_data_5.index] # Creates a new dataframe with selected columns"
      ],
      "execution_count": null,
      "outputs": []
    },
    {
      "cell_type": "markdown",
      "metadata": {
        "id": "dZUYdSx7HX9J"
      },
      "source": [
        "Let's check the new data frame `data2` information"
      ]
    },
    {
      "cell_type": "code",
      "metadata": {
        "id": "a9CwcDjaHX9K",
        "outputId": "1c06fc9e-8ec9-4964-efc4-478e48f7724b"
      },
      "source": [
        "data2.info()"
      ],
      "execution_count": null,
      "outputs": [
        {
          "output_type": "stream",
          "text": [
            "<class 'pandas.core.frame.DataFrame'>\n",
            "RangeIndex: 2930 entries, 0 to 2929\n",
            "Data columns (total 71 columns):\n",
            "Order              2930 non-null int64\n",
            "PID                2930 non-null int64\n",
            "MS SubClass        2930 non-null int64\n",
            "MS Zoning          2930 non-null object\n",
            "Lot Area           2930 non-null int64\n",
            "Street             2930 non-null object\n",
            "Lot Shape          2930 non-null object\n",
            "Land Contour       2930 non-null object\n",
            "Utilities          2930 non-null object\n",
            "Lot Config         2930 non-null object\n",
            "Land Slope         2930 non-null object\n",
            "Neighborhood       2930 non-null object\n",
            "Condition 1        2930 non-null object\n",
            "Condition 2        2930 non-null object\n",
            "Bldg Type          2930 non-null object\n",
            "House Style        2930 non-null object\n",
            "Overall Qual       2930 non-null int64\n",
            "Overall Cond       2930 non-null int64\n",
            "Year Built         2930 non-null int64\n",
            "Year Remod/Add     2930 non-null int64\n",
            "Roof Style         2930 non-null object\n",
            "Roof Matl          2930 non-null object\n",
            "Exterior 1st       2930 non-null object\n",
            "Exterior 2nd       2930 non-null object\n",
            "Mas Vnr Type       2907 non-null object\n",
            "Mas Vnr Area       2907 non-null float64\n",
            "Exter Qual         2930 non-null object\n",
            "Exter Cond         2930 non-null object\n",
            "Foundation         2930 non-null object\n",
            "Bsmt Qual          2850 non-null object\n",
            "Bsmt Cond          2850 non-null object\n",
            "Bsmt Exposure      2847 non-null object\n",
            "BsmtFin Type 1     2850 non-null object\n",
            "BsmtFin SF 1       2929 non-null float64\n",
            "BsmtFin Type 2     2849 non-null object\n",
            "BsmtFin SF 2       2929 non-null float64\n",
            "Bsmt Unf SF        2929 non-null float64\n",
            "Total Bsmt SF      2929 non-null float64\n",
            "Heating            2930 non-null object\n",
            "Heating QC         2930 non-null object\n",
            "Central Air        2930 non-null object\n",
            "Electrical         2929 non-null object\n",
            "1st Flr SF         2930 non-null int64\n",
            "2nd Flr SF         2930 non-null int64\n",
            "Low Qual Fin SF    2930 non-null int64\n",
            "Gr Liv Area        2930 non-null int64\n",
            "Bsmt Full Bath     2928 non-null float64\n",
            "Bsmt Half Bath     2928 non-null float64\n",
            "Full Bath          2930 non-null int64\n",
            "Half Bath          2930 non-null int64\n",
            "Bedroom AbvGr      2930 non-null int64\n",
            "Kitchen AbvGr      2930 non-null int64\n",
            "Kitchen Qual       2930 non-null object\n",
            "TotRms AbvGrd      2930 non-null int64\n",
            "Functional         2930 non-null object\n",
            "Fireplaces         2930 non-null int64\n",
            "Garage Cars        2929 non-null float64\n",
            "Garage Area        2929 non-null float64\n",
            "Paved Drive        2930 non-null object\n",
            "Wood Deck SF       2930 non-null int64\n",
            "Open Porch SF      2930 non-null int64\n",
            "Enclosed Porch     2930 non-null int64\n",
            "3Ssn Porch         2930 non-null int64\n",
            "Screen Porch       2930 non-null int64\n",
            "Pool Area          2930 non-null int64\n",
            "Misc Val           2930 non-null int64\n",
            "Mo Sold            2930 non-null int64\n",
            "Yr Sold            2930 non-null int64\n",
            "Sale Type          2930 non-null object\n",
            "Sale Condition     2930 non-null object\n",
            "SalePrice          2930 non-null int64\n",
            "dtypes: float64(9), int64(28), object(34)\n",
            "memory usage: 1.6+ MB\n"
          ],
          "name": "stdout"
        }
      ]
    },
    {
      "cell_type": "markdown",
      "metadata": {
        "id": "4YjmRLxgHX9N"
      },
      "source": [
        "## Feature Engineering"
      ]
    },
    {
      "cell_type": "markdown",
      "metadata": {
        "id": "JYm_qW7VHX9N"
      },
      "source": [
        "This step is concerned to manipulate (drop, keep or combine) columns that are potential good predictors of our target variable, the Sale Price.\n",
        "\n",
        "1) First let's consider splitting numerical and categorical features in the data frame;\n",
        "\n",
        "2) Then, we can choose in each subset of variables, the better ones by using correlation coefficients and other techniques"
      ]
    },
    {
      "cell_type": "markdown",
      "metadata": {
        "id": "-PCB9t6gHX9O"
      },
      "source": [
        "Starting with numerical features, some of them can cause data leaking. \n",
        "\n",
        "A feature is a potential leaking source if its value is determined from the target value. \n",
        "\n",
        "It generally occurs in situtations in which the state of the feature can only be defined after (after here is literally with respect to time frame) the state of the target variable. \n",
        "\n",
        "Consider the 'Year Sold' feature. We can only know the year the house was sold **after** it was sold. \n",
        "\n",
        "In practice, when we start using a model to predict house price's, the year sold would not be available as information!"
      ]
    },
    {
      "cell_type": "markdown",
      "metadata": {
        "id": "nNtTS8PxHX9O"
      },
      "source": [
        "Concerning numerical features, the year and month sold is not useful to input in the model. Also `PID` and `Order`"
      ]
    },
    {
      "cell_type": "code",
      "metadata": {
        "id": "WtbPra5rHX9P"
      },
      "source": [
        "#Dropping Year and Month sold\n",
        "data2 = data2.copy()\n",
        "data2 = data2.drop(columns =['PID','Order','Mo Sold'])"
      ],
      "execution_count": null,
      "outputs": []
    },
    {
      "cell_type": "markdown",
      "metadata": {
        "id": "kaIoMWX2HX9R"
      },
      "source": [
        "Some numerical features are prone to subjectivity or even worse, unpractical to assess in many new houses. \n",
        "\n",
        "This is the case for example of `overall quality` and `Overall condition`. The cost to create such information may be very high and very subjective! We want to be able to predict the target with the minimum number of features that are easy to measure. Think if you work for a \"Corretora\" que quer fazer estimativa do preco de venda das casa. Quanto mais informacao vc precisar, mais vai demorar sua estimativa!"
      ]
    },
    {
      "cell_type": "code",
      "metadata": {
        "id": "fWh7EJ7AHX9R",
        "outputId": "d2905c51-90c2-4545-f4ec-6a13b3fac72f"
      },
      "source": [
        "data2.columns"
      ],
      "execution_count": null,
      "outputs": [
        {
          "output_type": "execute_result",
          "data": {
            "text/plain": [
              "Index(['MS SubClass', 'MS Zoning', 'Lot Area', 'Street', 'Lot Shape',\n",
              "       'Land Contour', 'Utilities', 'Lot Config', 'Land Slope', 'Neighborhood',\n",
              "       'Condition 1', 'Condition 2', 'Bldg Type', 'House Style',\n",
              "       'Overall Qual', 'Overall Cond', 'Year Built', 'Year Remod/Add',\n",
              "       'Roof Style', 'Roof Matl', 'Exterior 1st', 'Exterior 2nd',\n",
              "       'Mas Vnr Type', 'Mas Vnr Area', 'Exter Qual', 'Exter Cond',\n",
              "       'Foundation', 'Bsmt Qual', 'Bsmt Cond', 'Bsmt Exposure',\n",
              "       'BsmtFin Type 1', 'BsmtFin SF 1', 'BsmtFin Type 2', 'BsmtFin SF 2',\n",
              "       'Bsmt Unf SF', 'Total Bsmt SF', 'Heating', 'Heating QC', 'Central Air',\n",
              "       'Electrical', '1st Flr SF', '2nd Flr SF', 'Low Qual Fin SF',\n",
              "       'Gr Liv Area', 'Bsmt Full Bath', 'Bsmt Half Bath', 'Full Bath',\n",
              "       'Half Bath', 'Bedroom AbvGr', 'Kitchen AbvGr', 'Kitchen Qual',\n",
              "       'TotRms AbvGrd', 'Functional', 'Fireplaces', 'Garage Cars',\n",
              "       'Garage Area', 'Paved Drive', 'Wood Deck SF', 'Open Porch SF',\n",
              "       'Enclosed Porch', '3Ssn Porch', 'Screen Porch', 'Pool Area', 'Misc Val',\n",
              "       'Yr Sold', 'Sale Type', 'Sale Condition', 'SalePrice'],\n",
              "      dtype='object')"
            ]
          },
          "metadata": {
            "tags": []
          },
          "execution_count": 13
        }
      ]
    },
    {
      "cell_type": "code",
      "metadata": {
        "id": "ncOoZEOYHX9U"
      },
      "source": [
        "#Dropping Subjective columns\n",
        "drops = ['MS SubClass','Overall Qual','Overall Cond','Mas Vnr Type',\n",
        "        'Mas Vnr Area','BsmtFin SF 1',\n",
        "         'BsmtFin Type 1','BsmtFin Type 2','BsmtFin SF 2',\n",
        "         'Bsmt Unf SF','Street','Lot Shape',\n",
        "         'Land Contour','Lot Config','Land Slope','Neighborhood',\n",
        "        'Condition 1', 'Condition 2','Bldg Type','House Style',\n",
        "        'Roof Style','Roof Matl','Exter Qual',\n",
        "        'Exter Cond','Foundation','Bsmt Cond','Bsmt Exposure','Heating',\n",
        "        'Heating QC','Electrical','Kitchen Qual',\n",
        "        'Half Bath', 'Bsmt Half Bath',\n",
        "        'Functional','Fireplaces',\n",
        "        'Garage Area','Paved Drive','Wood Deck SF',\n",
        "        'Enclosed Porch', '3Ssn Porch', 'Screen Porch',\n",
        "        'Misc Val', 'Sale Type', 'Sale Condition','Exterior 1st', 'Exterior 2nd'\n",
        "        ]\n",
        "\n",
        "data2 = data2.drop(columns=drops)\n",
        "\n"
      ],
      "execution_count": null,
      "outputs": []
    },
    {
      "cell_type": "code",
      "metadata": {
        "scrolled": true,
        "id": "9ALSup6JHX9W",
        "outputId": "c192b07f-8870-4558-973a-9ba468e4d1d0"
      },
      "source": [
        "data2.info()"
      ],
      "execution_count": null,
      "outputs": [
        {
          "output_type": "stream",
          "text": [
            "<class 'pandas.core.frame.DataFrame'>\n",
            "RangeIndex: 2930 entries, 0 to 2929\n",
            "Data columns (total 22 columns):\n",
            "MS Zoning          2930 non-null object\n",
            "Lot Area           2930 non-null int64\n",
            "Utilities          2930 non-null object\n",
            "Year Built         2930 non-null int64\n",
            "Year Remod/Add     2930 non-null int64\n",
            "Bsmt Qual          2850 non-null object\n",
            "Total Bsmt SF      2929 non-null float64\n",
            "Central Air        2930 non-null object\n",
            "1st Flr SF         2930 non-null int64\n",
            "2nd Flr SF         2930 non-null int64\n",
            "Low Qual Fin SF    2930 non-null int64\n",
            "Gr Liv Area        2930 non-null int64\n",
            "Bsmt Full Bath     2928 non-null float64\n",
            "Full Bath          2930 non-null int64\n",
            "Bedroom AbvGr      2930 non-null int64\n",
            "Kitchen AbvGr      2930 non-null int64\n",
            "TotRms AbvGrd      2930 non-null int64\n",
            "Garage Cars        2929 non-null float64\n",
            "Open Porch SF      2930 non-null int64\n",
            "Pool Area          2930 non-null int64\n",
            "Yr Sold            2930 non-null int64\n",
            "SalePrice          2930 non-null int64\n",
            "dtypes: float64(3), int64(15), object(4)\n",
            "memory usage: 503.7+ KB\n"
          ],
          "name": "stdout"
        }
      ]
    },
    {
      "cell_type": "code",
      "metadata": {
        "id": "tYS3UAoiHX9Z"
      },
      "source": [
        "#Let's create a new feature Year since Remodeled\n",
        "data2['year_until_remod'] = data2['Year Remod/Add'] - data2['Year Built']\n",
        "data2['years_old'] = data2['Yr Sold'] - data2['Year Built']\n",
        "data2 = data2.drop(columns = ['Yr Sold','Year Remod/Add','Year Built','Utilities'])"
      ],
      "execution_count": null,
      "outputs": []
    },
    {
      "cell_type": "code",
      "metadata": {
        "id": "Krq_EB-gHX9m",
        "outputId": "058450fe-d8db-4def-b51a-20c580907221"
      },
      "source": [
        "data2.info()"
      ],
      "execution_count": null,
      "outputs": [
        {
          "output_type": "stream",
          "text": [
            "<class 'pandas.core.frame.DataFrame'>\n",
            "RangeIndex: 2930 entries, 0 to 2929\n",
            "Data columns (total 20 columns):\n",
            "MS Zoning           2930 non-null object\n",
            "Lot Area            2930 non-null int64\n",
            "Bsmt Qual           2850 non-null object\n",
            "Total Bsmt SF       2929 non-null float64\n",
            "Central Air         2930 non-null object\n",
            "1st Flr SF          2930 non-null int64\n",
            "2nd Flr SF          2930 non-null int64\n",
            "Low Qual Fin SF     2930 non-null int64\n",
            "Gr Liv Area         2930 non-null int64\n",
            "Bsmt Full Bath      2928 non-null float64\n",
            "Full Bath           2930 non-null int64\n",
            "Bedroom AbvGr       2930 non-null int64\n",
            "Kitchen AbvGr       2930 non-null int64\n",
            "TotRms AbvGrd       2930 non-null int64\n",
            "Garage Cars         2929 non-null float64\n",
            "Open Porch SF       2930 non-null int64\n",
            "Pool Area           2930 non-null int64\n",
            "SalePrice           2930 non-null int64\n",
            "year_until_remod    2930 non-null int64\n",
            "years_old           2930 non-null int64\n",
            "dtypes: float64(3), int64(14), object(3)\n",
            "memory usage: 457.9+ KB\n"
          ],
          "name": "stdout"
        }
      ]
    },
    {
      "cell_type": "markdown",
      "metadata": {
        "collapsed": true,
        "id": "BPBqAaheHX9q"
      },
      "source": [
        "## Finding the correlation of numerical features with target variable"
      ]
    },
    {
      "cell_type": "code",
      "metadata": {
        "id": "ykuWoRkCHX9r"
      },
      "source": [
        "data2['year_until_remod'] = data2['year_until_remod'].replace(-1,0)\n",
        "data2.loc[data2['years_old'] < 0,'years_old'] = 0\n",
        "data2_num = data2.select_dtypes(include=['float64','int64'])"
      ],
      "execution_count": null,
      "outputs": []
    },
    {
      "cell_type": "code",
      "metadata": {
        "id": "F-EaCCiUHX9v",
        "outputId": "55196029-5a17-4cb9-f61a-67dafac6dada"
      },
      "source": [
        "corr_num = data2_num.corr()['SalePrice'].abs()\n",
        "corr_num.sort_values(ascending=False)"
      ],
      "execution_count": null,
      "outputs": [
        {
          "output_type": "execute_result",
          "data": {
            "text/plain": [
              "SalePrice           1.000000\n",
              "Gr Liv Area         0.706780\n",
              "Garage Cars         0.647877\n",
              "Total Bsmt SF       0.632280\n",
              "1st Flr SF          0.621676\n",
              "years_old           0.558914\n",
              "Full Bath           0.545604\n",
              "TotRms AbvGrd       0.495474\n",
              "Open Porch SF       0.312951\n",
              "Bsmt Full Bath      0.276050\n",
              "2nd Flr SF          0.269373\n",
              "Lot Area            0.266549\n",
              "year_until_remod    0.240165\n",
              "Bedroom AbvGr       0.143913\n",
              "Kitchen AbvGr       0.119814\n",
              "Pool Area           0.068403\n",
              "Low Qual Fin SF     0.037660\n",
              "Name: SalePrice, dtype: float64"
            ]
          },
          "metadata": {
            "tags": []
          },
          "execution_count": 19
        }
      ]
    },
    {
      "cell_type": "code",
      "metadata": {
        "id": "hugwuRWWHX9y"
      },
      "source": [
        "corr_num = corr_num.drop('SalePrice')"
      ],
      "execution_count": null,
      "outputs": []
    },
    {
      "cell_type": "code",
      "metadata": {
        "id": "nun335XYHX90"
      },
      "source": [
        "best_num_features = corr_num[corr_num>.4].index"
      ],
      "execution_count": null,
      "outputs": []
    },
    {
      "cell_type": "code",
      "metadata": {
        "id": "VAxC9aiKHX93",
        "outputId": "9b46d905-af90-4bf8-d2a8-b516bca9f0fb"
      },
      "source": [
        "best_num_features"
      ],
      "execution_count": null,
      "outputs": [
        {
          "output_type": "execute_result",
          "data": {
            "text/plain": [
              "Index(['Total Bsmt SF', '1st Flr SF', 'Gr Liv Area', 'Full Bath',\n",
              "       'TotRms AbvGrd', 'Garage Cars', 'years_old'],\n",
              "      dtype='object')"
            ]
          },
          "metadata": {
            "tags": []
          },
          "execution_count": 22
        }
      ]
    },
    {
      "cell_type": "markdown",
      "metadata": {
        "id": "O_aFjKbYHX98"
      },
      "source": [
        "## Selecting the categorical features"
      ]
    },
    {
      "cell_type": "code",
      "metadata": {
        "id": "esJUTUIQHX98"
      },
      "source": [
        "data2_cat = data2.select_dtypes(include=['object'])"
      ],
      "execution_count": null,
      "outputs": []
    },
    {
      "cell_type": "code",
      "metadata": {
        "scrolled": false,
        "id": "wxeIr-dsHX9_",
        "outputId": "459d8f2d-e05f-4743-8b02-0e53cd5e4eab"
      },
      "source": [
        "data2_cat.head(5)"
      ],
      "execution_count": null,
      "outputs": [
        {
          "output_type": "execute_result",
          "data": {
            "text/html": [
              "<div>\n",
              "<style scoped>\n",
              "    .dataframe tbody tr th:only-of-type {\n",
              "        vertical-align: middle;\n",
              "    }\n",
              "\n",
              "    .dataframe tbody tr th {\n",
              "        vertical-align: top;\n",
              "    }\n",
              "\n",
              "    .dataframe thead th {\n",
              "        text-align: right;\n",
              "    }\n",
              "</style>\n",
              "<table border=\"1\" class=\"dataframe\">\n",
              "  <thead>\n",
              "    <tr style=\"text-align: right;\">\n",
              "      <th></th>\n",
              "      <th>MS Zoning</th>\n",
              "      <th>Bsmt Qual</th>\n",
              "      <th>Central Air</th>\n",
              "    </tr>\n",
              "  </thead>\n",
              "  <tbody>\n",
              "    <tr>\n",
              "      <th>0</th>\n",
              "      <td>RL</td>\n",
              "      <td>TA</td>\n",
              "      <td>Y</td>\n",
              "    </tr>\n",
              "    <tr>\n",
              "      <th>1</th>\n",
              "      <td>RH</td>\n",
              "      <td>TA</td>\n",
              "      <td>Y</td>\n",
              "    </tr>\n",
              "    <tr>\n",
              "      <th>2</th>\n",
              "      <td>RL</td>\n",
              "      <td>TA</td>\n",
              "      <td>Y</td>\n",
              "    </tr>\n",
              "    <tr>\n",
              "      <th>3</th>\n",
              "      <td>RL</td>\n",
              "      <td>TA</td>\n",
              "      <td>Y</td>\n",
              "    </tr>\n",
              "    <tr>\n",
              "      <th>4</th>\n",
              "      <td>RL</td>\n",
              "      <td>Gd</td>\n",
              "      <td>Y</td>\n",
              "    </tr>\n",
              "  </tbody>\n",
              "</table>\n",
              "</div>"
            ],
            "text/plain": [
              "  MS Zoning Bsmt Qual Central Air\n",
              "0        RL        TA           Y\n",
              "1        RH        TA           Y\n",
              "2        RL        TA           Y\n",
              "3        RL        TA           Y\n",
              "4        RL        Gd           Y"
            ]
          },
          "metadata": {
            "tags": []
          },
          "execution_count": 24
        }
      ]
    },
    {
      "cell_type": "code",
      "metadata": {
        "scrolled": false,
        "id": "963G4oiJHX-C",
        "outputId": "012ff23d-bcd1-4ab5-b291-a125de84db7e"
      },
      "source": [
        "#MS Zoning\n",
        "data2_cat['MS Zoning'].value_counts(dropna=False,normalize=True)"
      ],
      "execution_count": null,
      "outputs": [
        {
          "output_type": "execute_result",
          "data": {
            "text/plain": [
              "RL         0.775768\n",
              "RM         0.157679\n",
              "FV         0.047440\n",
              "RH         0.009215\n",
              "C (all)    0.008532\n",
              "A (agr)    0.000683\n",
              "I (all)    0.000683\n",
              "Name: MS Zoning, dtype: float64"
            ]
          },
          "metadata": {
            "tags": []
          },
          "execution_count": 25
        }
      ]
    },
    {
      "cell_type": "markdown",
      "metadata": {
        "id": "sOZcgOyjHX-G"
      },
      "source": [
        "**We see there is a reasonable variability of the classes even with a predominant one. We will keep it as it is.** You need to deal with this"
      ]
    },
    {
      "cell_type": "code",
      "metadata": {
        "id": "hN9BKILzHX-G",
        "outputId": "843c3cdd-f13e-4a0f-a018-6d3c3d5ba664"
      },
      "source": [
        "data2_cat['Bsmt Qual'].value_counts(dropna=False,normalize=True)"
      ],
      "execution_count": null,
      "outputs": [
        {
          "output_type": "execute_result",
          "data": {
            "text/plain": [
              "TA     0.437884\n",
              "Gd     0.416041\n",
              "Ex     0.088055\n",
              "Fa     0.030034\n",
              "NaN    0.027304\n",
              "Po     0.000683\n",
              "Name: Bsmt Qual, dtype: float64"
            ]
          },
          "metadata": {
            "tags": []
          },
          "execution_count": 26
        }
      ]
    },
    {
      "cell_type": "markdown",
      "metadata": {
        "id": "6--EycNTHX-I"
      },
      "source": [
        "The are 2% of missing value that we will replace with the two most common values (Ta) and (Gd) with the same proportion they apprear in the original dataset."
      ]
    },
    {
      "cell_type": "code",
      "metadata": {
        "id": "hyWjh4bnHX-I",
        "outputId": "e664d94f-a854-4488-bfd3-f8a9f1ea3433"
      },
      "source": [
        "data2_cat['Central Air'].value_counts(normalize=True,dropna=False)"
      ],
      "execution_count": null,
      "outputs": [
        {
          "output_type": "execute_result",
          "data": {
            "text/plain": [
              "Y    0.933106\n",
              "N    0.066894\n",
              "Name: Central Air, dtype: float64"
            ]
          },
          "metadata": {
            "tags": []
          },
          "execution_count": 27
        }
      ]
    },
    {
      "cell_type": "markdown",
      "metadata": {
        "id": "JD5aHHiDHX-K"
      },
      "source": [
        "Most of the houses in the data set have air conditioning, which may lead to a poor way to assess how this variable influences the SalePrice. Let's drop it"
      ]
    },
    {
      "cell_type": "code",
      "metadata": {
        "id": "MUjMFc8hHX-L"
      },
      "source": [
        "data2_cat = data2_cat.drop(columns = 'Central Air')"
      ],
      "execution_count": null,
      "outputs": []
    },
    {
      "cell_type": "code",
      "metadata": {
        "scrolled": true,
        "id": "E3-T5FilHX-X",
        "outputId": "9c7e3acc-a97d-454f-e4aa-64cb44d6766b"
      },
      "source": [
        "data2_cat.columns"
      ],
      "execution_count": null,
      "outputs": [
        {
          "output_type": "execute_result",
          "data": {
            "text/plain": [
              "Index(['MS Zoning', 'Bsmt Qual'], dtype='object')"
            ]
          },
          "metadata": {
            "tags": []
          },
          "execution_count": 29
        }
      ]
    },
    {
      "cell_type": "code",
      "metadata": {
        "scrolled": false,
        "id": "ubw0W-jvHX-a",
        "outputId": "91784c7d-6124-403e-b733-c337a944a0ba"
      },
      "source": [
        "best_num_features"
      ],
      "execution_count": null,
      "outputs": [
        {
          "output_type": "execute_result",
          "data": {
            "text/plain": [
              "Index(['Total Bsmt SF', '1st Flr SF', 'Gr Liv Area', 'Full Bath',\n",
              "       'TotRms AbvGrd', 'Garage Cars', 'years_old'],\n",
              "      dtype='object')"
            ]
          },
          "metadata": {
            "tags": []
          },
          "execution_count": 30
        }
      ]
    },
    {
      "cell_type": "markdown",
      "metadata": {
        "id": "eEYHE73XHX-d"
      },
      "source": [
        "## Data Preprocessing"
      ]
    },
    {
      "cell_type": "code",
      "metadata": {
        "scrolled": false,
        "id": "qHQXFV11HX-e"
      },
      "source": [
        "#Features selected\n",
        "features = best_num_features.tolist()\n",
        "features = features + data2_cat.columns.tolist()\n",
        "target = ['SalePrice']\n",
        "#Splitting the dataframe in two parts\n",
        "s_data2 = data2[features + target].sample(random_state = 1,frac=1) #Shuffled dataframe\n",
        "test_frac = .6 #Splitting fraction\n",
        "idx_test = int(test_frac*(len(s_data2))) #index to split the dataframe\n",
        "\n",
        "X_train = s_data2.iloc[0:idx_test,:][features]\n",
        "Y_train = s_data2['SalePrice'][0:idx_test]\n",
        "XY_test = s_data2.iloc[idx_test:,:][features + target]"
      ],
      "execution_count": null,
      "outputs": []
    },
    {
      "cell_type": "code",
      "metadata": {
        "scrolled": true,
        "id": "mHfn2NfeHX-f",
        "outputId": "d61336f7-14f7-4f05-d1d8-d617d9d515dc"
      },
      "source": [
        "X_train.info()"
      ],
      "execution_count": null,
      "outputs": [
        {
          "output_type": "stream",
          "text": [
            "<class 'pandas.core.frame.DataFrame'>\n",
            "Int64Index: 1758 entries, 2126 to 1669\n",
            "Data columns (total 9 columns):\n",
            "Total Bsmt SF    1758 non-null float64\n",
            "1st Flr SF       1758 non-null int64\n",
            "Gr Liv Area      1758 non-null int64\n",
            "Full Bath        1758 non-null int64\n",
            "TotRms AbvGrd    1758 non-null int64\n",
            "Garage Cars      1757 non-null float64\n",
            "years_old        1758 non-null int64\n",
            "MS Zoning        1758 non-null object\n",
            "Bsmt Qual        1711 non-null object\n",
            "dtypes: float64(2), int64(5), object(2)\n",
            "memory usage: 137.3+ KB\n"
          ],
          "name": "stdout"
        }
      ]
    },
    {
      "cell_type": "markdown",
      "metadata": {
        "id": "iyw-ZPxOHX-h"
      },
      "source": [
        "### Inputation on Numerical features"
      ]
    },
    {
      "cell_type": "code",
      "metadata": {
        "id": "p07ZrWJXHX-i"
      },
      "source": [
        "#Lets do some inputation on numerical columns\n",
        "X_train_num = X_train.select_dtypes(include = ['float64','int64'])\n",
        "X_train_num = X_train_num.fillna(X_train_num.mean().to_dict(),axis=0)"
      ],
      "execution_count": null,
      "outputs": []
    },
    {
      "cell_type": "code",
      "metadata": {
        "scrolled": true,
        "id": "3b5OrcDAHX-k",
        "outputId": "290d63a0-0c40-4209-f066-a0dca48af9bb"
      },
      "source": [
        "X_train_num.info()"
      ],
      "execution_count": null,
      "outputs": [
        {
          "output_type": "stream",
          "text": [
            "<class 'pandas.core.frame.DataFrame'>\n",
            "Int64Index: 1758 entries, 2126 to 1669\n",
            "Data columns (total 7 columns):\n",
            "Total Bsmt SF    1758 non-null float64\n",
            "1st Flr SF       1758 non-null int64\n",
            "Gr Liv Area      1758 non-null int64\n",
            "Full Bath        1758 non-null int64\n",
            "TotRms AbvGrd    1758 non-null int64\n",
            "Garage Cars      1758 non-null float64\n",
            "years_old        1758 non-null int64\n",
            "dtypes: float64(2), int64(5)\n",
            "memory usage: 109.9 KB\n"
          ],
          "name": "stdout"
        }
      ]
    },
    {
      "cell_type": "markdown",
      "metadata": {
        "id": "aeWA7ccLHX-m"
      },
      "source": [
        "### Normalizing Numerical Features"
      ]
    },
    {
      "cell_type": "code",
      "metadata": {
        "id": "p8i9pJhcHX-n"
      },
      "source": [
        "#X_train_num = X_train_num.apply(lambda x: (x-x.min())/(x.max()-x.min()))"
      ],
      "execution_count": null,
      "outputs": []
    },
    {
      "cell_type": "markdown",
      "metadata": {
        "id": "fFHxuO2vHX-o"
      },
      "source": [
        "###  inputation on categorical Features"
      ]
    },
    {
      "cell_type": "code",
      "metadata": {
        "scrolled": true,
        "id": "yc4CmsVsHX-p",
        "outputId": "1d3f420f-81ab-4081-8cf1-c465e4f40815"
      },
      "source": [
        "#Inputation on categorical columns\n",
        "X_train_cat = X_train.select_dtypes(include = ['object'])\n",
        "X_train_cat.info()"
      ],
      "execution_count": null,
      "outputs": [
        {
          "output_type": "stream",
          "text": [
            "<class 'pandas.core.frame.DataFrame'>\n",
            "Int64Index: 1758 entries, 2126 to 1669\n",
            "Data columns (total 2 columns):\n",
            "MS Zoning    1758 non-null object\n",
            "Bsmt Qual    1711 non-null object\n",
            "dtypes: object(2)\n",
            "memory usage: 41.2+ KB\n"
          ],
          "name": "stdout"
        }
      ]
    },
    {
      "cell_type": "code",
      "metadata": {
        "scrolled": false,
        "id": "gJHYLPLvHX-q",
        "outputId": "a4c29773-9e5d-42cf-e39c-d12c5e58f820"
      },
      "source": [
        "X_train_cat.mode() # Visualizing the mode of each column"
      ],
      "execution_count": null,
      "outputs": [
        {
          "output_type": "execute_result",
          "data": {
            "text/html": [
              "<div>\n",
              "<style scoped>\n",
              "    .dataframe tbody tr th:only-of-type {\n",
              "        vertical-align: middle;\n",
              "    }\n",
              "\n",
              "    .dataframe tbody tr th {\n",
              "        vertical-align: top;\n",
              "    }\n",
              "\n",
              "    .dataframe thead th {\n",
              "        text-align: right;\n",
              "    }\n",
              "</style>\n",
              "<table border=\"1\" class=\"dataframe\">\n",
              "  <thead>\n",
              "    <tr style=\"text-align: right;\">\n",
              "      <th></th>\n",
              "      <th>MS Zoning</th>\n",
              "      <th>Bsmt Qual</th>\n",
              "    </tr>\n",
              "  </thead>\n",
              "  <tbody>\n",
              "    <tr>\n",
              "      <th>0</th>\n",
              "      <td>RL</td>\n",
              "      <td>TA</td>\n",
              "    </tr>\n",
              "  </tbody>\n",
              "</table>\n",
              "</div>"
            ],
            "text/plain": [
              "  MS Zoning Bsmt Qual\n",
              "0        RL        TA"
            ]
          },
          "metadata": {
            "tags": []
          },
          "execution_count": 37
        }
      ]
    },
    {
      "cell_type": "code",
      "metadata": {
        "id": "C3XvP6W-HX-w"
      },
      "source": [
        " X_train_cat = X_train_cat.fillna(X_train_cat.mode().iloc[0],axis=0) #Filling NaNs with Mode"
      ],
      "execution_count": null,
      "outputs": []
    },
    {
      "cell_type": "code",
      "metadata": {
        "scrolled": false,
        "id": "O2gogVIOHX--",
        "outputId": "1195f9f1-144c-4db6-c0f9-62639bff07a0"
      },
      "source": [
        "X_train_cat.isnull().sum() #Checking if worked"
      ],
      "execution_count": null,
      "outputs": [
        {
          "output_type": "execute_result",
          "data": {
            "text/plain": [
              "MS Zoning    0\n",
              "Bsmt Qual    0\n",
              "dtype: int64"
            ]
          },
          "metadata": {
            "tags": []
          },
          "execution_count": 39
        }
      ]
    },
    {
      "cell_type": "markdown",
      "metadata": {
        "id": "JdDQ5WKiHX_C"
      },
      "source": [
        "### Converting categorical feature to dummy variables"
      ]
    },
    {
      "cell_type": "code",
      "metadata": {
        "id": "aGaHszYcHX_C"
      },
      "source": [
        "X_train_dcat = pd.get_dummies(X_train_cat) #Using this very handy function"
      ],
      "execution_count": null,
      "outputs": []
    },
    {
      "cell_type": "markdown",
      "metadata": {
        "id": "H_js4oIyHX_E"
      },
      "source": [
        "Removing columns with less than 5% or more than 95% ones"
      ]
    },
    {
      "cell_type": "code",
      "metadata": {
        "scrolled": false,
        "id": "GnRrgAl_HX_F",
        "outputId": "4ed86231-47a7-4f29-b7e3-5b32361e8a7d"
      },
      "source": [
        "#Percentage ones columns\n",
        "perc_fil = X_train_dcat.sum()/len(X_train_dcat)\n",
        "perc_fil.sort_values(ascending=False)\n",
        "cut = 4/100\n",
        "higher_5 = perc_fil[perc_fil >= cut]\n",
        "higher_5"
      ],
      "execution_count": null,
      "outputs": [
        {
          "output_type": "execute_result",
          "data": {
            "text/plain": [
              "MS Zoning_FV    0.042662\n",
              "MS Zoning_RL    0.775882\n",
              "MS Zoning_RM    0.160978\n",
              "Bsmt Qual_Ex    0.087031\n",
              "Bsmt Qual_Gd    0.408419\n",
              "Bsmt Qual_TA    0.474403\n",
              "dtype: float64"
            ]
          },
          "metadata": {
            "tags": []
          },
          "execution_count": 41
        }
      ]
    },
    {
      "cell_type": "code",
      "metadata": {
        "id": "YktK2rsZHX_H"
      },
      "source": [
        "X_train_dcat = X_train_dcat[higher_5.index]"
      ],
      "execution_count": null,
      "outputs": []
    },
    {
      "cell_type": "markdown",
      "metadata": {
        "id": "Evgx9nzmHX_J"
      },
      "source": [
        "### Joining the dummy feature with numerical features"
      ]
    },
    {
      "cell_type": "code",
      "metadata": {
        "id": "IK_EdsZLHX_J"
      },
      "source": [
        "X_train_final = pd.concat([X_train_num,X_train_dcat],axis = 1)"
      ],
      "execution_count": null,
      "outputs": []
    },
    {
      "cell_type": "code",
      "metadata": {
        "scrolled": false,
        "id": "V9uCpWrkHX_L",
        "outputId": "0c96bb0a-72c4-4a7f-94bb-530b25bc8758"
      },
      "source": [
        "X_train_final.head(6)"
      ],
      "execution_count": null,
      "outputs": [
        {
          "output_type": "execute_result",
          "data": {
            "text/html": [
              "<div>\n",
              "<style scoped>\n",
              "    .dataframe tbody tr th:only-of-type {\n",
              "        vertical-align: middle;\n",
              "    }\n",
              "\n",
              "    .dataframe tbody tr th {\n",
              "        vertical-align: top;\n",
              "    }\n",
              "\n",
              "    .dataframe thead th {\n",
              "        text-align: right;\n",
              "    }\n",
              "</style>\n",
              "<table border=\"1\" class=\"dataframe\">\n",
              "  <thead>\n",
              "    <tr style=\"text-align: right;\">\n",
              "      <th></th>\n",
              "      <th>Total Bsmt SF</th>\n",
              "      <th>1st Flr SF</th>\n",
              "      <th>Gr Liv Area</th>\n",
              "      <th>Full Bath</th>\n",
              "      <th>TotRms AbvGrd</th>\n",
              "      <th>Garage Cars</th>\n",
              "      <th>years_old</th>\n",
              "      <th>MS Zoning_FV</th>\n",
              "      <th>MS Zoning_RL</th>\n",
              "      <th>MS Zoning_RM</th>\n",
              "      <th>Bsmt Qual_Ex</th>\n",
              "      <th>Bsmt Qual_Gd</th>\n",
              "      <th>Bsmt Qual_TA</th>\n",
              "    </tr>\n",
              "  </thead>\n",
              "  <tbody>\n",
              "    <tr>\n",
              "      <th>2126</th>\n",
              "      <td>990.0</td>\n",
              "      <td>990</td>\n",
              "      <td>990</td>\n",
              "      <td>1</td>\n",
              "      <td>5</td>\n",
              "      <td>0.0</td>\n",
              "      <td>13</td>\n",
              "      <td>0</td>\n",
              "      <td>1</td>\n",
              "      <td>0</td>\n",
              "      <td>0</td>\n",
              "      <td>1</td>\n",
              "      <td>0</td>\n",
              "    </tr>\n",
              "    <tr>\n",
              "      <th>192</th>\n",
              "      <td>1108.0</td>\n",
              "      <td>1160</td>\n",
              "      <td>2068</td>\n",
              "      <td>1</td>\n",
              "      <td>8</td>\n",
              "      <td>1.0</td>\n",
              "      <td>88</td>\n",
              "      <td>0</td>\n",
              "      <td>1</td>\n",
              "      <td>0</td>\n",
              "      <td>0</td>\n",
              "      <td>1</td>\n",
              "      <td>0</td>\n",
              "    </tr>\n",
              "    <tr>\n",
              "      <th>2406</th>\n",
              "      <td>1368.0</td>\n",
              "      <td>1368</td>\n",
              "      <td>1368</td>\n",
              "      <td>2</td>\n",
              "      <td>6</td>\n",
              "      <td>2.0</td>\n",
              "      <td>1</td>\n",
              "      <td>0</td>\n",
              "      <td>1</td>\n",
              "      <td>0</td>\n",
              "      <td>0</td>\n",
              "      <td>1</td>\n",
              "      <td>0</td>\n",
              "    </tr>\n",
              "    <tr>\n",
              "      <th>45</th>\n",
              "      <td>1358.0</td>\n",
              "      <td>1358</td>\n",
              "      <td>1358</td>\n",
              "      <td>2</td>\n",
              "      <td>6</td>\n",
              "      <td>2.0</td>\n",
              "      <td>1</td>\n",
              "      <td>0</td>\n",
              "      <td>1</td>\n",
              "      <td>0</td>\n",
              "      <td>0</td>\n",
              "      <td>1</td>\n",
              "      <td>0</td>\n",
              "    </tr>\n",
              "    <tr>\n",
              "      <th>2477</th>\n",
              "      <td>941.0</td>\n",
              "      <td>941</td>\n",
              "      <td>1837</td>\n",
              "      <td>2</td>\n",
              "      <td>7</td>\n",
              "      <td>2.0</td>\n",
              "      <td>9</td>\n",
              "      <td>0</td>\n",
              "      <td>1</td>\n",
              "      <td>0</td>\n",
              "      <td>0</td>\n",
              "      <td>1</td>\n",
              "      <td>0</td>\n",
              "    </tr>\n",
              "    <tr>\n",
              "      <th>1603</th>\n",
              "      <td>876.0</td>\n",
              "      <td>923</td>\n",
              "      <td>923</td>\n",
              "      <td>1</td>\n",
              "      <td>5</td>\n",
              "      <td>1.0</td>\n",
              "      <td>24</td>\n",
              "      <td>0</td>\n",
              "      <td>1</td>\n",
              "      <td>0</td>\n",
              "      <td>0</td>\n",
              "      <td>0</td>\n",
              "      <td>1</td>\n",
              "    </tr>\n",
              "  </tbody>\n",
              "</table>\n",
              "</div>"
            ],
            "text/plain": [
              "      Total Bsmt SF  1st Flr SF  Gr Liv Area  Full Bath  TotRms AbvGrd  \\\n",
              "2126          990.0         990          990          1              5   \n",
              "192          1108.0        1160         2068          1              8   \n",
              "2406         1368.0        1368         1368          2              6   \n",
              "45           1358.0        1358         1358          2              6   \n",
              "2477          941.0         941         1837          2              7   \n",
              "1603          876.0         923          923          1              5   \n",
              "\n",
              "      Garage Cars  years_old  MS Zoning_FV  MS Zoning_RL  MS Zoning_RM  \\\n",
              "2126          0.0         13             0             1             0   \n",
              "192           1.0         88             0             1             0   \n",
              "2406          2.0          1             0             1             0   \n",
              "45            2.0          1             0             1             0   \n",
              "2477          2.0          9             0             1             0   \n",
              "1603          1.0         24             0             1             0   \n",
              "\n",
              "      Bsmt Qual_Ex  Bsmt Qual_Gd  Bsmt Qual_TA  \n",
              "2126             0             1             0  \n",
              "192              0             1             0  \n",
              "2406             0             1             0  \n",
              "45               0             1             0  \n",
              "2477             0             1             0  \n",
              "1603             0             0             1  "
            ]
          },
          "metadata": {
            "tags": []
          },
          "execution_count": 44
        }
      ]
    },
    {
      "cell_type": "markdown",
      "metadata": {
        "id": "ZgSBBt08HX_a"
      },
      "source": [
        "## Setting up the predictor"
      ]
    },
    {
      "cell_type": "code",
      "metadata": {
        "id": "8c5MlzFGHX_b"
      },
      "source": [
        "import numpy as np\n",
        "def predictor2(features):\n",
        "    #Cleaning NaN rows in test set\n",
        "    X_clean_test = XY_test.dropna(axis=0)\n",
        "    X_test = X_clean_test.drop(columns='SalePrice')\n",
        "    Y_test = X_clean_test['SalePrice']\n",
        "    #Split features into numerical and categorical\n",
        "    X_test_num = X_test.select_dtypes(include=['float64','int64'])\n",
        "    X_test_cat = X_test.select_dtypes(include = ['object'])\n",
        "    X_test_dcat = pd.get_dummies(X_test_cat)\n",
        "    #X_test_final = pd.concat([X_test_num,X_test_dcat],axis=1)\n",
        "    \n",
        "    filling = {}\n",
        "    for name in X_train_dcat.columns:\n",
        "        if name in X_test_dcat.columns:\n",
        "            filling[name] = X_test_dcat[name]\n",
        "        else:\n",
        "            filling[name] = np.zeros(int(len(X_test_num)))\n",
        "                \n",
        "    X_test_dcat2 = pd.DataFrame(filling)            \n",
        "    X_test_final = pd.concat([X_test_num,X_test_dcat2],axis=1)\n",
        "    X_test_final = X_test_final[X_train_final.columns]\n",
        "\n",
        "    #Scaling\n",
        "    scaler = MinMaxScaler()\n",
        "    x_train_scaled = scaler.fit_transform(X_train_final)\n",
        "    x_test_scaled = scaler.transform(X_test_final)\n",
        "    \n",
        "    \n",
        "    lr = LinearRegression()\n",
        "    lr.fit(x_train_scaled,Y_train)\n",
        "    test_predictions = lr.predict(x_test_scaled)\n",
        "    train_predictions = lr.predict(x_train_scaled)\n",
        "    test_rmse = mean_squared_error(Y_test,test_predictions)**.5\n",
        "    train_rmse = mean_squared_error(Y_train,train_predictions)**.5\n",
        "    return (test_rmse,train_rmse,test_rmse/Y_test.mean())"
      ],
      "execution_count": null,
      "outputs": []
    },
    {
      "cell_type": "code",
      "metadata": {
        "scrolled": true,
        "id": "dOdixX5dHX_c",
        "outputId": "4982604c-c835-435c-9781-7f42073d8e25"
      },
      "source": [
        "predictor2('a')"
      ],
      "execution_count": null,
      "outputs": [
        {
          "output_type": "execute_result",
          "data": {
            "text/plain": [
              "(37659.512555384266, 36687.65863509922, 0.20400955379550556)"
            ]
          },
          "metadata": {
            "tags": []
          },
          "execution_count": 51
        }
      ]
    },
    {
      "cell_type": "code",
      "metadata": {
        "id": "GPiNmaVmHX_h"
      },
      "source": [
        "#Cleaning NaN rows in test set\n",
        "X_clean_test = XY_test.dropna(axis=0)\n",
        "X_test = X_clean_test.drop(columns='SalePrice')\n",
        "Y_test = X_clean_test['SalePrice']\n",
        " #Split features into numerical and \n",
        "X_test_num = X_test.select_dtypes(include=['float64','int64'])\n",
        "X_test_cat = X_test.select_dtypes(include = ['object'])\n",
        "X_test_dcat = pd.get_dummies(X_test_cat)\n",
        "#X_test_final = pd.concat([X_test_num,X_test_dcat],axis=1)\n",
        "    \n",
        "filling = {}\n",
        "for name in X_train_dcat.columns:\n",
        "    if name in X_test_dcat.columns:\n",
        "           filling[name] = X_test_dcat[name]\n",
        "    else:\n",
        "        filling[name] = np.zeros(int(len(X_test_num)))\n",
        "                \n",
        "X_test_dcat2 = pd.DataFrame(filling)            \n",
        "X_test_final = pd.concat([X_test_num,X_test_dcat2],axis=1)\n",
        "X_test_final = X_test_final[X_train_final.columns]"
      ],
      "execution_count": null,
      "outputs": []
    },
    {
      "cell_type": "markdown",
      "metadata": {
        "id": "A1xti02kHX_k"
      },
      "source": [
        "# DICA: INVESTIGUE MAIS ESSES CASOS EM QUE UMA COLUNA CATEGORICA NAO APARECE NO TESTE! É MELHOR VOCE TREINAR SEM ESSAS CATEGORIAS"
      ]
    },
    {
      "cell_type": "code",
      "metadata": {
        "id": "9xB_KOLLHX_k",
        "outputId": "06521fa7-3b16-4027-ecea-9348e91fcb77"
      },
      "source": [
        "X_test_final.shape"
      ],
      "execution_count": null,
      "outputs": [
        {
          "output_type": "execute_result",
          "data": {
            "text/plain": [
              "(1139, 13)"
            ]
          },
          "metadata": {
            "tags": []
          },
          "execution_count": 48
        }
      ]
    },
    {
      "cell_type": "code",
      "metadata": {
        "scrolled": true,
        "id": "5DLE3mDqHX_0",
        "outputId": "478e9435-dc29-42cf-db49-bb6b5e67b76c"
      },
      "source": [
        "X_train_final.shape"
      ],
      "execution_count": null,
      "outputs": [
        {
          "output_type": "execute_result",
          "data": {
            "text/plain": [
              "(1758, 13)"
            ]
          },
          "metadata": {
            "tags": []
          },
          "execution_count": 49
        }
      ]
    }
  ]
}