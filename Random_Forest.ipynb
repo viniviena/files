{
  "nbformat": 4,
  "nbformat_minor": 0,
  "metadata": {
    "kernelspec": {
      "display_name": "Python 3",
      "language": "python",
      "name": "python3"
    },
    "language_info": {
      "codemirror_mode": {
        "name": "ipython",
        "version": 3
      },
      "file_extension": ".py",
      "mimetype": "text/x-python",
      "name": "python",
      "nbconvert_exporter": "python",
      "pygments_lexer": "ipython3",
      "version": "3.4.3"
    },
    "colab": {
      "name": "Random_Forest.ipynb",
      "provenance": []
    }
  },
  "cells": [
    {
      "cell_type": "markdown",
      "metadata": {
        "collapsed": true,
        "id": "EZ43gQQxcE3j"
      },
      "source": [
        "# Predicting Bike Rentals"
      ]
    },
    {
      "cell_type": "code",
      "metadata": {
        "id": "FZrokpmqcE3k"
      },
      "source": [
        "import pandas as pd\n",
        "import numpy as np\n",
        "import seaborn as sns\n",
        "import matplotlib.pyplot as plt"
      ],
      "execution_count": 6,
      "outputs": []
    },
    {
      "cell_type": "code",
      "metadata": {
        "id": "RkXLRwKRcE3n"
      },
      "source": [
        "bike_rentals = pd.read_csv('https://raw.githubusercontent.com/itsjef/dataquest/master/bike_rental_hour.csv')"
      ],
      "execution_count": 7,
      "outputs": []
    },
    {
      "cell_type": "code",
      "metadata": {
        "id": "TPfBcmJkcE3r",
        "colab": {
          "base_uri": "https://localhost:8080/",
          "height": 197
        },
        "outputId": "0ca8f234-79c2-4841-cc96-dbd00f0dda31"
      },
      "source": [
        "bike_rentals.head(5)"
      ],
      "execution_count": 8,
      "outputs": [
        {
          "output_type": "execute_result",
          "data": {
            "text/html": [
              "<div>\n",
              "<style scoped>\n",
              "    .dataframe tbody tr th:only-of-type {\n",
              "        vertical-align: middle;\n",
              "    }\n",
              "\n",
              "    .dataframe tbody tr th {\n",
              "        vertical-align: top;\n",
              "    }\n",
              "\n",
              "    .dataframe thead th {\n",
              "        text-align: right;\n",
              "    }\n",
              "</style>\n",
              "<table border=\"1\" class=\"dataframe\">\n",
              "  <thead>\n",
              "    <tr style=\"text-align: right;\">\n",
              "      <th></th>\n",
              "      <th>instant</th>\n",
              "      <th>dteday</th>\n",
              "      <th>season</th>\n",
              "      <th>yr</th>\n",
              "      <th>mnth</th>\n",
              "      <th>hr</th>\n",
              "      <th>holiday</th>\n",
              "      <th>weekday</th>\n",
              "      <th>workingday</th>\n",
              "      <th>weathersit</th>\n",
              "      <th>temp</th>\n",
              "      <th>atemp</th>\n",
              "      <th>hum</th>\n",
              "      <th>windspeed</th>\n",
              "      <th>casual</th>\n",
              "      <th>registered</th>\n",
              "      <th>cnt</th>\n",
              "    </tr>\n",
              "  </thead>\n",
              "  <tbody>\n",
              "    <tr>\n",
              "      <th>0</th>\n",
              "      <td>1</td>\n",
              "      <td>2011-01-01</td>\n",
              "      <td>1</td>\n",
              "      <td>0</td>\n",
              "      <td>1</td>\n",
              "      <td>0</td>\n",
              "      <td>0</td>\n",
              "      <td>6</td>\n",
              "      <td>0</td>\n",
              "      <td>1</td>\n",
              "      <td>0.24</td>\n",
              "      <td>0.2879</td>\n",
              "      <td>0.81</td>\n",
              "      <td>0.0</td>\n",
              "      <td>3</td>\n",
              "      <td>13</td>\n",
              "      <td>16</td>\n",
              "    </tr>\n",
              "    <tr>\n",
              "      <th>1</th>\n",
              "      <td>2</td>\n",
              "      <td>2011-01-01</td>\n",
              "      <td>1</td>\n",
              "      <td>0</td>\n",
              "      <td>1</td>\n",
              "      <td>1</td>\n",
              "      <td>0</td>\n",
              "      <td>6</td>\n",
              "      <td>0</td>\n",
              "      <td>1</td>\n",
              "      <td>0.22</td>\n",
              "      <td>0.2727</td>\n",
              "      <td>0.80</td>\n",
              "      <td>0.0</td>\n",
              "      <td>8</td>\n",
              "      <td>32</td>\n",
              "      <td>40</td>\n",
              "    </tr>\n",
              "    <tr>\n",
              "      <th>2</th>\n",
              "      <td>3</td>\n",
              "      <td>2011-01-01</td>\n",
              "      <td>1</td>\n",
              "      <td>0</td>\n",
              "      <td>1</td>\n",
              "      <td>2</td>\n",
              "      <td>0</td>\n",
              "      <td>6</td>\n",
              "      <td>0</td>\n",
              "      <td>1</td>\n",
              "      <td>0.22</td>\n",
              "      <td>0.2727</td>\n",
              "      <td>0.80</td>\n",
              "      <td>0.0</td>\n",
              "      <td>5</td>\n",
              "      <td>27</td>\n",
              "      <td>32</td>\n",
              "    </tr>\n",
              "    <tr>\n",
              "      <th>3</th>\n",
              "      <td>4</td>\n",
              "      <td>2011-01-01</td>\n",
              "      <td>1</td>\n",
              "      <td>0</td>\n",
              "      <td>1</td>\n",
              "      <td>3</td>\n",
              "      <td>0</td>\n",
              "      <td>6</td>\n",
              "      <td>0</td>\n",
              "      <td>1</td>\n",
              "      <td>0.24</td>\n",
              "      <td>0.2879</td>\n",
              "      <td>0.75</td>\n",
              "      <td>0.0</td>\n",
              "      <td>3</td>\n",
              "      <td>10</td>\n",
              "      <td>13</td>\n",
              "    </tr>\n",
              "    <tr>\n",
              "      <th>4</th>\n",
              "      <td>5</td>\n",
              "      <td>2011-01-01</td>\n",
              "      <td>1</td>\n",
              "      <td>0</td>\n",
              "      <td>1</td>\n",
              "      <td>4</td>\n",
              "      <td>0</td>\n",
              "      <td>6</td>\n",
              "      <td>0</td>\n",
              "      <td>1</td>\n",
              "      <td>0.24</td>\n",
              "      <td>0.2879</td>\n",
              "      <td>0.75</td>\n",
              "      <td>0.0</td>\n",
              "      <td>0</td>\n",
              "      <td>1</td>\n",
              "      <td>1</td>\n",
              "    </tr>\n",
              "  </tbody>\n",
              "</table>\n",
              "</div>"
            ],
            "text/plain": [
              "   instant      dteday  season  yr  ...  windspeed  casual  registered  cnt\n",
              "0        1  2011-01-01       1   0  ...        0.0       3          13   16\n",
              "1        2  2011-01-01       1   0  ...        0.0       8          32   40\n",
              "2        3  2011-01-01       1   0  ...        0.0       5          27   32\n",
              "3        4  2011-01-01       1   0  ...        0.0       3          10   13\n",
              "4        5  2011-01-01       1   0  ...        0.0       0           1    1\n",
              "\n",
              "[5 rows x 17 columns]"
            ]
          },
          "metadata": {
            "tags": []
          },
          "execution_count": 8
        }
      ]
    },
    {
      "cell_type": "code",
      "metadata": {
        "scrolled": true,
        "id": "JUkzbx6acE3v",
        "colab": {
          "base_uri": "https://localhost:8080/",
          "height": 570
        },
        "outputId": "087584fe-9c7f-458c-ec04-4bcc508c6cce"
      },
      "source": [
        "%matplotlib inline\n",
        "plt.figure(figsize=(8,8))\n",
        "sns.distplot(bike_rentals['cnt'],kde=True,rug=False)\n",
        "plt.axvline(bike_rentals['cnt'].mean(),label='mean',color='green')\n",
        "plt.axvline(bike_rentals['cnt'].median(),label='median')\n",
        "plt.legend()\n",
        "plt.xlim(0,bike_rentals['cnt'].max())"
      ],
      "execution_count": 9,
      "outputs": [
        {
          "output_type": "stream",
          "text": [
            "/usr/local/lib/python3.6/dist-packages/seaborn/distributions.py:2551: FutureWarning: `distplot` is a deprecated function and will be removed in a future version. Please adapt your code to use either `displot` (a figure-level function with similar flexibility) or `histplot` (an axes-level function for histograms).\n",
            "  warnings.warn(msg, FutureWarning)\n"
          ],
          "name": "stderr"
        },
        {
          "output_type": "execute_result",
          "data": {
            "text/plain": [
              "(0.0, 977.0)"
            ]
          },
          "metadata": {
            "tags": []
          },
          "execution_count": 9
        },
        {
          "output_type": "display_data",
          "data": {
            "image/png": "[encoded data removed]",
            "text/plain": [
              "<Figure size 576x576 with 1 Axes>"
            ]
          },
          "metadata": {
            "tags": [],
            "needs_background": "light"
          }
        }
      ]
    },
    {
      "cell_type": "markdown",
      "metadata": {
        "id": "8AgSXORmcE3z"
      },
      "source": [
        "The distribution of the rentals is assymetric with the majority of values concentrated in the right proximity of 0. "
      ]
    },
    {
      "cell_type": "code",
      "metadata": {
        "id": "MR2F-vEgcE3z",
        "colab": {
          "base_uri": "https://localhost:8080/"
        },
        "outputId": "b9c1b967-1158-46e8-f1c2-26571e9323e2"
      },
      "source": [
        "print(bike_rentals['cnt'].mean())\n",
        "print(bike_rentals['cnt'].median())"
      ],
      "execution_count": 10,
      "outputs": [
        {
          "output_type": "stream",
          "text": [
            "189.46308763450142\n",
            "142.0\n"
          ],
          "name": "stdout"
        }
      ]
    },
    {
      "cell_type": "markdown",
      "metadata": {
        "id": "TvFEAL_YcE32"
      },
      "source": [
        "Verifing how each feature correlates with the CNT target variable"
      ]
    },
    {
      "cell_type": "code",
      "metadata": {
        "scrolled": false,
        "id": "ZczzCfmXcE33",
        "colab": {
          "base_uri": "https://localhost:8080/"
        },
        "outputId": "f2dfeac4-11e5-4714-8f86-b067c2047b5e"
      },
      "source": [
        "bike_rentals.info()"
      ],
      "execution_count": 11,
      "outputs": [
        {
          "output_type": "stream",
          "text": [
            "<class 'pandas.core.frame.DataFrame'>\n",
            "RangeIndex: 17379 entries, 0 to 17378\n",
            "Data columns (total 17 columns):\n",
            " #   Column      Non-Null Count  Dtype  \n",
            "---  ------      --------------  -----  \n",
            " 0   instant     17379 non-null  int64  \n",
            " 1   dteday      17379 non-null  object \n",
            " 2   season      17379 non-null  int64  \n",
            " 3   yr          17379 non-null  int64  \n",
            " 4   mnth        17379 non-null  int64  \n",
            " 5   hr          17379 non-null  int64  \n",
            " 6   holiday     17379 non-null  int64  \n",
            " 7   weekday     17379 non-null  int64  \n",
            " 8   workingday  17379 non-null  int64  \n",
            " 9   weathersit  17379 non-null  int64  \n",
            " 10  temp        17379 non-null  float64\n",
            " 11  atemp       17379 non-null  float64\n",
            " 12  hum         17379 non-null  float64\n",
            " 13  windspeed   17379 non-null  float64\n",
            " 14  casual      17379 non-null  int64  \n",
            " 15  registered  17379 non-null  int64  \n",
            " 16  cnt         17379 non-null  int64  \n",
            "dtypes: float64(4), int64(12), object(1)\n",
            "memory usage: 2.3+ MB\n"
          ],
          "name": "stdout"
        }
      ]
    },
    {
      "cell_type": "markdown",
      "metadata": {
        "id": "ZYP8TWfvcE36"
      },
      "source": [
        "There are no NaN entries in the data set (amem) "
      ]
    },
    {
      "cell_type": "markdown",
      "metadata": {
        "id": "3MR6qyq5cE37"
      },
      "source": [
        "Converting `dteday` column to date_time object"
      ]
    },
    {
      "cell_type": "code",
      "metadata": {
        "id": "iB9tr13XcE37"
      },
      "source": [
        "bike_rentals['dteday'] = pd.to_datetime(bike_rentals['dteday'])"
      ],
      "execution_count": 12,
      "outputs": []
    },
    {
      "cell_type": "markdown",
      "metadata": {
        "id": "oEonR0sncE3-"
      },
      "source": [
        "Identifing correlations between target and features columns"
      ]
    },
    {
      "cell_type": "code",
      "metadata": {
        "scrolled": true,
        "id": "OVV35SWdcE3-"
      },
      "source": [
        "correlations = bike_rentals.corr()['cnt']\n",
        "correlation = correlations[abs(correlations.sort_values(ascending=False)) > 0.15]"
      ],
      "execution_count": 13,
      "outputs": []
    },
    {
      "cell_type": "code",
      "metadata": {
        "scrolled": false,
        "id": "gFcxWfbEcE4B",
        "colab": {
          "base_uri": "https://localhost:8080/"
        },
        "outputId": "c94dc82b-24a9-4691-ee7d-f309e1a6d364"
      },
      "source": [
        "correlation.drop(['casual','registered','cnt','instant','temp'])"
      ],
      "execution_count": 14,
      "outputs": [
        {
          "output_type": "execute_result",
          "data": {
            "text/plain": [
              "season    0.178056\n",
              "yr        0.250495\n",
              "hr        0.394071\n",
              "atemp     0.400929\n",
              "hum      -0.322911\n",
              "Name: cnt, dtype: float64"
            ]
          },
          "metadata": {
            "tags": []
          },
          "execution_count": 14
        }
      ]
    },
    {
      "cell_type": "markdown",
      "metadata": {
        "id": "SvNhbdd-cE4D"
      },
      "source": [
        "## Feature Engineering"
      ]
    },
    {
      "cell_type": "markdown",
      "metadata": {
        "id": "25c6dslHcE4D"
      },
      "source": [
        "Creating new features can improve models prediction. For instance, agreggating hours in day shifts like morning,evening,afternoon, is a way of telling the model that these sets belongs to the same group."
      ]
    },
    {
      "cell_type": "code",
      "metadata": {
        "id": "yDTeVqoVcE4E"
      },
      "source": [
        "def hour_map(hour):\n",
        "    if  6 < hour <=12:\n",
        "        a = 1\n",
        "    elif  12 < hour <= 18:\n",
        "         a = 2\n",
        "    elif 18 < hour <= 24:\n",
        "        a = 3\n",
        "    else:\n",
        "        a = 4 \n",
        "    return a"
      ],
      "execution_count": 15,
      "outputs": []
    },
    {
      "cell_type": "code",
      "metadata": {
        "id": "pQGa2Q94cE4G"
      },
      "source": [
        "bike_rentals['time_label'] = bike_rentals['hr'].apply(hour_map)"
      ],
      "execution_count": 16,
      "outputs": []
    },
    {
      "cell_type": "markdown",
      "metadata": {
        "id": "cM32MvgtcE4J"
      },
      "source": [
        "Dropping useless columns"
      ]
    },
    {
      "cell_type": "code",
      "metadata": {
        "id": "c-Jvh-G3cE4K"
      },
      "source": [
        "bike_rentals = bike_rentals.drop(['dteday','casual','registered','instant'],axis=1)"
      ],
      "execution_count": 17,
      "outputs": []
    },
    {
      "cell_type": "markdown",
      "metadata": {
        "id": "x248bGYxcE4N"
      },
      "source": [
        "# Picking a metric"
      ]
    },
    {
      "cell_type": "markdown",
      "metadata": {
        "id": "tULs6afqcE4N"
      },
      "source": [
        "Let's use a metric accordingly to the variable scale of measurement which is a numeric discrete variable. Both RMSE and MAE can be used. Let's do the analysis with the two. Generraly, the model is trained using the RMSE in regression or ANN. I dont know how it is in Tree based regressors."
      ]
    },
    {
      "cell_type": "markdown",
      "metadata": {
        "id": "yMKw7EBncE4O"
      },
      "source": [
        "# Splitting the Data Set"
      ]
    },
    {
      "cell_type": "code",
      "metadata": {
        "id": "ExM7WGTucE4P"
      },
      "source": [
        "train = bike_rentals.sample(frac=.8,random_state = 2)"
      ],
      "execution_count": 18,
      "outputs": []
    },
    {
      "cell_type": "code",
      "metadata": {
        "id": "XnRZGjZbcE4R"
      },
      "source": [
        "test = bike_rentals[~bike_rentals.index.isin(train.index)]"
      ],
      "execution_count": 19,
      "outputs": []
    },
    {
      "cell_type": "code",
      "metadata": {
        "scrolled": true,
        "id": "FYHNvCIccE4U",
        "colab": {
          "base_uri": "https://localhost:8080/",
          "height": 197
        },
        "outputId": "1683f8e2-3964-4851-997e-05678b090063"
      },
      "source": [
        "train.head(5)"
      ],
      "execution_count": 20,
      "outputs": [
        {
          "output_type": "execute_result",
          "data": {
            "text/html": [
              "<div>\n",
              "<style scoped>\n",
              "    .dataframe tbody tr th:only-of-type {\n",
              "        vertical-align: middle;\n",
              "    }\n",
              "\n",
              "    .dataframe tbody tr th {\n",
              "        vertical-align: top;\n",
              "    }\n",
              "\n",
              "    .dataframe thead th {\n",
              "        text-align: right;\n",
              "    }\n",
              "</style>\n",
              "<table border=\"1\" class=\"dataframe\">\n",
              "  <thead>\n",
              "    <tr style=\"text-align: right;\">\n",
              "      <th></th>\n",
              "      <th>season</th>\n",
              "      <th>yr</th>\n",
              "      <th>mnth</th>\n",
              "      <th>hr</th>\n",
              "      <th>holiday</th>\n",
              "      <th>weekday</th>\n",
              "      <th>workingday</th>\n",
              "      <th>weathersit</th>\n",
              "      <th>temp</th>\n",
              "      <th>atemp</th>\n",
              "      <th>hum</th>\n",
              "      <th>windspeed</th>\n",
              "      <th>cnt</th>\n",
              "      <th>time_label</th>\n",
              "    </tr>\n",
              "  </thead>\n",
              "  <tbody>\n",
              "    <tr>\n",
              "      <th>5943</th>\n",
              "      <td>3</td>\n",
              "      <td>0</td>\n",
              "      <td>9</td>\n",
              "      <td>4</td>\n",
              "      <td>0</td>\n",
              "      <td>6</td>\n",
              "      <td>0</td>\n",
              "      <td>1</td>\n",
              "      <td>0.58</td>\n",
              "      <td>0.5455</td>\n",
              "      <td>0.94</td>\n",
              "      <td>0.0896</td>\n",
              "      <td>7</td>\n",
              "      <td>4</td>\n",
              "    </tr>\n",
              "    <tr>\n",
              "      <th>15739</th>\n",
              "      <td>4</td>\n",
              "      <td>1</td>\n",
              "      <td>10</td>\n",
              "      <td>0</td>\n",
              "      <td>0</td>\n",
              "      <td>2</td>\n",
              "      <td>1</td>\n",
              "      <td>1</td>\n",
              "      <td>0.46</td>\n",
              "      <td>0.4545</td>\n",
              "      <td>0.88</td>\n",
              "      <td>0.1642</td>\n",
              "      <td>37</td>\n",
              "      <td>4</td>\n",
              "    </tr>\n",
              "    <tr>\n",
              "      <th>2906</th>\n",
              "      <td>2</td>\n",
              "      <td>0</td>\n",
              "      <td>5</td>\n",
              "      <td>0</td>\n",
              "      <td>0</td>\n",
              "      <td>5</td>\n",
              "      <td>1</td>\n",
              "      <td>1</td>\n",
              "      <td>0.44</td>\n",
              "      <td>0.4394</td>\n",
              "      <td>0.44</td>\n",
              "      <td>0.1642</td>\n",
              "      <td>56</td>\n",
              "      <td>4</td>\n",
              "    </tr>\n",
              "    <tr>\n",
              "      <th>12842</th>\n",
              "      <td>3</td>\n",
              "      <td>1</td>\n",
              "      <td>6</td>\n",
              "      <td>7</td>\n",
              "      <td>0</td>\n",
              "      <td>0</td>\n",
              "      <td>0</td>\n",
              "      <td>1</td>\n",
              "      <td>0.64</td>\n",
              "      <td>0.6061</td>\n",
              "      <td>0.69</td>\n",
              "      <td>0.1045</td>\n",
              "      <td>71</td>\n",
              "      <td>1</td>\n",
              "    </tr>\n",
              "    <tr>\n",
              "      <th>9053</th>\n",
              "      <td>1</td>\n",
              "      <td>1</td>\n",
              "      <td>1</td>\n",
              "      <td>3</td>\n",
              "      <td>0</td>\n",
              "      <td>3</td>\n",
              "      <td>1</td>\n",
              "      <td>2</td>\n",
              "      <td>0.44</td>\n",
              "      <td>0.4394</td>\n",
              "      <td>0.51</td>\n",
              "      <td>0.4925</td>\n",
              "      <td>4</td>\n",
              "      <td>4</td>\n",
              "    </tr>\n",
              "  </tbody>\n",
              "</table>\n",
              "</div>"
            ],
            "text/plain": [
              "       season  yr  mnth  hr  holiday  ...   atemp   hum  windspeed  cnt  time_label\n",
              "5943        3   0     9   4        0  ...  0.5455  0.94     0.0896    7           4\n",
              "15739       4   1    10   0        0  ...  0.4545  0.88     0.1642   37           4\n",
              "2906        2   0     5   0        0  ...  0.4394  0.44     0.1642   56           4\n",
              "12842       3   1     6   7        0  ...  0.6061  0.69     0.1045   71           1\n",
              "9053        1   1     1   3        0  ...  0.4394  0.51     0.4925    4           4\n",
              "\n",
              "[5 rows x 14 columns]"
            ]
          },
          "metadata": {
            "tags": []
          },
          "execution_count": 20
        }
      ]
    },
    {
      "cell_type": "code",
      "metadata": {
        "id": "I07DHBONcE4X"
      },
      "source": [
        "target_label = ['cnt']\n",
        "feature_label = train.drop(['cnt'],axis=1).columns.tolist() #Dropping the hour column"
      ],
      "execution_count": 21,
      "outputs": []
    },
    {
      "cell_type": "markdown",
      "metadata": {
        "id": "0yJ24BKxcE4a"
      },
      "source": [
        "# Training a Linear Regressor"
      ]
    },
    {
      "cell_type": "code",
      "metadata": {
        "id": "0BQIYHEGcE4a"
      },
      "source": [
        "from sklearn.linear_model import LinearRegression\n",
        "from sklearn.metrics import mean_squared_error\n",
        "from sklearn.metrics import mean_absolute_error"
      ],
      "execution_count": 22,
      "outputs": []
    },
    {
      "cell_type": "code",
      "metadata": {
        "id": "R8R3LwqycE4d",
        "colab": {
          "base_uri": "https://localhost:8080/",
          "height": 467
        },
        "outputId": "25277a67-fa42-45f3-9c07-f16477cdabf2"
      },
      "source": [
        "# Checking if features scaling is necessary\n",
        "bike_rentals.describe().transpose()"
      ],
      "execution_count": 23,
      "outputs": [
        {
          "output_type": "execute_result",
          "data": {
            "text/html": [
              "<div>\n",
              "<style scoped>\n",
              "    .dataframe tbody tr th:only-of-type {\n",
              "        vertical-align: middle;\n",
              "    }\n",
              "\n",
              "    .dataframe tbody tr th {\n",
              "        vertical-align: top;\n",
              "    }\n",
              "\n",
              "    .dataframe thead th {\n",
              "        text-align: right;\n",
              "    }\n",
              "</style>\n",
              "<table border=\"1\" class=\"dataframe\">\n",
              "  <thead>\n",
              "    <tr style=\"text-align: right;\">\n",
              "      <th></th>\n",
              "      <th>count</th>\n",
              "      <th>mean</th>\n",
              "      <th>std</th>\n",
              "      <th>min</th>\n",
              "      <th>25%</th>\n",
              "      <th>50%</th>\n",
              "      <th>75%</th>\n",
              "      <th>max</th>\n",
              "    </tr>\n",
              "  </thead>\n",
              "  <tbody>\n",
              "    <tr>\n",
              "      <th>season</th>\n",
              "      <td>17379.0</td>\n",
              "      <td>2.501640</td>\n",
              "      <td>1.106918</td>\n",
              "      <td>1.00</td>\n",
              "      <td>2.0000</td>\n",
              "      <td>3.0000</td>\n",
              "      <td>3.0000</td>\n",
              "      <td>4.0000</td>\n",
              "    </tr>\n",
              "    <tr>\n",
              "      <th>yr</th>\n",
              "      <td>17379.0</td>\n",
              "      <td>0.502561</td>\n",
              "      <td>0.500008</td>\n",
              "      <td>0.00</td>\n",
              "      <td>0.0000</td>\n",
              "      <td>1.0000</td>\n",
              "      <td>1.0000</td>\n",
              "      <td>1.0000</td>\n",
              "    </tr>\n",
              "    <tr>\n",
              "      <th>mnth</th>\n",
              "      <td>17379.0</td>\n",
              "      <td>6.537775</td>\n",
              "      <td>3.438776</td>\n",
              "      <td>1.00</td>\n",
              "      <td>4.0000</td>\n",
              "      <td>7.0000</td>\n",
              "      <td>10.0000</td>\n",
              "      <td>12.0000</td>\n",
              "    </tr>\n",
              "    <tr>\n",
              "      <th>hr</th>\n",
              "      <td>17379.0</td>\n",
              "      <td>11.546752</td>\n",
              "      <td>6.914405</td>\n",
              "      <td>0.00</td>\n",
              "      <td>6.0000</td>\n",
              "      <td>12.0000</td>\n",
              "      <td>18.0000</td>\n",
              "      <td>23.0000</td>\n",
              "    </tr>\n",
              "    <tr>\n",
              "      <th>holiday</th>\n",
              "      <td>17379.0</td>\n",
              "      <td>0.028770</td>\n",
              "      <td>0.167165</td>\n",
              "      <td>0.00</td>\n",
              "      <td>0.0000</td>\n",
              "      <td>0.0000</td>\n",
              "      <td>0.0000</td>\n",
              "      <td>1.0000</td>\n",
              "    </tr>\n",
              "    <tr>\n",
              "      <th>weekday</th>\n",
              "      <td>17379.0</td>\n",
              "      <td>3.003683</td>\n",
              "      <td>2.005771</td>\n",
              "      <td>0.00</td>\n",
              "      <td>1.0000</td>\n",
              "      <td>3.0000</td>\n",
              "      <td>5.0000</td>\n",
              "      <td>6.0000</td>\n",
              "    </tr>\n",
              "    <tr>\n",
              "      <th>workingday</th>\n",
              "      <td>17379.0</td>\n",
              "      <td>0.682721</td>\n",
              "      <td>0.465431</td>\n",
              "      <td>0.00</td>\n",
              "      <td>0.0000</td>\n",
              "      <td>1.0000</td>\n",
              "      <td>1.0000</td>\n",
              "      <td>1.0000</td>\n",
              "    </tr>\n",
              "    <tr>\n",
              "      <th>weathersit</th>\n",
              "      <td>17379.0</td>\n",
              "      <td>1.425283</td>\n",
              "      <td>0.639357</td>\n",
              "      <td>1.00</td>\n",
              "      <td>1.0000</td>\n",
              "      <td>1.0000</td>\n",
              "      <td>2.0000</td>\n",
              "      <td>4.0000</td>\n",
              "    </tr>\n",
              "    <tr>\n",
              "      <th>temp</th>\n",
              "      <td>17379.0</td>\n",
              "      <td>0.496987</td>\n",
              "      <td>0.192556</td>\n",
              "      <td>0.02</td>\n",
              "      <td>0.3400</td>\n",
              "      <td>0.5000</td>\n",
              "      <td>0.6600</td>\n",
              "      <td>1.0000</td>\n",
              "    </tr>\n",
              "    <tr>\n",
              "      <th>atemp</th>\n",
              "      <td>17379.0</td>\n",
              "      <td>0.475775</td>\n",
              "      <td>0.171850</td>\n",
              "      <td>0.00</td>\n",
              "      <td>0.3333</td>\n",
              "      <td>0.4848</td>\n",
              "      <td>0.6212</td>\n",
              "      <td>1.0000</td>\n",
              "    </tr>\n",
              "    <tr>\n",
              "      <th>hum</th>\n",
              "      <td>17379.0</td>\n",
              "      <td>0.627229</td>\n",
              "      <td>0.192930</td>\n",
              "      <td>0.00</td>\n",
              "      <td>0.4800</td>\n",
              "      <td>0.6300</td>\n",
              "      <td>0.7800</td>\n",
              "      <td>1.0000</td>\n",
              "    </tr>\n",
              "    <tr>\n",
              "      <th>windspeed</th>\n",
              "      <td>17379.0</td>\n",
              "      <td>0.190098</td>\n",
              "      <td>0.122340</td>\n",
              "      <td>0.00</td>\n",
              "      <td>0.1045</td>\n",
              "      <td>0.1940</td>\n",
              "      <td>0.2537</td>\n",
              "      <td>0.8507</td>\n",
              "    </tr>\n",
              "    <tr>\n",
              "      <th>cnt</th>\n",
              "      <td>17379.0</td>\n",
              "      <td>189.463088</td>\n",
              "      <td>181.387599</td>\n",
              "      <td>1.00</td>\n",
              "      <td>40.0000</td>\n",
              "      <td>142.0000</td>\n",
              "      <td>281.0000</td>\n",
              "      <td>977.0000</td>\n",
              "    </tr>\n",
              "    <tr>\n",
              "      <th>time_label</th>\n",
              "      <td>17379.0</td>\n",
              "      <td>2.533920</td>\n",
              "      <td>1.151759</td>\n",
              "      <td>1.00</td>\n",
              "      <td>1.0000</td>\n",
              "      <td>2.0000</td>\n",
              "      <td>4.0000</td>\n",
              "      <td>4.0000</td>\n",
              "    </tr>\n",
              "  </tbody>\n",
              "</table>\n",
              "</div>"
            ],
            "text/plain": [
              "              count        mean         std  ...       50%       75%       max\n",
              "season      17379.0    2.501640    1.106918  ...    3.0000    3.0000    4.0000\n",
              "yr          17379.0    0.502561    0.500008  ...    1.0000    1.0000    1.0000\n",
              "mnth        17379.0    6.537775    3.438776  ...    7.0000   10.0000   12.0000\n",
              "hr          17379.0   11.546752    6.914405  ...   12.0000   18.0000   23.0000\n",
              "holiday     17379.0    0.028770    0.167165  ...    0.0000    0.0000    1.0000\n",
              "weekday     17379.0    3.003683    2.005771  ...    3.0000    5.0000    6.0000\n",
              "workingday  17379.0    0.682721    0.465431  ...    1.0000    1.0000    1.0000\n",
              "weathersit  17379.0    1.425283    0.639357  ...    1.0000    2.0000    4.0000\n",
              "temp        17379.0    0.496987    0.192556  ...    0.5000    0.6600    1.0000\n",
              "atemp       17379.0    0.475775    0.171850  ...    0.4848    0.6212    1.0000\n",
              "hum         17379.0    0.627229    0.192930  ...    0.6300    0.7800    1.0000\n",
              "windspeed   17379.0    0.190098    0.122340  ...    0.1940    0.2537    0.8507\n",
              "cnt         17379.0  189.463088  181.387599  ...  142.0000  281.0000  977.0000\n",
              "time_label  17379.0    2.533920    1.151759  ...    2.0000    4.0000    4.0000\n",
              "\n",
              "[14 rows x 8 columns]"
            ]
          },
          "metadata": {
            "tags": []
          },
          "execution_count": 23
        }
      ]
    },
    {
      "cell_type": "code",
      "metadata": {
        "id": "RDVLa07pcE4g",
        "colab": {
          "base_uri": "https://localhost:8080/"
        },
        "outputId": "b7ceeeaa-5196-4b70-bd1d-02690b4a1634"
      },
      "source": [
        "# Instantiating model and fitting\n",
        "lr = LinearRegression()\n",
        "lr.fit(train[feature_label],np.log(train[target_label]))\n",
        "\n",
        "#Predictions\n",
        "train_predictions = np.exp(lr.predict(train[feature_label]))\n",
        "test_predictions =  np.exp(lr.predict(test[feature_label]))\n",
        "\n",
        "#Metrics\n",
        "#Train\n",
        "train_mae = mean_absolute_error(train[target_label],train_predictions)\n",
        "train_rmse = mean_squared_error(train[target_label],train_predictions)**.5\n",
        "#Test\n",
        "test_mae = mean_absolute_error(test[target_label],test_predictions)\n",
        "test_rmse = mean_squared_error(test[target_label],test_predictions)**.5\n",
        "\n",
        "print('train metrics')\n",
        "print('MAE:',train_mae,'RMSE:',train_rmse)\n",
        "print('\\n')\n",
        "print('test metrics')\n",
        "print('MAE:',test_mae,'RMSE:',test_rmse)"
      ],
      "execution_count": 24,
      "outputs": [
        {
          "output_type": "stream",
          "text": [
            "train metrics\n",
            "MAE: 88.69504477455492 RMSE: 134.52148530119547\n",
            "\n",
            "\n",
            "test metrics\n",
            "MAE: 85.86406113826892 RMSE: 130.5672679002007\n"
          ],
          "name": "stdout"
        }
      ]
    },
    {
      "cell_type": "code",
      "metadata": {
        "id": "YsbtUcHScE4i"
      },
      "source": [
        "#Checking error distribution\n",
        "error = np.array(train[target_label]) - train_predictions"
      ],
      "execution_count": 25,
      "outputs": []
    },
    {
      "cell_type": "code",
      "metadata": {
        "id": "eqW5oQpTcE4l",
        "colab": {
          "base_uri": "https://localhost:8080/",
          "height": 337
        },
        "outputId": "f7f9064f-4dbc-4a62-d057-9ddbaa1c9494"
      },
      "source": [
        "sns.distplot(error)\n",
        "plt.axvline(np.mean(error))"
      ],
      "execution_count": 26,
      "outputs": [
        {
          "output_type": "stream",
          "text": [
            "/usr/local/lib/python3.6/dist-packages/seaborn/distributions.py:2551: FutureWarning: `distplot` is a deprecated function and will be removed in a future version. Please adapt your code to use either `displot` (a figure-level function with similar flexibility) or `histplot` (an axes-level function for histograms).\n",
            "  warnings.warn(msg, FutureWarning)\n"
          ],
          "name": "stderr"
        },
        {
          "output_type": "execute_result",
          "data": {
            "text/plain": [
              "<matplotlib.lines.Line2D at 0x7f6ab601eba8>"
            ]
          },
          "metadata": {
            "tags": []
          },
          "execution_count": 26
        },
        {
          "output_type": "display_data",
          "data": {
            "image/png": "[encoded data removed]",
            "text/plain": [
              "<Figure size 432x288 with 1 Axes>"
            ]
          },
          "metadata": {
            "tags": [],
            "needs_background": "light"
          }
        }
      ]
    },
    {
      "cell_type": "code",
      "metadata": {
        "scrolled": true,
        "id": "X7yKE48ycE4o",
        "colab": {
          "base_uri": "https://localhost:8080/",
          "height": 282
        },
        "outputId": "b37bd4aa-b401-432d-cfe5-b8a761ecaa57"
      },
      "source": [
        "plt.scatter(np.array(train[target_label]),train_predictions)"
      ],
      "execution_count": 27,
      "outputs": [
        {
          "output_type": "execute_result",
          "data": {
            "text/plain": [
              "<matplotlib.collections.PathCollection at 0x7f6ab38f1048>"
            ]
          },
          "metadata": {
            "tags": []
          },
          "execution_count": 27
        },
        {
          "output_type": "display_data",
          "data": {
            "image/png": "[encoded data removed]",
            "text/plain": [
              "<Figure size 432x288 with 1 Axes>"
            ]
          },
          "metadata": {
            "tags": [],
            "needs_background": "light"
          }
        }
      ]
    },
    {
      "cell_type": "markdown",
      "metadata": {
        "id": "5EkOotnYcE4q"
      },
      "source": [
        "The predictions are quite off for small values of the target column. In values closes to zero, it predicts negative values which is totally unreasonable"
      ]
    },
    {
      "cell_type": "code",
      "metadata": {
        "scrolled": false,
        "id": "gMmApvhPcE4q",
        "colab": {
          "base_uri": "https://localhost:8080/",
          "height": 282
        },
        "outputId": "15babc52-29eb-4daa-cbca-c0a33249b8c1"
      },
      "source": [
        "plt.scatter(np.array(test[target_label]),test_predictions)"
      ],
      "execution_count": 28,
      "outputs": [
        {
          "output_type": "execute_result",
          "data": {
            "text/plain": [
              "<matplotlib.collections.PathCollection at 0x7f6ab38cdeb8>"
            ]
          },
          "metadata": {
            "tags": []
          },
          "execution_count": 28
        },
        {
          "output_type": "display_data",
          "data": {
            "image/png": "[encoded data removed]",
            "text/plain": [
              "<Figure size 432x288 with 1 Axes>"
            ]
          },
          "metadata": {
            "tags": [],
            "needs_background": "light"
          }
        }
      ]
    },
    {
      "cell_type": "markdown",
      "metadata": {
        "id": "oCC8LvOYcE4u"
      },
      "source": [
        "# Building a Decision Tree and Random Forest Model"
      ]
    },
    {
      "cell_type": "markdown",
      "metadata": {
        "id": "RQqJQZvVcE4u"
      },
      "source": [
        "## Decision Tree"
      ]
    },
    {
      "cell_type": "code",
      "metadata": {
        "id": "2frPdztOcE4v"
      },
      "source": [
        "from sklearn.tree import DecisionTreeRegressor\n",
        "metrics = []"
      ],
      "execution_count": 29,
      "outputs": []
    },
    {
      "cell_type": "code",
      "metadata": {
        "id": "u1xZKNBYcE4x"
      },
      "source": [
        "\n",
        "def train_dec_tree():\n",
        "    for leaf_sample in np.arange(1,101,5):\n",
        "        dtr = DecisionTreeRegressor(criterion='mse',\n",
        "                                    min_samples_leaf = leaf_sample)\n",
        "        dtr.fit(train[feature_label],train[target_label])\n",
        "        train_prediction = dtr.predict(train[feature_label])\n",
        "        test_prediction = dtr.predict(test[feature_label])\n",
        "        train_rmse = mean_squared_error(train[target_label],train_prediction)**.5\n",
        "        test_rmse = mean_squared_error(test[target_label],test_prediction)**.5\n",
        "        metrics.append([leaf_sample,train_rmse,test_rmse])"
      ],
      "execution_count": 30,
      "outputs": []
    },
    {
      "cell_type": "code",
      "metadata": {
        "id": "Yq1fU5sacE40"
      },
      "source": [
        "train_dec_tree()"
      ],
      "execution_count": 31,
      "outputs": []
    },
    {
      "cell_type": "code",
      "metadata": {
        "id": "LJKKEQB-cE42",
        "colab": {
          "base_uri": "https://localhost:8080/"
        },
        "outputId": "886425f6-4e5b-41fc-9b78-27e6368bc078"
      },
      "source": [
        "metric = np.array(metrics)\n",
        "metric"
      ],
      "execution_count": 32,
      "outputs": [
        {
          "output_type": "execute_result",
          "data": {
            "text/plain": [
              "array([[ 1.        ,  0.54536027, 58.46944802],\n",
              "       [ 6.        , 37.53542636, 52.51658727],\n",
              "       [11.        , 45.3589412 , 53.97656313],\n",
              "       [16.        , 49.30660703, 54.68209115],\n",
              "       [21.        , 53.58074293, 56.4102318 ],\n",
              "       [26.        , 54.5011792 , 57.14358205],\n",
              "       [31.        , 56.2366    , 57.80553503],\n",
              "       [36.        , 57.35048105, 58.67511975],\n",
              "       [41.        , 60.37869568, 61.00024871],\n",
              "       [46.        , 61.9051948 , 62.71578424],\n",
              "       [51.        , 67.18965766, 66.64591391],\n",
              "       [56.        , 67.97888159, 67.30998078],\n",
              "       [61.        , 68.74605877, 68.42484842],\n",
              "       [66.        , 69.66155721, 69.30079279],\n",
              "       [71.        , 71.44106085, 71.91764647],\n",
              "       [76.        , 72.64130216, 72.51922519],\n",
              "       [81.        , 73.81833365, 74.69275354],\n",
              "       [86.        , 75.69607363, 76.99473917],\n",
              "       [91.        , 76.91915341, 78.11061634],\n",
              "       [96.        , 77.69914193, 79.49903044]])"
            ]
          },
          "metadata": {
            "tags": []
          },
          "execution_count": 32
        }
      ]
    },
    {
      "cell_type": "code",
      "metadata": {
        "id": "1KvZTaOjcE45",
        "colab": {
          "base_uri": "https://localhost:8080/",
          "height": 282
        },
        "outputId": "81bec72e-daf0-4ef7-e793-749d126330dd"
      },
      "source": [
        "plt.plot(metric[:,0],metric[:,1],label='Train')\n",
        "plt.plot(metric[:,0],metric[:,2],label='Test')\n",
        "plt.legend()"
      ],
      "execution_count": 33,
      "outputs": [
        {
          "output_type": "execute_result",
          "data": {
            "text/plain": [
              "<matplotlib.legend.Legend at 0x7f6ab1e78828>"
            ]
          },
          "metadata": {
            "tags": []
          },
          "execution_count": 33
        },
        {
          "output_type": "display_data",
          "data": {
            "image/png": "[encoded data removed]",
            "text/plain": [
              "<Figure size 432x288 with 1 Axes>"
            ]
          },
          "metadata": {
            "tags": [],
            "needs_background": "light"
          }
        }
      ]
    },
    {
      "cell_type": "markdown",
      "metadata": {
        "id": "Ci9FG-JucE47"
      },
      "source": [
        "41 seems the best number of minimum leaf samples to prevent overfitting. It have a similar metric for training and test (60)\n",
        "\n",
        "Let's retrain a model with this parameter"
      ]
    },
    {
      "cell_type": "code",
      "metadata": {
        "id": "fEll2jkzcE48",
        "colab": {
          "base_uri": "https://localhost:8080/"
        },
        "outputId": "d57877d7-efe5-4241-e57b-9f9c505b662e"
      },
      "source": [
        "dtr2 = DecisionTreeRegressor(criterion='mse',\n",
        "                            min_samples_leaf = 41)\n",
        "dtr2.fit(train[feature_label],train[target_label])\n",
        "train_prediction2 = dtr2.predict(train[feature_label])\n",
        "test_prediction2 = dtr2.predict(test[feature_label])\n",
        "train_rmse_best = mean_squared_error(train[target_label],train_prediction2)**.5\n",
        "test_rmse_best = mean_squared_error(test[target_label],test_prediction2)**.5\n",
        "print('train rmse:',train_rmse_best,'test rmse',test_rmse_best)"
      ],
      "execution_count": 34,
      "outputs": [
        {
          "output_type": "stream",
          "text": [
            "train rmse: 60.378695676148084 test rmse 60.99818219390048\n"
          ],
          "name": "stdout"
        }
      ]
    },
    {
      "cell_type": "code",
      "metadata": {
        "id": "rpcfSQuQcE49",
        "colab": {
          "base_uri": "https://localhost:8080/",
          "height": 282
        },
        "outputId": "e9e20a57-45ac-4a07-876d-7907aa607237"
      },
      "source": [
        "\n",
        "plt.scatter(test_prediction2,test[target_label])\n",
        "plt.plot(np.arange(1,800,10),np.arange(1,800,10),color='white')"
      ],
      "execution_count": 35,
      "outputs": [
        {
          "output_type": "execute_result",
          "data": {
            "text/plain": [
              "[<matplotlib.lines.Line2D at 0x7f6ab1eb7a20>]"
            ]
          },
          "metadata": {
            "tags": []
          },
          "execution_count": 35
        },
        {
          "output_type": "display_data",
          "data": {
            "image/png": "[encoded data removed]",
            "text/plain": [
              "<Figure size 432x288 with 1 Axes>"
            ]
          },
          "metadata": {
            "tags": [],
            "needs_background": "light"
          }
        }
      ]
    },
    {
      "cell_type": "code",
      "metadata": {
        "id": "_EGkJYeXcE4_"
      },
      "source": [
        "error_dtre = test_prediction2 - np.array(test[target_label])"
      ],
      "execution_count": 36,
      "outputs": []
    },
    {
      "cell_type": "markdown",
      "metadata": {
        "id": "bxstL0c_cE5B"
      },
      "source": [
        "## Random Forest"
      ]
    },
    {
      "cell_type": "code",
      "metadata": {
        "id": "zeCCqB8rcE5C"
      },
      "source": [
        "from sklearn.ensemble import RandomForestRegressor   "
      ],
      "execution_count": 37,
      "outputs": []
    },
    {
      "cell_type": "code",
      "metadata": {
        "id": "9dabdW0xcE5F"
      },
      "source": [
        "def rand_forest():\n",
        "    rf = RandomForestRegressor(n_estimators = 20, min_samples_leaf = 30)\n",
        "    rf.fit(train[feature_label],train['cnt'])\n",
        "    train_prediction = rf.predict(train[feature_label])\n",
        "    test_prediction = rf.predict(test[feature_label])\n",
        "    train_rmse = mean_squared_error(train['cnt'],train_prediction)**.5\n",
        "    test_rmse = mean_squared_error(test['cnt'],test_prediction)**.5\n",
        "    return (train_rmse,test_rmse)"
      ],
      "execution_count": 38,
      "outputs": []
    },
    {
      "cell_type": "code",
      "metadata": {
        "id": "hatOu5B8cE5H"
      },
      "source": [
        "rf_train,rf_test = rand_forest()"
      ],
      "execution_count": 39,
      "outputs": []
    },
    {
      "cell_type": "code",
      "metadata": {
        "scrolled": true,
        "id": "BwJMtODDcE5K",
        "colab": {
          "base_uri": "https://localhost:8080/"
        },
        "outputId": "972a5733-e6ee-40e5-fee1-c45602098836"
      },
      "source": [
        "rf_train,rf_test"
      ],
      "execution_count": 40,
      "outputs": [
        {
          "output_type": "execute_result",
          "data": {
            "text/plain": [
              "(57.026288487475455, 57.994779839950525)"
            ]
          },
          "metadata": {
            "tags": []
          },
          "execution_count": 40
        }
      ]
    }
  ]
}