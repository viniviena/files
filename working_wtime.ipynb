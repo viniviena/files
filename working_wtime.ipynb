{
 "cells": [
  {
   "cell_type": "markdown",
   "metadata": {
    "collapsed": true
   },
   "source": [
    "# What make Hacker News posts most commented? Analyzing key factors."
   ]
  },
  {
   "cell_type": "markdown",
   "metadata": {},
   "source": [
    "## 1. Introduction"
   ]
  },
  {
   "cell_type": "markdown",
   "metadata": {},
   "source": [
    "The Hacker News is a website widely used in technology circles where user submitted histories are voted and commented by other users. \n",
    "\n",
    "The posts have some variables associated with it - Title, user name, post identification, day and time, number of positive and negative votes and number of comments. \n",
    "\n",
    "**The objective of this work** is to identify which variables influence the net number of votes (number of positive votes subtracted by the negatives) and the number of comments. Two questions will be answered at the end of this project:\n",
    "\n",
    "* Does **Ask HN** and **Show HN** receive more comments on average?\n",
    "* The time of the post influences the number of comments?\n",
    "\n",
    "I will use a 20,000 row [data set](://www.kaggle.com/hacker-news/hacker-news-postsfrom) in csv format from Hacker News containing posts the have at least one comment associated with them."
   ]
  },
  {
   "cell_type": "markdown",
   "metadata": {},
   "source": [
    "## 2. Methodology"
   ]
  },
  {
   "cell_type": "markdown",
   "metadata": {},
   "source": [
    "### 2.1. Importing Data Set"
   ]
  },
  {
   "cell_type": "markdown",
   "metadata": {},
   "source": [
    "In this section, the data set will be first opened and them converted in a list of lists by using the `reader()` function from _csv_ module."
   ]
  },
  {
   "cell_type": "code",
   "execution_count": 1,
   "metadata": {
    "collapsed": false,
    "scrolled": false
   },
   "outputs": [
    {
     "name": "stdout",
     "output_type": "stream",
     "text": [
      "[['id', 'title', 'url', 'num_points', 'num_comments', 'author', 'created_at'], ['12224879', 'Interactive Dynamic Video', 'http://www.interactivedynamicvideo.com/', '386', '52', 'ne0phyte', '8/4/2016 11:52'], ['10975351', 'How to Use Open Source and Shut the Fuck Up at the Same Time', 'http://hueniverse.com/2016/01/26/how-to-use-open-source-and-shut-the-fuck-up-at-the-same-time/', '39', '10', 'josep2', '1/26/2016 19:30'], ['11964716', \"Florida DJs May Face Felony for April Fools' Water Joke\", 'http://www.thewire.com/entertainment/2013/04/florida-djs-april-fools-water-joke/63798/', '2', '1', 'vezycash', '6/23/2016 22:20']]\n"
     ]
    }
   ],
   "source": [
    "# Importing data set\n",
    "from csv import reader #Importing just the reader object\n",
    "opened_file = open('hacker_news.csv')\n",
    "read_file = reader(opened_file) #Instantiating a reader object and assigning to read_file\n",
    "hn = list(read_file) #Assigning the list of lists to the hn variable\n",
    "\n",
    "# Display few rows of data set\n",
    "print(hn[0:4])\n"
   ]
  },
  {
   "cell_type": "code",
   "execution_count": 2,
   "metadata": {
    "collapsed": false
   },
   "outputs": [
    {
     "name": "stdout",
     "output_type": "stream",
     "text": [
      "['id', 'title', 'url', 'num_points', 'num_comments', 'author', 'created_at']\n",
      "\n",
      "\n",
      "[['12224879', 'Interactive Dynamic Video', 'http://www.interactivedynamicvideo.com/', '386', '52', 'ne0phyte', '8/4/2016 11:52'], ['10975351', 'How to Use Open Source and Shut the Fuck Up at the Same Time', 'http://hueniverse.com/2016/01/26/how-to-use-open-source-and-shut-the-fuck-up-at-the-same-time/', '39', '10', 'josep2', '1/26/2016 19:30'], ['11964716', \"Florida DJs May Face Felony for April Fools' Water Joke\", 'http://www.thewire.com/entertainment/2013/04/florida-djs-april-fools-water-joke/63798/', '2', '1', 'vezycash', '6/23/2016 22:20']]\n"
     ]
    }
   ],
   "source": [
    "#Spliting data set in header row and data rows\n",
    "headers = hn[0]\n",
    "hn = hn[1:]\n",
    "\n",
    "#displaying new data sets\n",
    "print(headers)\n",
    "print(\"\\n\")\n",
    "print(hn[0:3])\n"
   ]
  },
  {
   "cell_type": "markdown",
   "metadata": {},
   "source": [
    "### 2.2. Filtering **Show HN** and **Ask HN** titled posts"
   ]
  },
  {
   "cell_type": "markdown",
   "metadata": {},
   "source": [
    "In this section, the following pieces of code will createa separate list the contains publications with **Show HN** or **Ask HN** titles."
   ]
  },
  {
   "cell_type": "markdown",
   "metadata": {},
   "source": [
    "To do this, the methods `string.startswith()` will be used inside a for loop to check in the title in the current iteration starts with **Show** or with **Ask**. \n",
    "\n",
    "\n",
    "* If `True`:\n",
    "    append the entire row to show_posts or ask_posts lists\n",
    "* If `False`: Append the entire row to other_posts list.\n",
    "\n",
    "Obs: The `string.lower()` function is used to avoid dealing with mixed upper and lower cases"
   ]
  },
  {
   "cell_type": "code",
   "execution_count": 3,
   "metadata": {
    "collapsed": false
   },
   "outputs": [
    {
     "name": "stdout",
     "output_type": "stream",
     "text": [
      "The number of ask posts is 1744\n",
      "\n",
      "\n",
      "The number of show posts is 1162\n",
      "\n",
      "\n",
      "The number of other posts is 17194\n"
     ]
    }
   ],
   "source": [
    "ask_posts  = []\n",
    "show_posts = []\n",
    "other_posts = []\n",
    "\n",
    "for row in hn:\n",
    "    title = row[1]\n",
    "    title = title.lower()\n",
    "    if title.startswith('ask hn'):\n",
    "        ask_posts.append(row)\n",
    "    elif title.startswith('show hn'):\n",
    "        show_posts.append(row)\n",
    "    else:\n",
    "        other_posts.append(row)\n",
    "        \n",
    "print('The number of ask posts is',len(ask_posts))\n",
    "print('\\n')\n",
    "print('The number of show posts is',len(show_posts))\n",
    "print('\\n')\n",
    "print('The number of other posts is',len(other_posts))\n",
    "\n",
    "        \n",
    "    "
   ]
  },
  {
   "cell_type": "markdown",
   "metadata": {},
   "source": [
    "### 2.3. Computing the average number of comments in ask and show posts"
   ]
  },
  {
   "cell_type": "code",
   "execution_count": 4,
   "metadata": {
    "collapsed": false
   },
   "outputs": [
    {
     "name": "stdout",
     "output_type": "stream",
     "text": [
      "The average number of comments on ask posts is 14.038417431192661\n"
     ]
    }
   ],
   "source": [
    "# Calculating the total number of comments in ask posts\n",
    "total_ask_comments = 0\n",
    "for row in ask_posts:\n",
    "    comments = int(row[4])\n",
    "    total_ask_comments += comments\n",
    "    \n",
    "#Calculating the average of comments in ask posts\n",
    "avg_ask_comments = total_ask_comments/len(ask_posts)\n",
    "print('The average number of comments on ask posts is',avg_ask_comments)\n",
    "    "
   ]
  },
  {
   "cell_type": "code",
   "execution_count": 5,
   "metadata": {
    "collapsed": false
   },
   "outputs": [
    {
     "name": "stdout",
     "output_type": "stream",
     "text": [
      "The average number of comments on show posts is 10.31669535283993\n"
     ]
    }
   ],
   "source": [
    "# Calculating the total number of show posts\n",
    "total_show_comments = 0\n",
    "for row in show_posts:\n",
    "    comments = int(row[4])\n",
    "    total_show_comments += comments\n",
    "\n",
    "avg_show_comments = total_show_comments/len(show_posts)\n",
    "print('The average number of comments on show posts is',avg_show_comments)\n",
    "    "
   ]
  },
  {
   "cell_type": "markdown",
   "metadata": {},
   "source": [
    "It can be seen that the **Show Posts** have lesser comments than **Ask Posts** on average. \n",
    "\n",
    "avg_show = 10.32\n",
    "\n",
    "avg_ask = 14.03\n",
    "\n",
    "One plausible explanation is that the comments related to ask posts engage people to actually answer something at comments. In Show posts, comments are not answers in fact, but additional content to what was already posted."
   ]
  },
  {
   "cell_type": "markdown",
   "metadata": {},
   "source": [
    "###  2.4. Analyzing what is the influence of time in the number of comments in Ask Posts.\n"
   ]
  },
  {
   "cell_type": "markdown",
   "metadata": {},
   "source": [
    "This section is intended to analyze if the time influences the number of comments in posts.\n",
    "\n",
    "In order to do it, only the **Ask Posts** will be considered as it showed a greater number of comments of average in the previous analysis.\n",
    "\n",
    "The steps to conduct this analysis are:\n",
    "\n",
    "1. Create a new list `result_list` contaning the hours in string format and the number of comments as integers.\n",
    "2. Create two dictionaries `counts_by_hour` and `comments_by_hour` that will stores the number of times an hour occur and the corresponding number of comments\n",
    "3. Do a for loop in results_list\n",
    "\n",
    "    3.1. Convert the string hours in datetime objects using `datetine.strptime()`function\n",
    "    \n",
    "    3.2. Instantiate an object with the corresponding hour with `datetime.strftime()`method.\n",
    "    \n",
    "    3.3. Sum over the for loop for comments and count dictionaries.\n"
   ]
  },
  {
   "cell_type": "code",
   "execution_count": 6,
   "metadata": {
    "collapsed": false
   },
   "outputs": [
    {
     "name": "stdout",
     "output_type": "stream",
     "text": [
      "{'19': 110, '14': 107, '11': 58, '01': 60, '20': 80, '22': 71, '03': 54, '05': 46, '06': 44, '10': 59, '21': 109, '15': 116, '23': 68, '16': 108, '09': 45, '13': 85, '07': 34, '08': 48, '18': 109, '02': 58, '17': 100, '04': 47, '12': 73, '00': 55}\n"
     ]
    }
   ],
   "source": [
    "## Importing datetime module\n",
    "import datetime as dt\n",
    "\n",
    "## Creating a new_list from ask_posts sub data set\n",
    "result_list = []\n",
    "for row in ask_posts:\n",
    "    created_at = row[6]\n",
    "    comments = int(row[4])\n",
    "    result_list.append([created_at,comments])\n",
    "\n",
    "## Creating dictionaries that counts the number of times a hour key\n",
    "## shows and the number of comments by each key hour\n",
    "\n",
    "counts_by_hour = {}\n",
    "comments_by_hour = {}\n",
    "for row in result_list:\n",
    "    comments = row[1]\n",
    "    unformated_time = row[0] #'8/4/2016 11:52'\n",
    "    formated_time = dt.datetime.strptime(unformated_time,\"%m/%d/%Y %H:%M\")\n",
    "    hour = dt.datetime.strftime(formated_time,\"%H\") #Instantiating stftime object and assigning to hour variable \n",
    "    if hour not in counts_by_hour:\n",
    "        counts_by_hour[hour]=1\n",
    "        comments_by_hour[hour] = comments\n",
    "    else:\n",
    "        counts_by_hour[hour] += 1\n",
    "        comments_by_hour[hour]+= comments\n",
    "        \n",
    "print(counts_by_hour)\n"
   ]
  },
  {
   "cell_type": "markdown",
   "metadata": {},
   "source": [
    "Now I have two dictionaries with the same keys, I can do a loop over one of them and stores the average values by hour in a list of lists."
   ]
  },
  {
   "cell_type": "code",
   "execution_count": 7,
   "metadata": {
    "collapsed": false
   },
   "outputs": [
    {
     "name": "stdout",
     "output_type": "stream",
     "text": [
      "[['19', 10.8], ['14', 13.233644859813085], ['11', 11.051724137931034], ['01', 11.383333333333333], ['20', 21.525], ['22', 6.746478873239437], ['03', 7.796296296296297], ['05', 10.08695652173913], ['06', 9.022727272727273], ['10', 13.440677966101696], ['21', 16.009174311926607], ['15', 38.5948275862069], ['23', 7.985294117647059], ['16', 16.796296296296298], ['09', 5.5777777777777775], ['13', 14.741176470588234], ['07', 7.852941176470588], ['08', 10.25], ['18', 13.20183486238532], ['02', 23.810344827586206], ['17', 11.46], ['04', 7.170212765957447], ['12', 9.41095890410959], ['00', 8.127272727272727]]\n"
     ]
    }
   ],
   "source": [
    "avg_by_hour = []\n",
    "for hour in counts_by_hour:\n",
    "    comments_hour = comments_by_hour[hour]\n",
    "    avg_by_hour.append([hour,comments_hour/counts_by_hour[hour]])\n",
    "\n",
    "print(avg_by_hour)"
   ]
  },
  {
   "cell_type": "markdown",
   "metadata": {},
   "source": [
    "Eventhough we now have a list with the **average comments per hour**, it is not in a easy to read format. In order to make it visual, the next code will print the top five most commented hours in a text like format. "
   ]
  },
  {
   "cell_type": "code",
   "execution_count": 11,
   "metadata": {
    "collapsed": false
   },
   "outputs": [
    {
     "name": "stdout",
     "output_type": "stream",
     "text": [
      "15:00: 38.59 comments per post\n",
      "02:00: 23.81 comments per post\n",
      "20:00: 21.52 comments per post\n",
      "16:00: 16.80 comments per post\n",
      "21:00: 16.01 comments per post\n"
     ]
    }
   ],
   "source": [
    "# Swapping the entries in avg_by_hour to sort by descending average descending order\n",
    "swap_avg_by_hour = []\n",
    "for hour in avg_by_hour:\n",
    "    swap_avg_by_hour.append([hour[1],hour[0]])\n",
    "#print(swap_avg_by_hour[0:2])\n",
    "\n",
    "# Sorting the swap_avg_by_hour list and assigning to sorted_swap variable\n",
    "sorted_swap = sorted(swap_avg_by_hour,reverse=True)\n",
    "\n",
    "#Printing the top five hours \n",
    "#print(sorted_swap[0:4])\n",
    "\n",
    "for row in sorted_swap[0:5]:\n",
    "    avg = row[0]\n",
    "    hour = row[1]\n",
    "    unformated_hour = dt.datetime.strptime(hour,\"%H\")\n",
    "    formated_hour = dt.datetime.strftime(unformated_hour,\"%H:%M\")\n",
    "    print(\"{time}: {average:.2f} comments per post\".format(time=formated_hour,average=avg))\n",
    "    \n",
    "\n",
    "    "
   ]
  },
  {
   "cell_type": "markdown",
   "metadata": {},
   "source": [
    "Using the average number of comments/perhour.pernumberofposts, which is sort of an hourly comment density in ask posts, we can see that posting between **15:00 and 15:59** gives one more chance to have higher comments in one's post."
   ]
  }
 ],
 "metadata": {
  "kernelspec": {
   "display_name": "Python 3",
   "language": "python",
   "name": "python3"
  },
  "language_info": {
   "codemirror_mode": {
    "name": "ipython",
    "version": 3
   },
   "file_extension": ".py",
   "mimetype": "text/x-python",
   "name": "python",
   "nbconvert_exporter": "python",
   "pygments_lexer": "ipython3",
   "version": "3.4.3"
  }
 },
 "nbformat": 4,
 "nbformat_minor": 2
}
