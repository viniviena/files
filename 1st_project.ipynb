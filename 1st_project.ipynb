{
 "cells": [
  {
   "cell_type": "markdown",
   "metadata": {
    "collapsed": true
   },
   "source": [
    "#          Apple Store and Google Play"
   ]
  },
  {
   "cell_type": "markdown",
   "metadata": {},
   "source": [
    "The Data Sets are [Google Play](https://www.kaggle.com/lava18/google-play-store-apps/home) and [IOS](https://www.kaggle.com/ramamet4/app-store-apple-data-set-10k-apps/home) apps. The Columns are app related variables and are organized in the following order:\n",
    "\n",
    "\n",
    "\n",
    "| App                                            | Category       | Rating | Reviews | Size | Installs | Type | Price | Content Rating | Genres       | Last Updated    | Current Ver | Android Ver  |\n",
    "|------------------------------------------------|----------------|--------|---------|------|----------|------|-------|----------------|--------------|-----------------|-------------|--------------|\n",
    "| Photo Editor & Candy Camera & Grid & ScrapBook | ART_AND_DESIGN | 4.1    | 159     | 19M  | 10,000+  | Free | 0     | Everyone       | Art & Design | January 7, 2018 | 1.0.0       | 4.0.3 and up |\n",
    "\n",
    "This project analyses _IOS_ and _Android_ apps related variables from a public data base in order to rank the characteristics that can increase free apps **profitability** in both markets.\n",
    "\n",
    "We already know that the number of users have great influence in free apps profitability. This work intends to figure out what characteristics attract users and are more likely to make a free app profitable for both markets (IOS and Android)."
   ]
  },
  {
   "cell_type": "markdown",
   "metadata": {},
   "source": [
    "## 1. Exploring Apple Store and Google Play Data sets."
   ]
  },
  {
   "cell_type": "markdown",
   "metadata": {},
   "source": [
    "\n",
    "In this section I will explore the Apple Store and Google Play data sets by doing the following steps:\n",
    "\n",
    "   1. Opening the csv files;\n",
    "   2. Using the `explore_data()` function to print few rows;\n",
    "   3. Print the column names to gain insight for future analysis."
   ]
  },
  {
   "cell_type": "markdown",
   "metadata": {},
   "source": [
    "## 1.1. Opening the csv files"
   ]
  },
  {
   "cell_type": "code",
   "execution_count": 1,
   "metadata": {
    "collapsed": false
   },
   "outputs": [],
   "source": [
    "opened_data_ios = open('AppleStore.csv')\n",
    "opened_data_andr = open('googleplaystore.csv')\n",
    "from csv import reader\n",
    "read_ios = reader(opened_data_ios)\n",
    "read_andr = reader(opened_data_andr)\n",
    "ios_data = list(read_ios)\n",
    "andr_data = list(read_andr)\n",
    "ios_data = ios_data[1:]\n",
    "andr_data = andr_data[1:]"
   ]
  },
  {
   "cell_type": "markdown",
   "metadata": {},
   "source": [
    "## 1.2 Defining `explore_data()` and exploring the data sets"
   ]
  },
  {
   "cell_type": "code",
   "execution_count": 2,
   "metadata": {
    "collapsed": false
   },
   "outputs": [
    {
     "name": "stdout",
     "output_type": "stream",
     "text": [
      "['284882215', 'Facebook', '389879808', 'USD', '0.0', '2974676', '212', '3.5', '3.5', '95.0', '4+', 'Social Networking', '37', '1', '29', '1']\n",
      "\n",
      "\n",
      "['389801252', 'Instagram', '113954816', 'USD', '0.0', '2161558', '1289', '4.5', '4.0', '10.23', '12+', 'Photo & Video', '37', '0', '29', '1']\n",
      "\n",
      "\n",
      "['529479190', 'Clash of Clans', '116476928', 'USD', '0.0', '2130805', '579', '4.5', '4.5', '9.24.12', '9+', 'Games', '38', '5', '18', '1']\n",
      "\n",
      "\n",
      "Number of rows: 7197\n",
      "Number of columns: 16\n",
      "['Photo Editor & Candy Camera & Grid & ScrapBook', 'ART_AND_DESIGN', '4.1', '159', '19M', '10,000+', 'Free', '0', 'Everyone', 'Art & Design', 'January 7, 2018', '1.0.0', '4.0.3 and up']\n",
      "\n",
      "\n",
      "['Coloring book moana', 'ART_AND_DESIGN', '3.9', '967', '14M', '500,000+', 'Free', '0', 'Everyone', 'Art & Design;Pretend Play', 'January 15, 2018', '2.0.0', '4.0.3 and up']\n",
      "\n",
      "\n",
      "['U Launcher Lite – FREE Live Cool Themes, Hide Apps', 'ART_AND_DESIGN', '4.7', '87510', '8.7M', '5,000,000+', 'Free', '0', 'Everyone', 'Art & Design', 'August 1, 2018', '1.2.4', '4.0.3 and up']\n",
      "\n",
      "\n",
      "Number of rows: 10841\n",
      "Number of columns: 13\n"
     ]
    }
   ],
   "source": [
    "def explore_data(dataset, start, end, rows_and_columns=False):\n",
    "    dataset_slice = dataset[start:end]    \n",
    "    for row in dataset_slice:\n",
    "        print(row)\n",
    "        print('\\n') # adds a new (empty) line after each row\n",
    "\n",
    "    if rows_and_columns:\n",
    "        print('Number of rows:', len(dataset))\n",
    "        print('Number of columns:', len(dataset[0]))\n",
    "        \n",
    "explore_data(ios_data,0,3,True)\n",
    "explore_data(andr_data,0,3,True)"
   ]
  },
  {
   "cell_type": "markdown",
   "metadata": {},
   "source": [
    "## 2. Cleaning Data"
   ]
  },
  {
   "cell_type": "markdown",
   "metadata": {},
   "source": [
    "In this section, I'm going to remove the data that are not useful for my objectives such as **non free apps**, **repeated apps** or **apps with missing information** and, finally, apps which are not build in **USA**."
   ]
  },
  {
   "cell_type": "markdown",
   "metadata": {},
   "source": [
    "## 2.1 Removing row with error in Google Play Data Set"
   ]
  },
  {
   "cell_type": "code",
   "execution_count": 3,
   "metadata": {
    "collapsed": false
   },
   "outputs": [
    {
     "name": "stdout",
     "output_type": "stream",
     "text": [
      "['Life Made WI-Fi Touchscreen Photo Frame', '1.9', '19', '3.0M', '1,000+', 'Free', '0', 'Everyone', '', 'February 11, 2018', '1.0.19', '4.0 and up']\n",
      "12\n",
      "13\n"
     ]
    }
   ],
   "source": [
    "print(andr_data[10472])\n",
    "print(len(andr_data[10472]))\n",
    "print(len(andr_data[10471]))"
   ]
  },
  {
   "cell_type": "markdown",
   "metadata": {},
   "source": [
    "It can be seen that the row number 10472 has only **12** columns compared to the row number 10471. This error was reported in [Kaggle discussion Google Play Dataset](https://www.kaggle.com/lava18/google-play-store-apps/discussion/66015Thus). To handle this error, I've removed the column number 10472 by using the `del` built in function."
   ]
  },
  {
   "cell_type": "code",
   "execution_count": 4,
   "metadata": {
    "collapsed": true
   },
   "outputs": [],
   "source": [
    "del andr_data[10472]"
   ]
  },
  {
   "cell_type": "code",
   "execution_count": 5,
   "metadata": {
    "collapsed": false
   },
   "outputs": [
    {
     "name": "stdout",
     "output_type": "stream",
     "text": [
      "['osmino Wi-Fi: free WiFi', 'TOOLS', '4.2', '134203', '4.1M', '10,000,000+', 'Free', '0', 'Everyone', 'Tools', 'August 7, 2018', '6.06.14', '4.4 and up']\n"
     ]
    }
   ],
   "source": [
    "print(andr_data[10472])"
   ]
  },
  {
   "cell_type": "markdown",
   "metadata": {
    "collapsed": true
   },
   "source": [
    "## 2.2 Removing duplicated rows"
   ]
  },
  {
   "cell_type": "markdown",
   "metadata": {},
   "source": [
    "By exploring the Google Play data set, it is possible to see that some apps have **duplicated entries**. in the following, I will track all apps that have repeated entries and print some of them."
   ]
  },
  {
   "cell_type": "code",
   "execution_count": 6,
   "metadata": {
    "collapsed": false
   },
   "outputs": [
    {
     "name": "stdout",
     "output_type": "stream",
     "text": [
      "['Quick PDF Scanner + OCR FREE', 'Box', 'Google My Business', 'ZOOM Cloud Meetings']\n",
      "The number of duplicate apps: 1181\n"
     ]
    }
   ],
   "source": [
    "unique_apps = []\n",
    "duplicate_apps =[]\n",
    "for i in andr_data:\n",
    "    name_app = i[0]\n",
    "    if name_app in unique_apps:\n",
    "        duplicate_apps.append(name_app)\n",
    "    else:\n",
    "        unique_apps.append(name_app)\n",
    "print(duplicate_apps[0:4])\n",
    "number_duplicates = len(duplicate_apps)        \n",
    "print(\"The number of duplicate apps:\",(number_duplicates))"
   ]
  },
  {
   "cell_type": "markdown",
   "metadata": {
    "collapsed": true
   },
   "source": [
    "   \n",
    "  Now, a methodology to remove the duplicated will be employed. First, lets check which variable differ from each repeated app."
   ]
  },
  {
   "cell_type": "code",
   "execution_count": 7,
   "metadata": {
    "collapsed": false
   },
   "outputs": [
    {
     "name": "stdout",
     "output_type": "stream",
     "text": [
      "['Quick PDF Scanner + OCR FREE', 'BUSINESS', '4.2', '80805', 'Varies with device', '5,000,000+', 'Free', '0', 'Everyone', 'Business', 'February 26, 2018', 'Varies with device', '4.0.3 and up']\n",
      "['Quick PDF Scanner + OCR FREE', 'BUSINESS', '4.2', '80805', 'Varies with device', '5,000,000+', 'Free', '0', 'Everyone', 'Business', 'February 26, 2018', 'Varies with device', '4.0.3 and up']\n",
      "['Quick PDF Scanner + OCR FREE', 'BUSINESS', '4.2', '80804', 'Varies with device', '5,000,000+', 'Free', '0', 'Everyone', 'Business', 'February 26, 2018', 'Varies with device', '4.0.3 and up']\n"
     ]
    }
   ],
   "source": [
    "for i in andr_data:\n",
    "    app_name = i[0]\n",
    "    if app_name == \"Quick PDF Scanner + OCR FREE\":\n",
    "        print(i)\n",
    "        \n",
    "\n",
    "    "
   ]
  },
  {
   "cell_type": "markdown",
   "metadata": {},
   "source": [
    "The criteria to select one of all repeated apps is the number of reviews. The highest, more recent is the app data and better for our analysis. This is used to remove the remaining data from the data set."
   ]
  },
  {
   "cell_type": "markdown",
   "metadata": {},
   "source": [
    "1. First we start creating an empty list `reviews_max{}`\n",
    "2. Then we loop in the Google Play Data Set and assign, at each iteration, the app name to a variable `name` and the number of reviews to a variable `n_reviews`.\n",
    "3. The first `if` test two conditions\n",
    "    * if there is already the current app in the dictionary\n",
    "    * if the associated value is lesser than the one already in position\n",
    "4. The second `if` checks if the current app name in evaluation is already in the dictionary. If not, add it to the dictionary"
   ]
  },
  {
   "cell_type": "code",
   "execution_count": 8,
   "metadata": {
    "collapsed": false
   },
   "outputs": [
    {
     "name": "stdout",
     "output_type": "stream",
     "text": [
      "The amount of repeated apps is equal to 9659\n"
     ]
    }
   ],
   "source": [
    "reviews_max = {}\n",
    "for i in andr_data:\n",
    "    name= i[0]\n",
    "    n_reviews = float(i[3])\n",
    "    if name in reviews_max and reviews_max[name]<n_reviews:\n",
    "        reviews_max[name] = n_reviews\n",
    "    if name not in reviews_max:\n",
    "        reviews_max[name]=n_reviews\n",
    "print('The amount of repeated apps is equal to',len(reviews_max))\n",
    "    \n"
   ]
  },
  {
   "cell_type": "markdown",
   "metadata": {},
   "source": [
    "The next code line creates a initially empty list which will be filled with the non repeated entries.\n",
    "Then, we loop through the Google Play Data Set and then check two conditions:\n",
    "1. If the current number of reviews equals the maximum *AND*\n",
    "2. IF the app name was already assessed.\n",
    " **The step 2 is important because the Google Play Data Set contains apps that may have the same numbers of reviews and all being the maximum value**"
   ]
  },
  {
   "cell_type": "code",
   "execution_count": 9,
   "metadata": {
    "collapsed": false
   },
   "outputs": [
    {
     "name": "stdout",
     "output_type": "stream",
     "text": [
      "New Data set size is: 9659\n"
     ]
    }
   ],
   "source": [
    "android_clean = []\n",
    "already_added = []\n",
    "for i in andr_data:\n",
    "    name = i[0]\n",
    "    n_reviews = float(i[3])\n",
    "    if n_reviews == reviews_max[name] and name not in already_added:\n",
    "        android_clean.append(i)\n",
    "        already_added.append(name)\n",
    "print('New Data set size is:',len(android_clean))\n",
    "        "
   ]
  },
  {
   "cell_type": "markdown",
   "metadata": {},
   "source": [
    "The obtained Data set size is in agreement with the result obtained in the dictionary construction `review_max{}`"
   ]
  },
  {
   "cell_type": "markdown",
   "metadata": {},
   "source": [
    "## 2.3 Removing apps with titles not in English Language"
   ]
  },
  {
   "cell_type": "markdown",
   "metadata": {},
   "source": [
    "Since we are only interested in apps developed in English Language, the non English Language written apps will be removed from the analysis.To do that, i'm going make use of the way the computer stores strings. It associate numbers to each symbol representing a letter. We can obtain this number by using the built in function `ord()`. The words in english are built with characters that ranges from 0 to 127. Then, we can check if the any string in the title exceed this range to exclude the corresponding app from the data set."
   ]
  },
  {
   "cell_type": "markdown",
   "metadata": {},
   "source": [
    "The following function can classify most words in English or non-English."
   ]
  },
  {
   "cell_type": "code",
   "execution_count": 10,
   "metadata": {
    "collapsed": false
   },
   "outputs": [
    {
     "data": {
      "text/plain": [
       "False"
      ]
     },
     "execution_count": 10,
     "metadata": {},
     "output_type": "execute_result"
    }
   ],
   "source": [
    "def word_class(string):\n",
    "    for letter in string:\n",
    "        if ord(letter)>127:\n",
    "            return False\n",
    "word_class('Docs To Go™ Free Office Suite') #testing function\n",
    "\n",
    "        "
   ]
  },
  {
   "cell_type": "markdown",
   "metadata": {},
   "source": [
    "It can be that the previous algorithm missclassify English words due to the presence of special strings. To improve it, a new function will be defined in order to reduce the possibility of missclassification by introducing a more robust checking. The algorithm will return False only if **FOUR** or more strings are indexed greater than 127."
   ]
  },
  {
   "cell_type": "code",
   "execution_count": 11,
   "metadata": {
    "collapsed": false
   },
   "outputs": [],
   "source": [
    "def word_class2(string):\n",
    "    true_count = 0\n",
    "    for letter in string:\n",
    "        letter_indx = ord(letter)    \n",
    "        if letter_indx > 127:\n",
    "            true_count += 1\n",
    "    if true_count > 3:\n",
    "        return(False)\n",
    "        \n",
    "        \n",
    "word_class2('Instachat 😜') #testing function"
   ]
  },
  {
   "cell_type": "markdown",
   "metadata": {},
   "source": [
    "## 2.4 Removing non-free apps"
   ]
  },
  {
   "cell_type": "code",
   "execution_count": 12,
   "metadata": {
    "collapsed": false
   },
   "outputs": [
    {
     "name": "stdout",
     "output_type": "stream",
     "text": [
      "The final length is 8904\n"
     ]
    }
   ],
   "source": [
    "android_finalclean = []\n",
    "for i in android_clean:\n",
    "    label = i[6]\n",
    "    if label == 'Free':\n",
    "        android_finalclean.append(i)\n",
    "\n",
    "print('The final length is',len(android_finalclean))\n",
    "        \n",
    "    \n"
   ]
  },
  {
   "cell_type": "markdown",
   "metadata": {},
   "source": [
    "As the first paragraph stated, the objective of the present analysis is finding the characteristics that makes free apps profitable in both IOS and Android Markets. An strong indication of profitability is the number of users. So, this is the sensor to measure profitability success."
   ]
  },
  {
   "cell_type": "markdown",
   "metadata": {},
   "source": [
    "## 3.Data Set Analysis"
   ]
  },
  {
   "cell_type": "markdown",
   "metadata": {},
   "source": [
    "## 3.1 Finding out proportions of apps by genre"
   ]
  },
  {
   "cell_type": "code",
   "execution_count": 13,
   "metadata": {
    "collapsed": false
   },
   "outputs": [
    {
     "name": "stdout",
     "output_type": "stream",
     "text": [
      "This is the unsorted relative frequency table\n",
      "\n",
      "\n",
      "{'GAME': 946, 'FINANCE': 345, 'SOCIAL': 239, 'TOOLS': 829, 'ENTERTAINMENT': 87, 'WEATHER': 79, 'FOOD_AND_DRINK': 112, 'COMMUNICATION': 315, 'DATING': 170, 'NEWS_AND_MAGAZINES': 254, 'COMICS': 56, 'MAPS_AND_NAVIGATION': 131, 'PERSONALIZATION': 376, 'HEALTH_AND_FITNESS': 288, 'BUSINESS': 420, 'EVENTS': 64, 'PRODUCTIVITY': 374, 'VIDEO_PLAYERS': 164, 'TRAVEL_AND_LOCAL': 219, 'PHOTOGRAPHY': 281, 'ART_AND_DESIGN': 61, 'MEDICAL': 395, 'FAMILY': 1874, 'PARENTING': 60, 'LIBRARIES_AND_DEMO': 84, 'LIFESTYLE': 369, 'BEAUTY': 53, 'HOUSE_AND_HOME': 73, 'SPORTS': 325, 'BOOKS_AND_REFERENCE': 222, 'EDUCATION': 107, 'AUTO_AND_VEHICLES': 85, 'SHOPPING': 202}\n"
     ]
    }
   ],
   "source": [
    "def frequence_table(dataset,index):\n",
    "    proportion = {}\n",
    "    dictionary = {}\n",
    "    for row in dataset:\n",
    "        genre = row[index]\n",
    "        if genre in dictionary:\n",
    "            dictionary[genre] +=1\n",
    "            proportion[genre] = round(dictionary[genre]/len(dataset)*100)\n",
    "        else:\n",
    "            dictionary[genre] = 1\n",
    "            proportion[genre] = round(dictionary[genre]/len(dataset)*100)\n",
    "    return dictionary\n",
    "            \n",
    "\n",
    "ANDROID_frequency = frequence_table(android_clean,1)\n",
    "#print(ANDROID_frequency)\n",
    "\n",
    "print('This is the unsorted relative frequency table')\n",
    "print('\\n')\n",
    "print(ANDROID_frequency)\n",
    "\n",
    "    \n",
    "    "
   ]
  },
  {
   "cell_type": "code",
   "execution_count": 14,
   "metadata": {
    "collapsed": false
   },
   "outputs": [
    {
     "name": "stdout",
     "output_type": "stream",
     "text": [
      "Category relative frequence\n",
      "FAMILY : 1874\n",
      "GAME : 946\n",
      "TOOLS : 829\n",
      "BUSINESS : 420\n",
      "MEDICAL : 395\n",
      "PERSONALIZATION : 376\n",
      "PRODUCTIVITY : 374\n",
      "LIFESTYLE : 369\n",
      "FINANCE : 345\n",
      "SPORTS : 325\n",
      "COMMUNICATION : 315\n",
      "HEALTH_AND_FITNESS : 288\n",
      "PHOTOGRAPHY : 281\n",
      "NEWS_AND_MAGAZINES : 254\n",
      "SOCIAL : 239\n",
      "BOOKS_AND_REFERENCE : 222\n",
      "TRAVEL_AND_LOCAL : 219\n",
      "SHOPPING : 202\n",
      "DATING : 170\n",
      "VIDEO_PLAYERS : 164\n",
      "MAPS_AND_NAVIGATION : 131\n",
      "FOOD_AND_DRINK : 112\n",
      "EDUCATION : 107\n",
      "ENTERTAINMENT : 87\n",
      "AUTO_AND_VEHICLES : 85\n",
      "LIBRARIES_AND_DEMO : 84\n",
      "WEATHER : 79\n",
      "HOUSE_AND_HOME : 73\n",
      "EVENTS : 64\n",
      "ART_AND_DESIGN : 61\n",
      "PARENTING : 60\n",
      "COMICS : 56\n",
      "BEAUTY : 53\n",
      "\n",
      "\n",
      "Genre relative frequence\n",
      "Tools : 828\n",
      "Entertainment : 561\n",
      "Education : 510\n",
      "Business : 420\n",
      "Medical : 395\n",
      "Personalization : 376\n",
      "Productivity : 374\n",
      "Lifestyle : 368\n",
      "Finance : 345\n",
      "Sports : 331\n",
      "Communication : 315\n",
      "Action : 299\n",
      "Health & Fitness : 288\n",
      "Photography : 281\n",
      "News & Magazines : 254\n",
      "Social : 239\n",
      "Books & Reference : 222\n",
      "Travel & Local : 218\n",
      "Shopping : 202\n",
      "Simulation : 193\n",
      "Arcade : 184\n",
      "Dating : 170\n",
      "Casual : 165\n",
      "Video Players & Editors : 162\n",
      "Maps & Navigation : 131\n",
      "Puzzle : 119\n",
      "Food & Drink : 112\n",
      "Role Playing : 105\n",
      "Strategy : 95\n",
      "Racing : 91\n",
      "Auto & Vehicles : 85\n",
      "Libraries & Demo : 84\n",
      "Weather : 79\n",
      "House & Home : 73\n",
      "Adventure : 73\n",
      "Events : 64\n",
      "Art & Design : 57\n",
      "Comics : 55\n",
      "Beauty : 53\n",
      "Card : 47\n",
      "Parenting : 46\n",
      "Board : 42\n",
      "Casino : 39\n",
      "Trivia : 38\n",
      "Educational;Education : 38\n",
      "Educational : 37\n",
      "Education;Education : 36\n",
      "Casual;Pretend Play : 25\n",
      "Word : 23\n",
      "Music : 19\n",
      "Puzzle;Brain Games : 17\n",
      "Education;Pretend Play : 17\n",
      "Racing;Action & Adventure : 16\n",
      "Entertainment;Music & Video : 15\n",
      "Board;Brain Games : 14\n",
      "Arcade;Action & Adventure : 14\n",
      "Educational;Pretend Play : 13\n",
      "Casual;Action & Adventure : 13\n",
      "Casual;Brain Games : 12\n",
      "Action;Action & Adventure : 12\n",
      "Simulation;Action & Adventure : 7\n",
      "Parenting;Education : 7\n",
      "Entertainment;Brain Games : 7\n",
      "Parenting;Music & Video : 6\n",
      "Educational;Brain Games : 6\n",
      "Education;Creativity : 6\n",
      "Casual;Creativity : 6\n",
      "Art & Design;Creativity : 6\n",
      "Educational;Creativity : 5\n",
      "Adventure;Action & Adventure : 5\n",
      "Sports;Action & Adventure : 4\n",
      "Role Playing;Pretend Play : 4\n",
      "Role Playing;Action & Adventure : 4\n",
      "Education;Brain Games : 4\n",
      "Education;Action & Adventure : 4\n",
      "Simulation;Pretend Play : 3\n",
      "Simulation;Education : 3\n",
      "Puzzle;Action & Adventure : 3\n",
      "Music;Music & Video : 3\n",
      "Entertainment;Creativity : 3\n",
      "Entertainment;Action & Adventure : 3\n",
      "Educational;Action & Adventure : 3\n",
      "Education;Music & Video : 3\n",
      "Casual;Education : 3\n",
      "Board;Action & Adventure : 3\n",
      "Video Players & Editors;Music & Video : 2\n",
      "Strategy;Action & Adventure : 2\n",
      "Puzzle;Creativity : 2\n",
      "Entertainment;Pretend Play : 2\n",
      "Card;Action & Adventure : 2\n",
      "Books & Reference;Education : 2\n",
      "Video Players & Editors;Creativity : 1\n",
      "Trivia;Education : 1\n",
      "Travel & Local;Action & Adventure : 1\n",
      "Tools;Education : 1\n",
      "Strategy;Education : 1\n",
      "Strategy;Creativity : 1\n",
      "Role Playing;Education : 1\n",
      "Role Playing;Brain Games : 1\n",
      "Racing;Pretend Play : 1\n",
      "Puzzle;Education : 1\n",
      "Parenting;Brain Games : 1\n",
      "Music & Audio;Music & Video : 1\n",
      "Lifestyle;Pretend Play : 1\n",
      "Lifestyle;Education : 1\n",
      "Health & Fitness;Education : 1\n",
      "Health & Fitness;Action & Adventure : 1\n",
      "Entertainment;Education : 1\n",
      "Communication;Creativity : 1\n",
      "Comics;Creativity : 1\n",
      "Casual;Music & Video : 1\n",
      "Books & Reference;Creativity : 1\n",
      "Board;Pretend Play : 1\n",
      "Art & Design;Pretend Play : 1\n",
      "Art & Design;Action & Adventure : 1\n",
      "Arcade;Pretend Play : 1\n",
      "Adventure;Education : 1\n",
      "Adventure;Brain Games : 1\n"
     ]
    }
   ],
   "source": [
    "def display_table(dataset, index):\n",
    "    table = frequence_table(dataset, index)\n",
    "    table_display = []\n",
    "    for key in table:\n",
    "        key_val_as_tuple = (table[key], key)\n",
    "        table_display.append(key_val_as_tuple)\n",
    "\n",
    "    table_sorted = sorted(table_display, reverse = True)\n",
    "    for entry in table_sorted:\n",
    "        print(entry[1], ':', entry[0])\n",
    "\n",
    "print('Category relative frequence')\n",
    "display_table(android_clean,1)\n",
    "print('\\n')\n",
    "print('Genre relative frequence')\n",
    "display_table(android_clean,9)\n"
   ]
  }
 ],
 "metadata": {
  "kernelspec": {
   "display_name": "Python 3",
   "language": "python",
   "name": "python3"
  },
  "language_info": {
   "codemirror_mode": {
    "name": "ipython",
    "version": 3
   },
   "file_extension": ".py",
   "mimetype": "text/x-python",
   "name": "python",
   "nbconvert_exporter": "python",
   "pygments_lexer": "ipython3",
   "version": "3.4.3"
  }
 },
 "nbformat": 4,
 "nbformat_minor": 2
}
