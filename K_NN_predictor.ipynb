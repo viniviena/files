{
  "nbformat": 4,
  "nbformat_minor": 0,
  "metadata": {
    "colab": {
      "name": "K-NN predictor.ipynb",
      "provenance": [],
      "collapsed_sections": []
    },
    "kernelspec": {
      "name": "python3",
      "display_name": "Python 3"
    }
  },
  "cells": [
    {
      "cell_type": "code",
      "metadata": {
        "id": "mJh_YFBgvAws",
        "colab_type": "code",
        "colab": {}
      },
      "source": [
        "#Importing Libraries\n",
        "import pandas as pd\n",
        "import numpy as np\n",
        "%load_ext google.colab.data_table\n",
        "import plotly.express as px\n",
        "import plotly.figure_factory as ff\n",
        "import plotly.graph_objects as go\n",
        "import cufflinks as cf\n",
        "data = pd.read_csv('/content/drive/My Drive/Colab Notebooks/imports-85.data',header =None)"
      ],
      "execution_count": null,
      "outputs": []
    },
    {
      "cell_type": "code",
      "metadata": {
        "id": "fM6NVYi1xVwP",
        "colab_type": "code",
        "colab": {}
      },
      "source": [
        "#pip install missingno"
      ],
      "execution_count": null,
      "outputs": []
    },
    {
      "cell_type": "code",
      "metadata": {
        "id": "3UEf8UTAxYJn",
        "colab_type": "code",
        "colab": {
          "base_uri": "https://localhost:8080/",
          "height": 87
        },
        "outputId": "42513515-24c9-42b8-ad31-c7b00f666177"
      },
      "source": [
        "import missingno as msno"
      ],
      "execution_count": null,
      "outputs": [
        {
          "output_type": "stream",
          "text": [
            "/usr/local/lib/python3.6/dist-packages/statsmodels/tools/_testing.py:19: FutureWarning:\n",
            "\n",
            "pandas.util.testing is deprecated. Use the functions in the public API at pandas.testing instead.\n",
            "\n"
          ],
          "name": "stderr"
        }
      ]
    },
    {
      "cell_type": "markdown",
      "metadata": {
        "id": "QUzrh1cH4PHs",
        "colab_type": "text"
      },
      "source": [
        "# The Data Set"
      ]
    },
    {
      "cell_type": "markdown",
      "metadata": {
        "id": "0Dz-hlnTzYJP",
        "colab_type": "text"
      },
      "source": [
        "Column name glossary:\n",
        "\n",
        "1. symboling: -3, -2, -1, 0, 1, 2, 3.\n",
        "2. normalized-losses: continuous from 65 to 256.\n",
        "3. make: alfa-romero, audi, bmw, chevrolet, dodge, honda,\n",
        "isuzu, jaguar, mazda, mercedes-benz, mercury,\n",
        "mitsubishi, nissan, peugot, plymouth, porsche,\n",
        "renault, saab, subaru, toyota, volkswagen, volvo\n",
        "4. fuel-type: diesel, gas.\n",
        "5. aspiration: std, turbo.\n",
        "6. num-of-doors: four, two.\n",
        "7. body-style: hardtop, wagon, sedan, hatchback, convertible.\n",
        "8. drive-wheels: 4wd, fwd, rwd.\n",
        "9. engine-location: front, rear.\n",
        "10. wheel-base: continuous from 86.6 120.9.\n",
        "11. length: continuous from 141.1 to 208.1.\n",
        "12. width: continuous from 60.3 to 72.3.\n",
        "13. height: continuous from 47.8 to 59.8.\n",
        "14. curb-weight: continuous from 1488 to 4066.\n",
        "15. engine-type: dohc, dohcv, l, ohc, ohcf, ohcv, rotor.\n",
        "16. num-of-cylinders: eight, five, four, six, three, twelve, two.\n",
        "17. engine-size: continuous from 61 to 326.\n",
        "18. fuel-system: 1bbl, 2bbl, 4bbl, idi, mfi, mpfi, spdi, spfi.\n",
        "19. bore: continuous from 2.54 to 3.94.\n",
        "20. stroke: continuous from 2.07 to 4.17.\n",
        "21. compression-ratio: continuous from 7 to 23.\n",
        "22. horsepower: continuous from 48 to 288.\n",
        "23. peak-rpm: continuous from 4150 to 6600.\n",
        "24. city-mpg: continuous from 13 to 49.\n",
        "25. highway-mpg: continuous from 16 to 54.\n",
        "26. price: continuous from 5118 to 45400"
      ]
    },
    {
      "cell_type": "code",
      "metadata": {
        "id": "bLKktnLHvH30",
        "colab_type": "code",
        "colab": {
          "base_uri": "https://localhost:8080/",
          "height": 603
        },
        "outputId": "11e7fd93-33b3-4017-b502-09a7dcd955f9"
      },
      "source": [
        "data.info()"
      ],
      "execution_count": null,
      "outputs": [
        {
          "output_type": "stream",
          "text": [
            "<class 'pandas.core.frame.DataFrame'>\n",
            "RangeIndex: 205 entries, 0 to 204\n",
            "Data columns (total 26 columns):\n",
            " #   Column  Non-Null Count  Dtype  \n",
            "---  ------  --------------  -----  \n",
            " 0   0       205 non-null    int64  \n",
            " 1   1       205 non-null    object \n",
            " 2   2       205 non-null    object \n",
            " 3   3       205 non-null    object \n",
            " 4   4       205 non-null    object \n",
            " 5   5       205 non-null    object \n",
            " 6   6       205 non-null    object \n",
            " 7   7       205 non-null    object \n",
            " 8   8       205 non-null    object \n",
            " 9   9       205 non-null    float64\n",
            " 10  10      205 non-null    float64\n",
            " 11  11      205 non-null    float64\n",
            " 12  12      205 non-null    float64\n",
            " 13  13      205 non-null    int64  \n",
            " 14  14      205 non-null    object \n",
            " 15  15      205 non-null    object \n",
            " 16  16      205 non-null    int64  \n",
            " 17  17      205 non-null    object \n",
            " 18  18      205 non-null    object \n",
            " 19  19      205 non-null    object \n",
            " 20  20      205 non-null    float64\n",
            " 21  21      205 non-null    object \n",
            " 22  22      205 non-null    object \n",
            " 23  23      205 non-null    int64  \n",
            " 24  24      205 non-null    int64  \n",
            " 25  25      205 non-null    object \n",
            "dtypes: float64(5), int64(5), object(16)\n",
            "memory usage: 41.8+ KB\n"
          ],
          "name": "stdout"
        }
      ]
    },
    {
      "cell_type": "markdown",
      "metadata": {
        "id": "FF0Ls20O4UR4",
        "colab_type": "text"
      },
      "source": [
        "## Let's first rename the are numerical."
      ]
    },
    {
      "cell_type": "code",
      "metadata": {
        "id": "8QgT59fR4g9m",
        "colab_type": "code",
        "colab": {}
      },
      "source": [
        "map = {0:'symboling',1:'normalized_losses',2:'name',5:'doors',9:'wheel_base',10:'length',11:'width',\n",
        "           12:'height',13:'curb_weight', 15:'cylinders', 16:'engine_size',\n",
        "           18:'bore',19:'stroke', 20:'compression_ratio', 21:'horsepower',22:'peak_rpm', 23:'city_mpg',24:'highway_mpg',25:'price'}\n",
        "data = data.copy()\n",
        "data = data.rename(mapper=map,axis=1)"
      ],
      "execution_count": null,
      "outputs": []
    },
    {
      "cell_type": "code",
      "metadata": {
        "id": "j4quEu170HW3",
        "colab_type": "code",
        "cellView": "form",
        "colab": {
          "base_uri": "https://localhost:8080/",
          "height": 267
        },
        "outputId": "4e4a7ed8-ca92-4f57-adb7-c2267ac212ca"
      },
      "source": [
        "#@title Table of data\n",
        "data.head(5)"
      ],
      "execution_count": null,
      "outputs": [
        {
          "output_type": "execute_result",
          "data": {
            "text/html": [
              "<div>\n",
              "<style scoped>\n",
              "    .dataframe tbody tr th:only-of-type {\n",
              "        vertical-align: middle;\n",
              "    }\n",
              "\n",
              "    .dataframe tbody tr th {\n",
              "        vertical-align: top;\n",
              "    }\n",
              "\n",
              "    .dataframe thead th {\n",
              "        text-align: right;\n",
              "    }\n",
              "</style>\n",
              "<table border=\"1\" class=\"dataframe\">\n",
              "  <thead>\n",
              "    <tr style=\"text-align: right;\">\n",
              "      <th></th>\n",
              "      <th>symboling</th>\n",
              "      <th>normalized_losses</th>\n",
              "      <th>name</th>\n",
              "      <th>3</th>\n",
              "      <th>4</th>\n",
              "      <th>doors</th>\n",
              "      <th>6</th>\n",
              "      <th>7</th>\n",
              "      <th>8</th>\n",
              "      <th>wheel_base</th>\n",
              "      <th>length</th>\n",
              "      <th>width</th>\n",
              "      <th>height</th>\n",
              "      <th>curb_weight</th>\n",
              "      <th>14</th>\n",
              "      <th>cylinders</th>\n",
              "      <th>engine_size</th>\n",
              "      <th>17</th>\n",
              "      <th>bore</th>\n",
              "      <th>stroke</th>\n",
              "      <th>compression_ratio</th>\n",
              "      <th>horsepower</th>\n",
              "      <th>peak_rpm</th>\n",
              "      <th>city_mpg</th>\n",
              "      <th>highway_mpg</th>\n",
              "      <th>price</th>\n",
              "    </tr>\n",
              "  </thead>\n",
              "  <tbody>\n",
              "    <tr>\n",
              "      <th>0</th>\n",
              "      <td>3</td>\n",
              "      <td>?</td>\n",
              "      <td>alfa-romero</td>\n",
              "      <td>gas</td>\n",
              "      <td>std</td>\n",
              "      <td>two</td>\n",
              "      <td>convertible</td>\n",
              "      <td>rwd</td>\n",
              "      <td>front</td>\n",
              "      <td>88.6</td>\n",
              "      <td>168.8</td>\n",
              "      <td>64.1</td>\n",
              "      <td>48.8</td>\n",
              "      <td>2548</td>\n",
              "      <td>dohc</td>\n",
              "      <td>four</td>\n",
              "      <td>130</td>\n",
              "      <td>mpfi</td>\n",
              "      <td>3.47</td>\n",
              "      <td>2.68</td>\n",
              "      <td>9.0</td>\n",
              "      <td>111</td>\n",
              "      <td>5000</td>\n",
              "      <td>21</td>\n",
              "      <td>27</td>\n",
              "      <td>13495</td>\n",
              "    </tr>\n",
              "    <tr>\n",
              "      <th>1</th>\n",
              "      <td>3</td>\n",
              "      <td>?</td>\n",
              "      <td>alfa-romero</td>\n",
              "      <td>gas</td>\n",
              "      <td>std</td>\n",
              "      <td>two</td>\n",
              "      <td>convertible</td>\n",
              "      <td>rwd</td>\n",
              "      <td>front</td>\n",
              "      <td>88.6</td>\n",
              "      <td>168.8</td>\n",
              "      <td>64.1</td>\n",
              "      <td>48.8</td>\n",
              "      <td>2548</td>\n",
              "      <td>dohc</td>\n",
              "      <td>four</td>\n",
              "      <td>130</td>\n",
              "      <td>mpfi</td>\n",
              "      <td>3.47</td>\n",
              "      <td>2.68</td>\n",
              "      <td>9.0</td>\n",
              "      <td>111</td>\n",
              "      <td>5000</td>\n",
              "      <td>21</td>\n",
              "      <td>27</td>\n",
              "      <td>16500</td>\n",
              "    </tr>\n",
              "    <tr>\n",
              "      <th>2</th>\n",
              "      <td>1</td>\n",
              "      <td>?</td>\n",
              "      <td>alfa-romero</td>\n",
              "      <td>gas</td>\n",
              "      <td>std</td>\n",
              "      <td>two</td>\n",
              "      <td>hatchback</td>\n",
              "      <td>rwd</td>\n",
              "      <td>front</td>\n",
              "      <td>94.5</td>\n",
              "      <td>171.2</td>\n",
              "      <td>65.5</td>\n",
              "      <td>52.4</td>\n",
              "      <td>2823</td>\n",
              "      <td>ohcv</td>\n",
              "      <td>six</td>\n",
              "      <td>152</td>\n",
              "      <td>mpfi</td>\n",
              "      <td>2.68</td>\n",
              "      <td>3.47</td>\n",
              "      <td>9.0</td>\n",
              "      <td>154</td>\n",
              "      <td>5000</td>\n",
              "      <td>19</td>\n",
              "      <td>26</td>\n",
              "      <td>16500</td>\n",
              "    </tr>\n",
              "    <tr>\n",
              "      <th>3</th>\n",
              "      <td>2</td>\n",
              "      <td>164</td>\n",
              "      <td>audi</td>\n",
              "      <td>gas</td>\n",
              "      <td>std</td>\n",
              "      <td>four</td>\n",
              "      <td>sedan</td>\n",
              "      <td>fwd</td>\n",
              "      <td>front</td>\n",
              "      <td>99.8</td>\n",
              "      <td>176.6</td>\n",
              "      <td>66.2</td>\n",
              "      <td>54.3</td>\n",
              "      <td>2337</td>\n",
              "      <td>ohc</td>\n",
              "      <td>four</td>\n",
              "      <td>109</td>\n",
              "      <td>mpfi</td>\n",
              "      <td>3.19</td>\n",
              "      <td>3.40</td>\n",
              "      <td>10.0</td>\n",
              "      <td>102</td>\n",
              "      <td>5500</td>\n",
              "      <td>24</td>\n",
              "      <td>30</td>\n",
              "      <td>13950</td>\n",
              "    </tr>\n",
              "    <tr>\n",
              "      <th>4</th>\n",
              "      <td>2</td>\n",
              "      <td>164</td>\n",
              "      <td>audi</td>\n",
              "      <td>gas</td>\n",
              "      <td>std</td>\n",
              "      <td>four</td>\n",
              "      <td>sedan</td>\n",
              "      <td>4wd</td>\n",
              "      <td>front</td>\n",
              "      <td>99.4</td>\n",
              "      <td>176.6</td>\n",
              "      <td>66.4</td>\n",
              "      <td>54.3</td>\n",
              "      <td>2824</td>\n",
              "      <td>ohc</td>\n",
              "      <td>five</td>\n",
              "      <td>136</td>\n",
              "      <td>mpfi</td>\n",
              "      <td>3.19</td>\n",
              "      <td>3.40</td>\n",
              "      <td>8.0</td>\n",
              "      <td>115</td>\n",
              "      <td>5500</td>\n",
              "      <td>18</td>\n",
              "      <td>22</td>\n",
              "      <td>17450</td>\n",
              "    </tr>\n",
              "  </tbody>\n",
              "</table>\n",
              "</div>"
            ],
            "text/plain": [
              "   symboling normalized_losses         name  ... city_mpg highway_mpg  price\n",
              "0          3                 ?  alfa-romero  ...       21          27  13495\n",
              "1          3                 ?  alfa-romero  ...       21          27  16500\n",
              "2          1                 ?  alfa-romero  ...       19          26  16500\n",
              "3          2               164         audi  ...       24          30  13950\n",
              "4          2               164         audi  ...       18          22  17450\n",
              "\n",
              "[5 rows x 26 columns]"
            ]
          },
          "metadata": {
            "tags": []
          },
          "execution_count": 6
        }
      ]
    },
    {
      "cell_type": "markdown",
      "metadata": {
        "id": "1jLAOWAWyKBG",
        "colab_type": "text"
      },
      "source": [
        "The normalized_losses column contains '?' symbols which are missing data. Let's replace it with np.nan arguments."
      ]
    },
    {
      "cell_type": "code",
      "metadata": {
        "id": "_ruk3IgfyF0C",
        "colab_type": "code",
        "colab": {}
      },
      "source": [
        "data['normalized_losses'] = data['normalized_losses'].apply(lambda x: np.nan if x == '?' else x)"
      ],
      "execution_count": null,
      "outputs": []
    },
    {
      "cell_type": "markdown",
      "metadata": {
        "id": "57Z_7yCw0Kt-",
        "colab_type": "text"
      },
      "source": [
        "let's also replace the cylinders column with numbers\n",
        "\n"
      ]
    },
    {
      "cell_type": "code",
      "metadata": {
        "id": "eWlD2aIk0yIb",
        "colab_type": "code",
        "colab": {
          "base_uri": "https://localhost:8080/",
          "height": 158
        },
        "outputId": "4f88c72a-9fe5-4ad5-d3db-780037b454c6"
      },
      "source": [
        "data['cylinders'].value_counts()\n",
        "wrten2numb = {'four':4,'six':6,'five':5,'eight':8,'two':2,'three':3,'twelve':12}\n",
        "data['cylinders'] = data['cylinders'].map(wrten2numb)\n",
        "data['cylinders'].value_counts()"
      ],
      "execution_count": null,
      "outputs": [
        {
          "output_type": "execute_result",
          "data": {
            "text/plain": [
              "4     159\n",
              "6      24\n",
              "5      11\n",
              "8       5\n",
              "2       4\n",
              "12      1\n",
              "3       1\n",
              "Name: cylinders, dtype: int64"
            ]
          },
          "metadata": {
            "tags": []
          },
          "execution_count": 8
        }
      ]
    },
    {
      "cell_type": "markdown",
      "metadata": {
        "id": "wEj7r8ME2PbZ",
        "colab_type": "text"
      },
      "source": [
        "Let's also convert the price column to float64"
      ]
    },
    {
      "cell_type": "code",
      "metadata": {
        "id": "Da_MNGZs2eFH",
        "colab_type": "code",
        "colab": {
          "base_uri": "https://localhost:8080/",
          "height": 247
        },
        "outputId": "5f73339a-0795-4eb3-e6ef-6b8bb7cbc76d"
      },
      "source": [
        "print(data['price'].value_counts())\n",
        "print(\"there are 4 '?'in the price column\")"
      ],
      "execution_count": null,
      "outputs": [
        {
          "output_type": "stream",
          "text": [
            "?        4\n",
            "8921     2\n",
            "8495     2\n",
            "16500    2\n",
            "7957     2\n",
            "        ..\n",
            "7463     1\n",
            "13645    1\n",
            "8778     1\n",
            "23875    1\n",
            "7995     1\n",
            "Name: price, Length: 187, dtype: int64\n",
            "there are 4 '?'in the price column\n"
          ],
          "name": "stdout"
        }
      ]
    },
    {
      "cell_type": "code",
      "metadata": {
        "id": "rBNyYdy42xUo",
        "colab_type": "code",
        "colab": {}
      },
      "source": [
        "data['price'] = data['price'].apply(lambda x: np.nan if x == '?' else x)\n",
        "data['price'] = data['price'].astype(float)"
      ],
      "execution_count": null,
      "outputs": []
    },
    {
      "cell_type": "markdown",
      "metadata": {
        "id": "hBsCbHnC50Gq",
        "colab_type": "text"
      },
      "source": [
        "Let's check how many missing values there are in the normalized_loss column"
      ]
    },
    {
      "cell_type": "code",
      "metadata": {
        "id": "9GoOTTOT53XG",
        "colab_type": "code",
        "colab": {
          "base_uri": "https://localhost:8080/",
          "height": 603
        },
        "outputId": "5d27e8d7-132f-4db8-c186-6573ed7ccaf8"
      },
      "source": [
        "data.info()"
      ],
      "execution_count": null,
      "outputs": [
        {
          "output_type": "stream",
          "text": [
            "<class 'pandas.core.frame.DataFrame'>\n",
            "RangeIndex: 205 entries, 0 to 204\n",
            "Data columns (total 26 columns):\n",
            " #   Column             Non-Null Count  Dtype  \n",
            "---  ------             --------------  -----  \n",
            " 0   symboling          205 non-null    int64  \n",
            " 1   normalized_losses  164 non-null    object \n",
            " 2   name               205 non-null    object \n",
            " 3   3                  205 non-null    object \n",
            " 4   4                  205 non-null    object \n",
            " 5   doors              205 non-null    object \n",
            " 6   6                  205 non-null    object \n",
            " 7   7                  205 non-null    object \n",
            " 8   8                  205 non-null    object \n",
            " 9   wheel_base         205 non-null    float64\n",
            " 10  length             205 non-null    float64\n",
            " 11  width              205 non-null    float64\n",
            " 12  height             205 non-null    float64\n",
            " 13  curb_weight        205 non-null    int64  \n",
            " 14  14                 205 non-null    object \n",
            " 15  cylinders          205 non-null    int64  \n",
            " 16  engine_size        205 non-null    int64  \n",
            " 17  17                 205 non-null    object \n",
            " 18  bore               205 non-null    object \n",
            " 19  stroke             205 non-null    object \n",
            " 20  compression_ratio  205 non-null    float64\n",
            " 21  horsepower         205 non-null    object \n",
            " 22  peak_rpm           205 non-null    object \n",
            " 23  city_mpg           205 non-null    int64  \n",
            " 24  highway_mpg        205 non-null    int64  \n",
            " 25  price              201 non-null    float64\n",
            "dtypes: float64(6), int64(6), object(14)\n",
            "memory usage: 41.8+ KB\n"
          ],
          "name": "stdout"
        }
      ]
    },
    {
      "cell_type": "markdown",
      "metadata": {
        "id": "Y8CpesPa8AFU",
        "colab_type": "text"
      },
      "source": [
        "The scatter plot don't give evidence of strong correlation between the normalized_losses and the price. It is not justifyable to keep the entire column in the analysis. It have 20% missing values and are not likely to improve the predictions. Let's drop it!"
      ]
    },
    {
      "cell_type": "code",
      "metadata": {
        "id": "ljH81GUU8xmf",
        "colab_type": "code",
        "colab": {}
      },
      "source": [
        "data = data.drop(labels = 'normalized_losses', axis = 1)"
      ],
      "execution_count": null,
      "outputs": []
    },
    {
      "cell_type": "code",
      "metadata": {
        "id": "om2kDOrA839e",
        "colab_type": "code",
        "colab": {
          "base_uri": "https://localhost:8080/",
          "height": 267
        },
        "outputId": "47cc8943-bf7d-44d7-cd36-0e9e35815bd0"
      },
      "source": [
        "data.head(5)"
      ],
      "execution_count": null,
      "outputs": [
        {
          "output_type": "execute_result",
          "data": {
            "text/html": [
              "<div>\n",
              "<style scoped>\n",
              "    .dataframe tbody tr th:only-of-type {\n",
              "        vertical-align: middle;\n",
              "    }\n",
              "\n",
              "    .dataframe tbody tr th {\n",
              "        vertical-align: top;\n",
              "    }\n",
              "\n",
              "    .dataframe thead th {\n",
              "        text-align: right;\n",
              "    }\n",
              "</style>\n",
              "<table border=\"1\" class=\"dataframe\">\n",
              "  <thead>\n",
              "    <tr style=\"text-align: right;\">\n",
              "      <th></th>\n",
              "      <th>symboling</th>\n",
              "      <th>name</th>\n",
              "      <th>3</th>\n",
              "      <th>4</th>\n",
              "      <th>doors</th>\n",
              "      <th>6</th>\n",
              "      <th>7</th>\n",
              "      <th>8</th>\n",
              "      <th>wheel_base</th>\n",
              "      <th>length</th>\n",
              "      <th>width</th>\n",
              "      <th>height</th>\n",
              "      <th>curb_weight</th>\n",
              "      <th>14</th>\n",
              "      <th>cylinders</th>\n",
              "      <th>engine_size</th>\n",
              "      <th>17</th>\n",
              "      <th>bore</th>\n",
              "      <th>stroke</th>\n",
              "      <th>compression_ratio</th>\n",
              "      <th>horsepower</th>\n",
              "      <th>peak_rpm</th>\n",
              "      <th>city_mpg</th>\n",
              "      <th>highway_mpg</th>\n",
              "      <th>price</th>\n",
              "    </tr>\n",
              "  </thead>\n",
              "  <tbody>\n",
              "    <tr>\n",
              "      <th>0</th>\n",
              "      <td>3</td>\n",
              "      <td>alfa-romero</td>\n",
              "      <td>gas</td>\n",
              "      <td>std</td>\n",
              "      <td>two</td>\n",
              "      <td>convertible</td>\n",
              "      <td>rwd</td>\n",
              "      <td>front</td>\n",
              "      <td>88.6</td>\n",
              "      <td>168.8</td>\n",
              "      <td>64.1</td>\n",
              "      <td>48.8</td>\n",
              "      <td>2548</td>\n",
              "      <td>dohc</td>\n",
              "      <td>4</td>\n",
              "      <td>130</td>\n",
              "      <td>mpfi</td>\n",
              "      <td>3.47</td>\n",
              "      <td>2.68</td>\n",
              "      <td>9.0</td>\n",
              "      <td>111</td>\n",
              "      <td>5000</td>\n",
              "      <td>21</td>\n",
              "      <td>27</td>\n",
              "      <td>13495.0</td>\n",
              "    </tr>\n",
              "    <tr>\n",
              "      <th>1</th>\n",
              "      <td>3</td>\n",
              "      <td>alfa-romero</td>\n",
              "      <td>gas</td>\n",
              "      <td>std</td>\n",
              "      <td>two</td>\n",
              "      <td>convertible</td>\n",
              "      <td>rwd</td>\n",
              "      <td>front</td>\n",
              "      <td>88.6</td>\n",
              "      <td>168.8</td>\n",
              "      <td>64.1</td>\n",
              "      <td>48.8</td>\n",
              "      <td>2548</td>\n",
              "      <td>dohc</td>\n",
              "      <td>4</td>\n",
              "      <td>130</td>\n",
              "      <td>mpfi</td>\n",
              "      <td>3.47</td>\n",
              "      <td>2.68</td>\n",
              "      <td>9.0</td>\n",
              "      <td>111</td>\n",
              "      <td>5000</td>\n",
              "      <td>21</td>\n",
              "      <td>27</td>\n",
              "      <td>16500.0</td>\n",
              "    </tr>\n",
              "    <tr>\n",
              "      <th>2</th>\n",
              "      <td>1</td>\n",
              "      <td>alfa-romero</td>\n",
              "      <td>gas</td>\n",
              "      <td>std</td>\n",
              "      <td>two</td>\n",
              "      <td>hatchback</td>\n",
              "      <td>rwd</td>\n",
              "      <td>front</td>\n",
              "      <td>94.5</td>\n",
              "      <td>171.2</td>\n",
              "      <td>65.5</td>\n",
              "      <td>52.4</td>\n",
              "      <td>2823</td>\n",
              "      <td>ohcv</td>\n",
              "      <td>6</td>\n",
              "      <td>152</td>\n",
              "      <td>mpfi</td>\n",
              "      <td>2.68</td>\n",
              "      <td>3.47</td>\n",
              "      <td>9.0</td>\n",
              "      <td>154</td>\n",
              "      <td>5000</td>\n",
              "      <td>19</td>\n",
              "      <td>26</td>\n",
              "      <td>16500.0</td>\n",
              "    </tr>\n",
              "    <tr>\n",
              "      <th>3</th>\n",
              "      <td>2</td>\n",
              "      <td>audi</td>\n",
              "      <td>gas</td>\n",
              "      <td>std</td>\n",
              "      <td>four</td>\n",
              "      <td>sedan</td>\n",
              "      <td>fwd</td>\n",
              "      <td>front</td>\n",
              "      <td>99.8</td>\n",
              "      <td>176.6</td>\n",
              "      <td>66.2</td>\n",
              "      <td>54.3</td>\n",
              "      <td>2337</td>\n",
              "      <td>ohc</td>\n",
              "      <td>4</td>\n",
              "      <td>109</td>\n",
              "      <td>mpfi</td>\n",
              "      <td>3.19</td>\n",
              "      <td>3.40</td>\n",
              "      <td>10.0</td>\n",
              "      <td>102</td>\n",
              "      <td>5500</td>\n",
              "      <td>24</td>\n",
              "      <td>30</td>\n",
              "      <td>13950.0</td>\n",
              "    </tr>\n",
              "    <tr>\n",
              "      <th>4</th>\n",
              "      <td>2</td>\n",
              "      <td>audi</td>\n",
              "      <td>gas</td>\n",
              "      <td>std</td>\n",
              "      <td>four</td>\n",
              "      <td>sedan</td>\n",
              "      <td>4wd</td>\n",
              "      <td>front</td>\n",
              "      <td>99.4</td>\n",
              "      <td>176.6</td>\n",
              "      <td>66.4</td>\n",
              "      <td>54.3</td>\n",
              "      <td>2824</td>\n",
              "      <td>ohc</td>\n",
              "      <td>5</td>\n",
              "      <td>136</td>\n",
              "      <td>mpfi</td>\n",
              "      <td>3.19</td>\n",
              "      <td>3.40</td>\n",
              "      <td>8.0</td>\n",
              "      <td>115</td>\n",
              "      <td>5500</td>\n",
              "      <td>18</td>\n",
              "      <td>22</td>\n",
              "      <td>17450.0</td>\n",
              "    </tr>\n",
              "  </tbody>\n",
              "</table>\n",
              "</div>"
            ],
            "text/plain": [
              "   symboling         name    3    4  ... peak_rpm city_mpg highway_mpg    price\n",
              "0          3  alfa-romero  gas  std  ...     5000       21          27  13495.0\n",
              "1          3  alfa-romero  gas  std  ...     5000       21          27  16500.0\n",
              "2          1  alfa-romero  gas  std  ...     5000       19          26  16500.0\n",
              "3          2         audi  gas  std  ...     5500       24          30  13950.0\n",
              "4          2         audi  gas  std  ...     5500       18          22  17450.0\n",
              "\n",
              "[5 rows x 25 columns]"
            ]
          },
          "metadata": {
            "tags": []
          },
          "execution_count": 13
        }
      ]
    },
    {
      "cell_type": "markdown",
      "metadata": {
        "id": "5eirXaqf_KoC",
        "colab_type": "text"
      },
      "source": [
        "# Choosing features"
      ]
    },
    {
      "cell_type": "markdown",
      "metadata": {
        "id": "tM8GdPG49WbQ",
        "colab_type": "text"
      },
      "source": [
        "Let's analyze it is worthing keeping the 'doors' column. It's a numerical variable but only with two possible values. Is it worth to keep it as a predictor of price? Let's see a histogram."
      ]
    },
    {
      "cell_type": "code",
      "metadata": {
        "id": "mD4kJ5ZW9Yed",
        "colab_type": "code",
        "cellView": "form",
        "colab": {
          "base_uri": "https://localhost:8080/",
          "height": 616
        },
        "outputId": "5bbb9d02-ac02-4190-b6ec-e4c36538932f"
      },
      "source": [
        "#@title Histogram\n",
        "data2 = data.copy()\n",
        "data2['two_doors'] = data.loc[data['doors'] == 'two', 'price']\n",
        "data2['four_doors'] = data.loc[data['doors'] == 'four', 'price']\n",
        "mean1 = data2['two_doors'].mean()\n",
        "mean2 = data2['four_doors'].mean()\n",
        "fig = data2.iplot(asFigure=True,kind='histogram', columns = ['two_doors','four_doors'],\n",
        "          vline=[mean1,mean2],bins=10)\n",
        "fig.update_layout(width=800,height=600)\n",
        "fig.show()\n",
        "#data"
      ],
      "execution_count": null,
      "outputs": [
        {
          "output_type": "display_data",
          "data": {
            "text/html": [
              "<html>\n",
              "<head><meta charset=\"utf-8\" /></head>\n",
              "<body>\n",
              "    <div>\n",
              "            <script src=\"https://cdnjs.cloudflare.com/ajax/libs/mathjax/2.7.5/MathJax.js?config=TeX-AMS-MML_SVG\"></script><script type=\"text/javascript\">if (window.MathJax) {MathJax.Hub.Config({SVG: {font: \"STIX-Web\"}});}</script>\n",
              "                <script type=\"text/javascript\">window.PlotlyConfig = {MathJaxConfig: 'local'};</script>\n",
              "        <script src=\"https://cdn.plot.ly/plotly-latest.min.js\"></script>    \n",
              "            <div id=\"c67ac9d0-55d2-4d3e-a522-567f2322d1cd\" class=\"plotly-graph-div\" style=\"height:600px; width:800px;\"></div>\n",
              "            <script type=\"text/javascript\">\n",
              "                \n",
              "                    window.PLOTLYENV=window.PLOTLYENV || {};\n",
              "                    \n",
              "                if (document.getElementById(\"c67ac9d0-55d2-4d3e-a522-567f2322d1cd\")) {\n",
              "                    Plotly.newPlot(\n",
              "                        'c67ac9d0-55d2-4d3e-a522-567f2322d1cd',\n",
              "                        [{\"histfunc\": \"count\", \"histnorm\": \"\", \"marker\": {\"color\": \"rgba(128, 0, 128, 0.7999999999999998)\", \"line\": {\"color\": \"#4D5663\", \"width\": 1.3}}, \"name\": \"two_doors\", \"nbinsx\": 10, \"opacity\": 0.8, \"orientation\": \"v\", \"type\": \"histogram\", \"x\": [13495.0, 16500.0, 16500.0, null, null, 15250.0, null, null, null, null, 16430.0, null, 20970.0, null, null, null, 41315.0, null, 5151.0, 6295.0, null, 5572.0, 6377.0, 7957.0, null, null, null, null, null, 12964.0, 6479.0, 6855.0, 5399.0, 6529.0, 7129.0, null, null, 7895.0, 9095.0, null, null, null, 10345.0, null, null, null, 11048.0, null, null, 36000.0, 5195.0, 6095.0, 6795.0, null, null, 10945.0, 11845.0, 13645.0, 15645.0, 8845.0, null, 10595.0, null, null, null, null, null, null, null, 28176.0, null, null, 35056.0, null, 45400.0, 16503.0, 5389.0, 6189.0, 6669.0, 7689.0, 9959.0, 8499.0, 12629.0, 14869.0, 14489.0, null, null, null, null, 5499.0, 7099.0, 6649.0, null, null, 7299.0, 7799.0, null, null, 8249.0, null, null, null, null, null, 17199.0, 19699.0, 18399.0, null, null, null, null, null, null, null, null, null, null, null, 5572.0, 7957.0, null, null, null, null, 12764.0, 22018.0, 32528.0, 34028.0, 37028.0, null, null, 9895.0, 11850.0, null, 15040.0, null, 18150.0, null, 5118.0, 7053.0, 7603.0, null, null, null, null, null, null, null, null, null, 5348.0, 6338.0, null, null, null, null, null, null, null, null, null, null, null, 8058.0, 8238.0, 9298.0, 9538.0, 8449.0, 9639.0, 9989.0, 11199.0, 11549.0, 17669.0, null, null, null, null, null, 16558.0, 15998.0, null, null, 7775.0, 7975.0, null, null, null, null, null, 11595.0, 9980.0, null, null, null, null, null, null, null, null, null, null, null, null, null, null]}, {\"histfunc\": \"count\", \"histnorm\": \"\", \"marker\": {\"color\": \"rgba(219, 64, 82, 0.7999999999999998)\", \"line\": {\"color\": \"#4D5663\", \"width\": 1.3}}, \"name\": \"four_doors\", \"nbinsx\": 10, \"opacity\": 0.8, \"orientation\": \"v\", \"type\": \"histogram\", \"x\": [null, null, null, 13950.0, 17450.0, null, 17710.0, 18920.0, 23875.0, null, null, 16925.0, null, 21105.0, 24565.0, 30760.0, null, 36880.0, null, null, 6575.0, null, null, null, 6229.0, 6692.0, 7609.0, null, 8921.0, null, null, null, null, null, null, 7295.0, 7295.0, null, null, 8845.0, 10295.0, 12945.0, null, 6785.0, null, null, null, 32250.0, 35550.0, null, null, null, null, 6695.0, 7395.0, null, null, null, null, null, 8495.0, null, 10245.0, null, 11245.0, 18280.0, 18344.0, 25552.0, 28248.0, null, 31600.0, 34184.0, null, 40960.0, null, null, null, null, null, null, null, null, null, null, null, 6989.0, 8189.0, 9279.0, 9279.0, null, null, null, 6849.0, 7349.0, null, null, 7499.0, 7999.0, null, 8949.0, 9549.0, 13499.0, 14399.0, 13499.0, null, null, null, 11900.0, 13200.0, 12440.0, 13860.0, 15580.0, 16900.0, 16695.0, 17075.0, 16630.0, 17950.0, 18150.0, null, null, 6229.0, 6692.0, 7609.0, 8921.0, null, null, null, null, null, null, 9295.0, null, null, 12170.0, null, 15510.0, null, 18620.0, null, null, null, 7126.0, 7775.0, 9960.0, 9233.0, 11259.0, 7463.0, 10198.0, 8013.0, 11694.0, null, null, 6488.0, 6918.0, 7898.0, 8778.0, 6938.0, 7198.0, 7898.0, 7788.0, 7738.0, 8358.0, 9258.0, null, null, null, null, null, null, null, null, null, null, 8948.0, 10698.0, 9988.0, 10898.0, 11248.0, null, null, 15690.0, 15750.0, null, null, 7995.0, 8195.0, 8495.0, 9495.0, 9995.0, null, null, 13295.0, 13845.0, 12290.0, 12940.0, 13415.0, 15985.0, 16515.0, 18420.0, 18950.0, 16845.0, 19045.0, 21485.0, 22470.0, 22625.0]}],\n",
              "                        {\"barmode\": \"overlay\", \"height\": 600, \"legend\": {\"bgcolor\": \"#F5F6F9\", \"font\": {\"color\": \"#4D5663\"}}, \"paper_bgcolor\": \"#F5F6F9\", \"plot_bgcolor\": \"#F5F6F9\", \"shapes\": [{\"line\": {\"color\": \"#db4052\", \"dash\": \"solid\", \"width\": 1}, \"type\": \"line\", \"x0\": 12818.127906976744, \"x1\": 12818.127906976744, \"xref\": \"x\", \"y0\": 0, \"y1\": 1, \"yref\": \"paper\"}, {\"line\": {\"color\": \"#db4052\", \"dash\": \"solid\", \"width\": 1}, \"type\": \"line\", \"x0\": 13565.67256637168, \"x1\": 13565.67256637168, \"xref\": \"x\", \"y0\": 0, \"y1\": 1, \"yref\": \"paper\"}], \"template\": {\"data\": {\"bar\": [{\"error_x\": {\"color\": \"#2a3f5f\"}, \"error_y\": {\"color\": \"#2a3f5f\"}, \"marker\": {\"line\": {\"color\": \"#E5ECF6\", \"width\": 0.5}}, \"type\": \"bar\"}], \"barpolar\": [{\"marker\": {\"line\": {\"color\": \"#E5ECF6\", \"width\": 0.5}}, \"type\": \"barpolar\"}], \"carpet\": [{\"aaxis\": {\"endlinecolor\": \"#2a3f5f\", \"gridcolor\": \"white\", \"linecolor\": \"white\", \"minorgridcolor\": \"white\", \"startlinecolor\": \"#2a3f5f\"}, \"baxis\": {\"endlinecolor\": \"#2a3f5f\", \"gridcolor\": \"white\", \"linecolor\": \"white\", \"minorgridcolor\": \"white\", \"startlinecolor\": \"#2a3f5f\"}, \"type\": \"carpet\"}], \"choropleth\": [{\"colorbar\": {\"outlinewidth\": 0, \"ticks\": \"\"}, \"type\": \"choropleth\"}], \"contour\": [{\"colorbar\": {\"outlinewidth\": 0, \"ticks\": \"\"}, \"colorscale\": [[0.0, \"#0d0887\"], [0.1111111111111111, \"#46039f\"], [0.2222222222222222, \"#7201a8\"], [0.3333333333333333, \"#9c179e\"], [0.4444444444444444, \"#bd3786\"], [0.5555555555555556, \"#d8576b\"], [0.6666666666666666, \"#ed7953\"], [0.7777777777777778, \"#fb9f3a\"], [0.8888888888888888, \"#fdca26\"], [1.0, \"#f0f921\"]], \"type\": \"contour\"}], \"contourcarpet\": [{\"colorbar\": {\"outlinewidth\": 0, \"ticks\": \"\"}, \"type\": \"contourcarpet\"}], \"heatmap\": [{\"colorbar\": {\"outlinewidth\": 0, \"ticks\": \"\"}, \"colorscale\": [[0.0, \"#0d0887\"], [0.1111111111111111, \"#46039f\"], [0.2222222222222222, \"#7201a8\"], [0.3333333333333333, \"#9c179e\"], [0.4444444444444444, \"#bd3786\"], [0.5555555555555556, \"#d8576b\"], [0.6666666666666666, \"#ed7953\"], [0.7777777777777778, \"#fb9f3a\"], [0.8888888888888888, \"#fdca26\"], [1.0, \"#f0f921\"]], \"type\": \"heatmap\"}], \"heatmapgl\": [{\"colorbar\": {\"outlinewidth\": 0, \"ticks\": \"\"}, \"colorscale\": [[0.0, \"#0d0887\"], [0.1111111111111111, \"#46039f\"], [0.2222222222222222, \"#7201a8\"], [0.3333333333333333, \"#9c179e\"], [0.4444444444444444, \"#bd3786\"], [0.5555555555555556, \"#d8576b\"], [0.6666666666666666, \"#ed7953\"], [0.7777777777777778, \"#fb9f3a\"], [0.8888888888888888, \"#fdca26\"], [1.0, \"#f0f921\"]], \"type\": \"heatmapgl\"}], \"histogram\": [{\"marker\": {\"colorbar\": {\"outlinewidth\": 0, \"ticks\": \"\"}}, \"type\": \"histogram\"}], \"histogram2d\": [{\"colorbar\": {\"outlinewidth\": 0, \"ticks\": \"\"}, \"colorscale\": [[0.0, \"#0d0887\"], [0.1111111111111111, \"#46039f\"], [0.2222222222222222, \"#7201a8\"], [0.3333333333333333, \"#9c179e\"], [0.4444444444444444, \"#bd3786\"], [0.5555555555555556, \"#d8576b\"], [0.6666666666666666, \"#ed7953\"], [0.7777777777777778, \"#fb9f3a\"], [0.8888888888888888, \"#fdca26\"], [1.0, \"#f0f921\"]], \"type\": \"histogram2d\"}], \"histogram2dcontour\": [{\"colorbar\": {\"outlinewidth\": 0, \"ticks\": \"\"}, \"colorscale\": [[0.0, \"#0d0887\"], [0.1111111111111111, \"#46039f\"], [0.2222222222222222, \"#7201a8\"], [0.3333333333333333, \"#9c179e\"], [0.4444444444444444, \"#bd3786\"], [0.5555555555555556, \"#d8576b\"], [0.6666666666666666, \"#ed7953\"], [0.7777777777777778, \"#fb9f3a\"], [0.8888888888888888, \"#fdca26\"], [1.0, \"#f0f921\"]], \"type\": \"histogram2dcontour\"}], \"mesh3d\": [{\"colorbar\": {\"outlinewidth\": 0, \"ticks\": \"\"}, \"type\": \"mesh3d\"}], \"parcoords\": [{\"line\": {\"colorbar\": {\"outlinewidth\": 0, \"ticks\": \"\"}}, \"type\": \"parcoords\"}], \"pie\": [{\"automargin\": true, \"type\": \"pie\"}], \"scatter\": [{\"marker\": {\"colorbar\": {\"outlinewidth\": 0, \"ticks\": \"\"}}, \"type\": \"scatter\"}], \"scatter3d\": [{\"line\": {\"colorbar\": {\"outlinewidth\": 0, \"ticks\": \"\"}}, \"marker\": {\"colorbar\": {\"outlinewidth\": 0, \"ticks\": \"\"}}, \"type\": \"scatter3d\"}], \"scattercarpet\": [{\"marker\": {\"colorbar\": {\"outlinewidth\": 0, \"ticks\": \"\"}}, \"type\": \"scattercarpet\"}], \"scattergeo\": [{\"marker\": {\"colorbar\": {\"outlinewidth\": 0, \"ticks\": \"\"}}, \"type\": \"scattergeo\"}], \"scattergl\": [{\"marker\": {\"colorbar\": {\"outlinewidth\": 0, \"ticks\": \"\"}}, \"type\": \"scattergl\"}], \"scattermapbox\": [{\"marker\": {\"colorbar\": {\"outlinewidth\": 0, \"ticks\": \"\"}}, \"type\": \"scattermapbox\"}], \"scatterpolar\": [{\"marker\": {\"colorbar\": {\"outlinewidth\": 0, \"ticks\": \"\"}}, \"type\": \"scatterpolar\"}], \"scatterpolargl\": [{\"marker\": {\"colorbar\": {\"outlinewidth\": 0, \"ticks\": \"\"}}, \"type\": \"scatterpolargl\"}], \"scatterternary\": [{\"marker\": {\"colorbar\": {\"outlinewidth\": 0, \"ticks\": \"\"}}, \"type\": \"scatterternary\"}], \"surface\": [{\"colorbar\": {\"outlinewidth\": 0, \"ticks\": \"\"}, \"colorscale\": [[0.0, \"#0d0887\"], [0.1111111111111111, \"#46039f\"], [0.2222222222222222, \"#7201a8\"], [0.3333333333333333, \"#9c179e\"], [0.4444444444444444, \"#bd3786\"], [0.5555555555555556, \"#d8576b\"], [0.6666666666666666, \"#ed7953\"], [0.7777777777777778, \"#fb9f3a\"], [0.8888888888888888, \"#fdca26\"], [1.0, \"#f0f921\"]], \"type\": \"surface\"}], \"table\": [{\"cells\": {\"fill\": {\"color\": \"#EBF0F8\"}, \"line\": {\"color\": \"white\"}}, \"header\": {\"fill\": {\"color\": \"#C8D4E3\"}, \"line\": {\"color\": \"white\"}}, \"type\": \"table\"}]}, \"layout\": {\"annotationdefaults\": {\"arrowcolor\": \"#2a3f5f\", \"arrowhead\": 0, \"arrowwidth\": 1}, \"coloraxis\": {\"colorbar\": {\"outlinewidth\": 0, \"ticks\": \"\"}}, \"colorscale\": {\"diverging\": [[0, \"#8e0152\"], [0.1, \"#c51b7d\"], [0.2, \"#de77ae\"], [0.3, \"#f1b6da\"], [0.4, \"#fde0ef\"], [0.5, \"#f7f7f7\"], [0.6, \"#e6f5d0\"], [0.7, \"#b8e186\"], [0.8, \"#7fbc41\"], [0.9, \"#4d9221\"], [1, \"#276419\"]], \"sequential\": [[0.0, \"#0d0887\"], [0.1111111111111111, \"#46039f\"], [0.2222222222222222, \"#7201a8\"], [0.3333333333333333, \"#9c179e\"], [0.4444444444444444, \"#bd3786\"], [0.5555555555555556, \"#d8576b\"], [0.6666666666666666, \"#ed7953\"], [0.7777777777777778, \"#fb9f3a\"], [0.8888888888888888, \"#fdca26\"], [1.0, \"#f0f921\"]], \"sequentialminus\": [[0.0, \"#0d0887\"], [0.1111111111111111, \"#46039f\"], [0.2222222222222222, \"#7201a8\"], [0.3333333333333333, \"#9c179e\"], [0.4444444444444444, \"#bd3786\"], [0.5555555555555556, \"#d8576b\"], [0.6666666666666666, \"#ed7953\"], [0.7777777777777778, \"#fb9f3a\"], [0.8888888888888888, \"#fdca26\"], [1.0, \"#f0f921\"]]}, \"colorway\": [\"#636efa\", \"#EF553B\", \"#00cc96\", \"#ab63fa\", \"#FFA15A\", \"#19d3f3\", \"#FF6692\", \"#B6E880\", \"#FF97FF\", \"#FECB52\"], \"font\": {\"color\": \"#2a3f5f\"}, \"geo\": {\"bgcolor\": \"white\", \"lakecolor\": \"white\", \"landcolor\": \"#E5ECF6\", \"showlakes\": true, \"showland\": true, \"subunitcolor\": \"white\"}, \"hoverlabel\": {\"align\": \"left\"}, \"hovermode\": \"closest\", \"mapbox\": {\"style\": \"light\"}, \"paper_bgcolor\": \"white\", \"plot_bgcolor\": \"#E5ECF6\", \"polar\": {\"angularaxis\": {\"gridcolor\": \"white\", \"linecolor\": \"white\", \"ticks\": \"\"}, \"bgcolor\": \"#E5ECF6\", \"radialaxis\": {\"gridcolor\": \"white\", \"linecolor\": \"white\", \"ticks\": \"\"}}, \"scene\": {\"xaxis\": {\"backgroundcolor\": \"#E5ECF6\", \"gridcolor\": \"white\", \"gridwidth\": 2, \"linecolor\": \"white\", \"showbackground\": true, \"ticks\": \"\", \"zerolinecolor\": \"white\"}, \"yaxis\": {\"backgroundcolor\": \"#E5ECF6\", \"gridcolor\": \"white\", \"gridwidth\": 2, \"linecolor\": \"white\", \"showbackground\": true, \"ticks\": \"\", \"zerolinecolor\": \"white\"}, \"zaxis\": {\"backgroundcolor\": \"#E5ECF6\", \"gridcolor\": \"white\", \"gridwidth\": 2, \"linecolor\": \"white\", \"showbackground\": true, \"ticks\": \"\", \"zerolinecolor\": \"white\"}}, \"shapedefaults\": {\"line\": {\"color\": \"#2a3f5f\"}}, \"ternary\": {\"aaxis\": {\"gridcolor\": \"white\", \"linecolor\": \"white\", \"ticks\": \"\"}, \"baxis\": {\"gridcolor\": \"white\", \"linecolor\": \"white\", \"ticks\": \"\"}, \"bgcolor\": \"#E5ECF6\", \"caxis\": {\"gridcolor\": \"white\", \"linecolor\": \"white\", \"ticks\": \"\"}}, \"title\": {\"x\": 0.05}, \"xaxis\": {\"automargin\": true, \"gridcolor\": \"white\", \"linecolor\": \"white\", \"ticks\": \"\", \"title\": {\"standoff\": 15}, \"zerolinecolor\": \"white\", \"zerolinewidth\": 2}, \"yaxis\": {\"automargin\": true, \"gridcolor\": \"white\", \"linecolor\": \"white\", \"ticks\": \"\", \"title\": {\"standoff\": 15}, \"zerolinecolor\": \"white\", \"zerolinewidth\": 2}}}, \"title\": {\"font\": {\"color\": \"#4D5663\"}}, \"width\": 800, \"xaxis\": {\"gridcolor\": \"#E1E5ED\", \"showgrid\": true, \"tickfont\": {\"color\": \"#4D5663\"}, \"title\": {\"font\": {\"color\": \"#4D5663\"}, \"text\": \"\"}, \"zerolinecolor\": \"#E1E5ED\"}, \"yaxis\": {\"gridcolor\": \"#E1E5ED\", \"showgrid\": true, \"tickfont\": {\"color\": \"#4D5663\"}, \"title\": {\"font\": {\"color\": \"#4D5663\"}, \"text\": \"\"}, \"zerolinecolor\": \"#E1E5ED\"}},\n",
              "                        {\"responsive\": true}\n",
              "                    ).then(function(){\n",
              "                            \n",
              "var gd = document.getElementById('c67ac9d0-55d2-4d3e-a522-567f2322d1cd');\n",
              "var x = new MutationObserver(function (mutations, observer) {{\n",
              "        var display = window.getComputedStyle(gd).display;\n",
              "        if (!display || display === 'none') {{\n",
              "            console.log([gd, 'removed!']);\n",
              "            Plotly.purge(gd);\n",
              "            observer.disconnect();\n",
              "        }}\n",
              "}});\n",
              "\n",
              "// Listen for the removal of the full notebook cells\n",
              "var notebookContainer = gd.closest('#notebook-container');\n",
              "if (notebookContainer) {{\n",
              "    x.observe(notebookContainer, {childList: true});\n",
              "}}\n",
              "\n",
              "// Listen for the clearing of the current output cell\n",
              "var outputEl = gd.closest('.output');\n",
              "if (outputEl) {{\n",
              "    x.observe(outputEl, {childList: true});\n",
              "}}\n",
              "\n",
              "                        })\n",
              "                };\n",
              "                \n",
              "            </script>\n",
              "        </div>\n",
              "</body>\n",
              "</html>"
            ]
          },
          "metadata": {
            "tags": []
          }
        }
      ]
    },
    {
      "cell_type": "markdown",
      "metadata": {
        "id": "0qsI3Z5JaTpi",
        "colab_type": "text"
      },
      "source": [
        "As the histogram shows, there is no considerable difference in the distribution of the price for the cars with two and four doors. It means that the performance improving cause by including the `doors` variable may not justify the increasing complexity. Thus, let's drop it and all non-numerical variables from the data set."
      ]
    },
    {
      "cell_type": "code",
      "metadata": {
        "id": "M6pOqANWan7L",
        "colab_type": "code",
        "colab": {}
      },
      "source": [
        "data = data.drop(labels = [3,4,6,7,8,14,17,'doors'], axis=1)"
      ],
      "execution_count": null,
      "outputs": []
    },
    {
      "cell_type": "code",
      "metadata": {
        "id": "5qfT-MGgbmYR",
        "colab_type": "code",
        "colab": {
          "base_uri": "https://localhost:8080/",
          "height": 273
        },
        "outputId": "d83faa71-6fc2-4292-9c64-85dfcab73047"
      },
      "source": [
        "data.head(10)"
      ],
      "execution_count": null,
      "outputs": [
        {
          "output_type": "execute_result",
          "data": {
            "application/vnd.google.colaboratory.module+javascript": "\n      import \"https://ssl.gstatic.com/colaboratory/data_table/a6224c040fa35dcf/data_table.js\";\n\n      window.createDataTable({\n        data: [[{\n            'v': 0,\n            'f': \"0\",\n        },\n{\n            'v': 3,\n            'f': \"3\",\n        },\n\"alfa-romero\",\n{\n            'v': 88.6,\n            'f': \"88.6\",\n        },\n{\n            'v': 168.8,\n            'f': \"168.8\",\n        },\n{\n            'v': 64.1,\n            'f': \"64.1\",\n        },\n{\n            'v': 48.8,\n            'f': \"48.8\",\n        },\n{\n            'v': 2548,\n            'f': \"2548\",\n        },\n{\n            'v': 4,\n            'f': \"4\",\n        },\n{\n            'v': 130,\n            'f': \"130\",\n        },\n\"3.47\",\n\"2.68\",\n{\n            'v': 9.0,\n            'f': \"9.0\",\n        },\n\"111\",\n\"5000\",\n{\n            'v': 21,\n            'f': \"21\",\n        },\n{\n            'v': 27,\n            'f': \"27\",\n        },\n{\n            'v': 13495.0,\n            'f': \"13495.0\",\n        }],\n [{\n            'v': 1,\n            'f': \"1\",\n        },\n{\n            'v': 3,\n            'f': \"3\",\n        },\n\"alfa-romero\",\n{\n            'v': 88.6,\n            'f': \"88.6\",\n        },\n{\n            'v': 168.8,\n            'f': \"168.8\",\n        },\n{\n            'v': 64.1,\n            'f': \"64.1\",\n        },\n{\n            'v': 48.8,\n            'f': \"48.8\",\n        },\n{\n            'v': 2548,\n            'f': \"2548\",\n        },\n{\n            'v': 4,\n            'f': \"4\",\n        },\n{\n            'v': 130,\n            'f': \"130\",\n        },\n\"3.47\",\n\"2.68\",\n{\n            'v': 9.0,\n            'f': \"9.0\",\n        },\n\"111\",\n\"5000\",\n{\n            'v': 21,\n            'f': \"21\",\n        },\n{\n            'v': 27,\n            'f': \"27\",\n        },\n{\n            'v': 16500.0,\n            'f': \"16500.0\",\n        }],\n [{\n            'v': 2,\n            'f': \"2\",\n        },\n{\n            'v': 1,\n            'f': \"1\",\n        },\n\"alfa-romero\",\n{\n            'v': 94.5,\n            'f': \"94.5\",\n        },\n{\n            'v': 171.2,\n            'f': \"171.2\",\n        },\n{\n            'v': 65.5,\n            'f': \"65.5\",\n        },\n{\n            'v': 52.4,\n            'f': \"52.4\",\n        },\n{\n            'v': 2823,\n            'f': \"2823\",\n        },\n{\n            'v': 6,\n            'f': \"6\",\n        },\n{\n            'v': 152,\n            'f': \"152\",\n        },\n\"2.68\",\n\"3.47\",\n{\n            'v': 9.0,\n            'f': \"9.0\",\n        },\n\"154\",\n\"5000\",\n{\n            'v': 19,\n            'f': \"19\",\n        },\n{\n            'v': 26,\n            'f': \"26\",\n        },\n{\n            'v': 16500.0,\n            'f': \"16500.0\",\n        }],\n [{\n            'v': 3,\n            'f': \"3\",\n        },\n{\n            'v': 2,\n            'f': \"2\",\n        },\n\"audi\",\n{\n            'v': 99.8,\n            'f': \"99.8\",\n        },\n{\n            'v': 176.6,\n            'f': \"176.6\",\n        },\n{\n            'v': 66.2,\n            'f': \"66.2\",\n        },\n{\n            'v': 54.3,\n            'f': \"54.3\",\n        },\n{\n            'v': 2337,\n            'f': \"2337\",\n        },\n{\n            'v': 4,\n            'f': \"4\",\n        },\n{\n            'v': 109,\n            'f': \"109\",\n        },\n\"3.19\",\n\"3.40\",\n{\n            'v': 10.0,\n            'f': \"10.0\",\n        },\n\"102\",\n\"5500\",\n{\n            'v': 24,\n            'f': \"24\",\n        },\n{\n            'v': 30,\n            'f': \"30\",\n        },\n{\n            'v': 13950.0,\n            'f': \"13950.0\",\n        }],\n [{\n            'v': 4,\n            'f': \"4\",\n        },\n{\n            'v': 2,\n            'f': \"2\",\n        },\n\"audi\",\n{\n            'v': 99.4,\n            'f': \"99.4\",\n        },\n{\n            'v': 176.6,\n            'f': \"176.6\",\n        },\n{\n            'v': 66.4,\n            'f': \"66.4\",\n        },\n{\n            'v': 54.3,\n            'f': \"54.3\",\n        },\n{\n            'v': 2824,\n            'f': \"2824\",\n        },\n{\n            'v': 5,\n            'f': \"5\",\n        },\n{\n            'v': 136,\n            'f': \"136\",\n        },\n\"3.19\",\n\"3.40\",\n{\n            'v': 8.0,\n            'f': \"8.0\",\n        },\n\"115\",\n\"5500\",\n{\n            'v': 18,\n            'f': \"18\",\n        },\n{\n            'v': 22,\n            'f': \"22\",\n        },\n{\n            'v': 17450.0,\n            'f': \"17450.0\",\n        }],\n [{\n            'v': 5,\n            'f': \"5\",\n        },\n{\n            'v': 2,\n            'f': \"2\",\n        },\n\"audi\",\n{\n            'v': 99.8,\n            'f': \"99.8\",\n        },\n{\n            'v': 177.3,\n            'f': \"177.3\",\n        },\n{\n            'v': 66.3,\n            'f': \"66.3\",\n        },\n{\n            'v': 53.1,\n            'f': \"53.1\",\n        },\n{\n            'v': 2507,\n            'f': \"2507\",\n        },\n{\n            'v': 5,\n            'f': \"5\",\n        },\n{\n            'v': 136,\n            'f': \"136\",\n        },\n\"3.19\",\n\"3.40\",\n{\n            'v': 8.5,\n            'f': \"8.5\",\n        },\n\"110\",\n\"5500\",\n{\n            'v': 19,\n            'f': \"19\",\n        },\n{\n            'v': 25,\n            'f': \"25\",\n        },\n{\n            'v': 15250.0,\n            'f': \"15250.0\",\n        }],\n [{\n            'v': 6,\n            'f': \"6\",\n        },\n{\n            'v': 1,\n            'f': \"1\",\n        },\n\"audi\",\n{\n            'v': 105.8,\n            'f': \"105.8\",\n        },\n{\n            'v': 192.7,\n            'f': \"192.7\",\n        },\n{\n            'v': 71.4,\n            'f': \"71.4\",\n        },\n{\n            'v': 55.7,\n            'f': \"55.7\",\n        },\n{\n            'v': 2844,\n            'f': \"2844\",\n        },\n{\n            'v': 5,\n            'f': \"5\",\n        },\n{\n            'v': 136,\n            'f': \"136\",\n        },\n\"3.19\",\n\"3.40\",\n{\n            'v': 8.5,\n            'f': \"8.5\",\n        },\n\"110\",\n\"5500\",\n{\n            'v': 19,\n            'f': \"19\",\n        },\n{\n            'v': 25,\n            'f': \"25\",\n        },\n{\n            'v': 17710.0,\n            'f': \"17710.0\",\n        }],\n [{\n            'v': 7,\n            'f': \"7\",\n        },\n{\n            'v': 1,\n            'f': \"1\",\n        },\n\"audi\",\n{\n            'v': 105.8,\n            'f': \"105.8\",\n        },\n{\n            'v': 192.7,\n            'f': \"192.7\",\n        },\n{\n            'v': 71.4,\n            'f': \"71.4\",\n        },\n{\n            'v': 55.7,\n            'f': \"55.7\",\n        },\n{\n            'v': 2954,\n            'f': \"2954\",\n        },\n{\n            'v': 5,\n            'f': \"5\",\n        },\n{\n            'v': 136,\n            'f': \"136\",\n        },\n\"3.19\",\n\"3.40\",\n{\n            'v': 8.5,\n            'f': \"8.5\",\n        },\n\"110\",\n\"5500\",\n{\n            'v': 19,\n            'f': \"19\",\n        },\n{\n            'v': 25,\n            'f': \"25\",\n        },\n{\n            'v': 18920.0,\n            'f': \"18920.0\",\n        }],\n [{\n            'v': 8,\n            'f': \"8\",\n        },\n{\n            'v': 1,\n            'f': \"1\",\n        },\n\"audi\",\n{\n            'v': 105.8,\n            'f': \"105.8\",\n        },\n{\n            'v': 192.7,\n            'f': \"192.7\",\n        },\n{\n            'v': 71.4,\n            'f': \"71.4\",\n        },\n{\n            'v': 55.9,\n            'f': \"55.9\",\n        },\n{\n            'v': 3086,\n            'f': \"3086\",\n        },\n{\n            'v': 5,\n            'f': \"5\",\n        },\n{\n            'v': 131,\n            'f': \"131\",\n        },\n\"3.13\",\n\"3.40\",\n{\n            'v': 8.3,\n            'f': \"8.3\",\n        },\n\"140\",\n\"5500\",\n{\n            'v': 17,\n            'f': \"17\",\n        },\n{\n            'v': 20,\n            'f': \"20\",\n        },\n{\n            'v': 23875.0,\n            'f': \"23875.0\",\n        }],\n [{\n            'v': 9,\n            'f': \"9\",\n        },\n{\n            'v': 0,\n            'f': \"0\",\n        },\n\"audi\",\n{\n            'v': 99.5,\n            'f': \"99.5\",\n        },\n{\n            'v': 178.2,\n            'f': \"178.2\",\n        },\n{\n            'v': 67.9,\n            'f': \"67.9\",\n        },\n{\n            'v': 52.0,\n            'f': \"52.0\",\n        },\n{\n            'v': 3053,\n            'f': \"3053\",\n        },\n{\n            'v': 5,\n            'f': \"5\",\n        },\n{\n            'v': 131,\n            'f': \"131\",\n        },\n\"3.13\",\n\"3.40\",\n{\n            'v': 7.0,\n            'f': \"7.0\",\n        },\n\"160\",\n\"5500\",\n{\n            'v': 16,\n            'f': \"16\",\n        },\n{\n            'v': 22,\n            'f': \"22\",\n        },\n{\n            'v': NaN,\n            'f': \"NaN\",\n        }]],\n        columns: [[\"number\", \"index\"], [\"number\", \"symboling\"], [\"string\", \"name\"], [\"number\", \"wheel_base\"], [\"number\", \"length\"], [\"number\", \"width\"], [\"number\", \"height\"], [\"number\", \"curb_weight\"], [\"number\", \"cylinders\"], [\"number\", \"engine_size\"], [\"string\", \"bore\"], [\"string\", \"stroke\"], [\"number\", \"compression_ratio\"], [\"string\", \"horsepower\"], [\"string\", \"peak_rpm\"], [\"number\", \"city_mpg\"], [\"number\", \"highway_mpg\"], [\"number\", \"price\"]],\n        columnOptions: [{\"width\": \"1px\", \"className\": \"index_column\"}],\n        rowsPerPage: 25,\n        helpUrl: \"https://colab.research.google.com/notebooks/data_table.ipynb\",\n        suppressOutputScrolling: true,\n        minimumWidth: undefined,\n      });\n    ",
            "text/html": [
              "<div>\n",
              "<style scoped>\n",
              "    .dataframe tbody tr th:only-of-type {\n",
              "        vertical-align: middle;\n",
              "    }\n",
              "\n",
              "    .dataframe tbody tr th {\n",
              "        vertical-align: top;\n",
              "    }\n",
              "\n",
              "    .dataframe thead th {\n",
              "        text-align: right;\n",
              "    }\n",
              "</style>\n",
              "<table border=\"1\" class=\"dataframe\">\n",
              "  <thead>\n",
              "    <tr style=\"text-align: right;\">\n",
              "      <th></th>\n",
              "      <th>symboling</th>\n",
              "      <th>name</th>\n",
              "      <th>wheel_base</th>\n",
              "      <th>length</th>\n",
              "      <th>width</th>\n",
              "      <th>height</th>\n",
              "      <th>curb_weight</th>\n",
              "      <th>cylinders</th>\n",
              "      <th>engine_size</th>\n",
              "      <th>bore</th>\n",
              "      <th>stroke</th>\n",
              "      <th>compression_ratio</th>\n",
              "      <th>horsepower</th>\n",
              "      <th>peak_rpm</th>\n",
              "      <th>city_mpg</th>\n",
              "      <th>highway_mpg</th>\n",
              "      <th>price</th>\n",
              "    </tr>\n",
              "  </thead>\n",
              "  <tbody>\n",
              "    <tr>\n",
              "      <th>0</th>\n",
              "      <td>3</td>\n",
              "      <td>alfa-romero</td>\n",
              "      <td>88.6</td>\n",
              "      <td>168.8</td>\n",
              "      <td>64.1</td>\n",
              "      <td>48.8</td>\n",
              "      <td>2548</td>\n",
              "      <td>4</td>\n",
              "      <td>130</td>\n",
              "      <td>3.47</td>\n",
              "      <td>2.68</td>\n",
              "      <td>9.0</td>\n",
              "      <td>111</td>\n",
              "      <td>5000</td>\n",
              "      <td>21</td>\n",
              "      <td>27</td>\n",
              "      <td>13495.0</td>\n",
              "    </tr>\n",
              "    <tr>\n",
              "      <th>1</th>\n",
              "      <td>3</td>\n",
              "      <td>alfa-romero</td>\n",
              "      <td>88.6</td>\n",
              "      <td>168.8</td>\n",
              "      <td>64.1</td>\n",
              "      <td>48.8</td>\n",
              "      <td>2548</td>\n",
              "      <td>4</td>\n",
              "      <td>130</td>\n",
              "      <td>3.47</td>\n",
              "      <td>2.68</td>\n",
              "      <td>9.0</td>\n",
              "      <td>111</td>\n",
              "      <td>5000</td>\n",
              "      <td>21</td>\n",
              "      <td>27</td>\n",
              "      <td>16500.0</td>\n",
              "    </tr>\n",
              "    <tr>\n",
              "      <th>2</th>\n",
              "      <td>1</td>\n",
              "      <td>alfa-romero</td>\n",
              "      <td>94.5</td>\n",
              "      <td>171.2</td>\n",
              "      <td>65.5</td>\n",
              "      <td>52.4</td>\n",
              "      <td>2823</td>\n",
              "      <td>6</td>\n",
              "      <td>152</td>\n",
              "      <td>2.68</td>\n",
              "      <td>3.47</td>\n",
              "      <td>9.0</td>\n",
              "      <td>154</td>\n",
              "      <td>5000</td>\n",
              "      <td>19</td>\n",
              "      <td>26</td>\n",
              "      <td>16500.0</td>\n",
              "    </tr>\n",
              "    <tr>\n",
              "      <th>3</th>\n",
              "      <td>2</td>\n",
              "      <td>audi</td>\n",
              "      <td>99.8</td>\n",
              "      <td>176.6</td>\n",
              "      <td>66.2</td>\n",
              "      <td>54.3</td>\n",
              "      <td>2337</td>\n",
              "      <td>4</td>\n",
              "      <td>109</td>\n",
              "      <td>3.19</td>\n",
              "      <td>3.40</td>\n",
              "      <td>10.0</td>\n",
              "      <td>102</td>\n",
              "      <td>5500</td>\n",
              "      <td>24</td>\n",
              "      <td>30</td>\n",
              "      <td>13950.0</td>\n",
              "    </tr>\n",
              "    <tr>\n",
              "      <th>4</th>\n",
              "      <td>2</td>\n",
              "      <td>audi</td>\n",
              "      <td>99.4</td>\n",
              "      <td>176.6</td>\n",
              "      <td>66.4</td>\n",
              "      <td>54.3</td>\n",
              "      <td>2824</td>\n",
              "      <td>5</td>\n",
              "      <td>136</td>\n",
              "      <td>3.19</td>\n",
              "      <td>3.40</td>\n",
              "      <td>8.0</td>\n",
              "      <td>115</td>\n",
              "      <td>5500</td>\n",
              "      <td>18</td>\n",
              "      <td>22</td>\n",
              "      <td>17450.0</td>\n",
              "    </tr>\n",
              "    <tr>\n",
              "      <th>5</th>\n",
              "      <td>2</td>\n",
              "      <td>audi</td>\n",
              "      <td>99.8</td>\n",
              "      <td>177.3</td>\n",
              "      <td>66.3</td>\n",
              "      <td>53.1</td>\n",
              "      <td>2507</td>\n",
              "      <td>5</td>\n",
              "      <td>136</td>\n",
              "      <td>3.19</td>\n",
              "      <td>3.40</td>\n",
              "      <td>8.5</td>\n",
              "      <td>110</td>\n",
              "      <td>5500</td>\n",
              "      <td>19</td>\n",
              "      <td>25</td>\n",
              "      <td>15250.0</td>\n",
              "    </tr>\n",
              "    <tr>\n",
              "      <th>6</th>\n",
              "      <td>1</td>\n",
              "      <td>audi</td>\n",
              "      <td>105.8</td>\n",
              "      <td>192.7</td>\n",
              "      <td>71.4</td>\n",
              "      <td>55.7</td>\n",
              "      <td>2844</td>\n",
              "      <td>5</td>\n",
              "      <td>136</td>\n",
              "      <td>3.19</td>\n",
              "      <td>3.40</td>\n",
              "      <td>8.5</td>\n",
              "      <td>110</td>\n",
              "      <td>5500</td>\n",
              "      <td>19</td>\n",
              "      <td>25</td>\n",
              "      <td>17710.0</td>\n",
              "    </tr>\n",
              "    <tr>\n",
              "      <th>7</th>\n",
              "      <td>1</td>\n",
              "      <td>audi</td>\n",
              "      <td>105.8</td>\n",
              "      <td>192.7</td>\n",
              "      <td>71.4</td>\n",
              "      <td>55.7</td>\n",
              "      <td>2954</td>\n",
              "      <td>5</td>\n",
              "      <td>136</td>\n",
              "      <td>3.19</td>\n",
              "      <td>3.40</td>\n",
              "      <td>8.5</td>\n",
              "      <td>110</td>\n",
              "      <td>5500</td>\n",
              "      <td>19</td>\n",
              "      <td>25</td>\n",
              "      <td>18920.0</td>\n",
              "    </tr>\n",
              "    <tr>\n",
              "      <th>8</th>\n",
              "      <td>1</td>\n",
              "      <td>audi</td>\n",
              "      <td>105.8</td>\n",
              "      <td>192.7</td>\n",
              "      <td>71.4</td>\n",
              "      <td>55.9</td>\n",
              "      <td>3086</td>\n",
              "      <td>5</td>\n",
              "      <td>131</td>\n",
              "      <td>3.13</td>\n",
              "      <td>3.40</td>\n",
              "      <td>8.3</td>\n",
              "      <td>140</td>\n",
              "      <td>5500</td>\n",
              "      <td>17</td>\n",
              "      <td>20</td>\n",
              "      <td>23875.0</td>\n",
              "    </tr>\n",
              "    <tr>\n",
              "      <th>9</th>\n",
              "      <td>0</td>\n",
              "      <td>audi</td>\n",
              "      <td>99.5</td>\n",
              "      <td>178.2</td>\n",
              "      <td>67.9</td>\n",
              "      <td>52.0</td>\n",
              "      <td>3053</td>\n",
              "      <td>5</td>\n",
              "      <td>131</td>\n",
              "      <td>3.13</td>\n",
              "      <td>3.40</td>\n",
              "      <td>7.0</td>\n",
              "      <td>160</td>\n",
              "      <td>5500</td>\n",
              "      <td>16</td>\n",
              "      <td>22</td>\n",
              "      <td>NaN</td>\n",
              "    </tr>\n",
              "  </tbody>\n",
              "</table>\n",
              "</div>"
            ],
            "text/plain": [
              "   symboling         name  wheel_base  ...  city_mpg  highway_mpg    price\n",
              "0          3  alfa-romero        88.6  ...        21           27  13495.0\n",
              "1          3  alfa-romero        88.6  ...        21           27  16500.0\n",
              "2          1  alfa-romero        94.5  ...        19           26  16500.0\n",
              "3          2         audi        99.8  ...        24           30  13950.0\n",
              "4          2         audi        99.4  ...        18           22  17450.0\n",
              "5          2         audi        99.8  ...        19           25  15250.0\n",
              "6          1         audi       105.8  ...        19           25  17710.0\n",
              "7          1         audi       105.8  ...        19           25  18920.0\n",
              "8          1         audi       105.8  ...        17           20  23875.0\n",
              "9          0         audi        99.5  ...        16           22      NaN\n",
              "\n",
              "[10 rows x 17 columns]"
            ]
          },
          "metadata": {
            "tags": []
          },
          "execution_count": 16
        }
      ]
    },
    {
      "cell_type": "code",
      "metadata": {
        "id": "b5X9Fr2ebmmg",
        "colab_type": "code",
        "colab": {
          "base_uri": "https://localhost:8080/",
          "height": 443
        },
        "outputId": "c1374647-c0c9-401c-b03a-9c0375d90255"
      },
      "source": [
        "data.info()"
      ],
      "execution_count": null,
      "outputs": [
        {
          "output_type": "stream",
          "text": [
            "<class 'pandas.core.frame.DataFrame'>\n",
            "RangeIndex: 205 entries, 0 to 204\n",
            "Data columns (total 17 columns):\n",
            " #   Column             Non-Null Count  Dtype  \n",
            "---  ------             --------------  -----  \n",
            " 0   symboling          205 non-null    int64  \n",
            " 1   name               205 non-null    object \n",
            " 2   wheel_base         205 non-null    float64\n",
            " 3   length             205 non-null    float64\n",
            " 4   width              205 non-null    float64\n",
            " 5   height             205 non-null    float64\n",
            " 6   curb_weight        205 non-null    int64  \n",
            " 7   cylinders          205 non-null    int64  \n",
            " 8   engine_size        205 non-null    int64  \n",
            " 9   bore               205 non-null    object \n",
            " 10  stroke             205 non-null    object \n",
            " 11  compression_ratio  205 non-null    float64\n",
            " 12  horsepower         205 non-null    object \n",
            " 13  peak_rpm           205 non-null    object \n",
            " 14  city_mpg           205 non-null    int64  \n",
            " 15  highway_mpg        205 non-null    int64  \n",
            " 16  price              201 non-null    float64\n",
            "dtypes: float64(6), int64(6), object(5)\n",
            "memory usage: 27.4+ KB\n"
          ],
          "name": "stdout"
        }
      ]
    },
    {
      "cell_type": "markdown",
      "metadata": {
        "id": "esp-w8STvvz_",
        "colab_type": "text"
      },
      "source": [
        "Some numerical columns still are of 'object' Dtype which means they are string objects. They may have the '?' string in the rows. Firstly let's replace '?' with np.NaN and them convert the columns to float64 Dtype\n"
      ]
    },
    {
      "cell_type": "markdown",
      "metadata": {
        "id": "Vsi_sUMuKJbC",
        "colab_type": "text"
      },
      "source": [
        "## **use a funcao dataframe.replace !**"
      ]
    },
    {
      "cell_type": "code",
      "metadata": {
        "id": "jyVqShRqv-fA",
        "colab_type": "code",
        "colab": {}
      },
      "source": [
        "names = ['bore','stroke','horsepower','peak_rpm']\n",
        "for i in names:\n",
        "    data[i] = data[i].apply(lambda x: np.nan if x == '?' else float(x))\n"
      ],
      "execution_count": null,
      "outputs": []
    },
    {
      "cell_type": "code",
      "metadata": {
        "id": "T4lHRKjtyS6z",
        "colab_type": "code",
        "colab": {
          "base_uri": "https://localhost:8080/",
          "height": 443
        },
        "outputId": "377f03b7-6bb0-401f-ff0f-b704ce8f72f8"
      },
      "source": [
        "data.info()"
      ],
      "execution_count": null,
      "outputs": [
        {
          "output_type": "stream",
          "text": [
            "<class 'pandas.core.frame.DataFrame'>\n",
            "RangeIndex: 205 entries, 0 to 204\n",
            "Data columns (total 17 columns):\n",
            " #   Column             Non-Null Count  Dtype  \n",
            "---  ------             --------------  -----  \n",
            " 0   symboling          205 non-null    int64  \n",
            " 1   name               205 non-null    object \n",
            " 2   wheel_base         205 non-null    float64\n",
            " 3   length             205 non-null    float64\n",
            " 4   width              205 non-null    float64\n",
            " 5   height             205 non-null    float64\n",
            " 6   curb_weight        205 non-null    int64  \n",
            " 7   cylinders          205 non-null    int64  \n",
            " 8   engine_size        205 non-null    int64  \n",
            " 9   bore               201 non-null    float64\n",
            " 10  stroke             201 non-null    float64\n",
            " 11  compression_ratio  205 non-null    float64\n",
            " 12  horsepower         203 non-null    float64\n",
            " 13  peak_rpm           203 non-null    float64\n",
            " 14  city_mpg           205 non-null    int64  \n",
            " 15  highway_mpg        205 non-null    int64  \n",
            " 16  price              201 non-null    float64\n",
            "dtypes: float64(10), int64(6), object(1)\n",
            "memory usage: 27.4+ KB\n"
          ],
          "name": "stdout"
        }
      ]
    },
    {
      "cell_type": "markdown",
      "metadata": {
        "id": "012qgWXv_T70",
        "colab_type": "text"
      },
      "source": [
        "# Still handling missing values"
      ]
    },
    {
      "cell_type": "markdown",
      "metadata": {
        "id": "BArfU4WZ_YK5",
        "colab_type": "text"
      },
      "source": [
        "I've ignored some durty data in the beginning, so I have to handle it now"
      ]
    },
    {
      "cell_type": "markdown",
      "metadata": {
        "id": "Rf0_-ERrxg0h",
        "colab_type": "text"
      },
      "source": [
        "Let's see the missing values!"
      ]
    },
    {
      "cell_type": "code",
      "metadata": {
        "id": "h1fsbBqDxjdQ",
        "colab_type": "code",
        "colab": {
          "base_uri": "https://localhost:8080/",
          "height": 690
        },
        "outputId": "229e1f4a-6107-40fe-ec5c-ed44d16b027a"
      },
      "source": [
        "msno.matrix(data)"
      ],
      "execution_count": null,
      "outputs": [
        {
          "output_type": "execute_result",
          "data": {
            "text/plain": [
              "<matplotlib.axes._subplots.AxesSubplot at 0x7fe154c7c9e8>"
            ]
          },
          "metadata": {
            "tags": []
          },
          "execution_count": 20
        },
        {
          "output_type": "display_data",
          "data": {
            "image/png": "[encoded data removed]",
            "text/plain": [
              "<Figure size 1800x720 with 2 Axes>"
            ]
          },
          "metadata": {
            "tags": [],
            "needs_background": "light"
          }
        }
      ]
    },
    {
      "cell_type": "code",
      "metadata": {
        "id": "UUKo7rLTyRCm",
        "colab_type": "code",
        "colab": {
          "base_uri": "https://localhost:8080/",
          "height": 160
        },
        "outputId": "bfe132b8-5880-4917-9727-86a9eacfd251"
      },
      "source": [
        "# checking what cars are missing in bore and stroke\n",
        "data.loc[data['stroke'].isna(),['name','bore','stroke']]"
      ],
      "execution_count": null,
      "outputs": [
        {
          "output_type": "execute_result",
          "data": {
            "application/vnd.google.colaboratory.module+javascript": "\n      import \"https://ssl.gstatic.com/colaboratory/data_table/a6224c040fa35dcf/data_table.js\";\n\n      window.createDataTable({\n        data: [[{\n            'v': 55,\n            'f': \"55\",\n        },\n\"mazda\",\n{\n            'v': NaN,\n            'f': \"NaN\",\n        },\n{\n            'v': NaN,\n            'f': \"NaN\",\n        }],\n [{\n            'v': 56,\n            'f': \"56\",\n        },\n\"mazda\",\n{\n            'v': NaN,\n            'f': \"NaN\",\n        },\n{\n            'v': NaN,\n            'f': \"NaN\",\n        }],\n [{\n            'v': 57,\n            'f': \"57\",\n        },\n\"mazda\",\n{\n            'v': NaN,\n            'f': \"NaN\",\n        },\n{\n            'v': NaN,\n            'f': \"NaN\",\n        }],\n [{\n            'v': 58,\n            'f': \"58\",\n        },\n\"mazda\",\n{\n            'v': NaN,\n            'f': \"NaN\",\n        },\n{\n            'v': NaN,\n            'f': \"NaN\",\n        }]],\n        columns: [[\"number\", \"index\"], [\"string\", \"name\"], [\"number\", \"bore\"], [\"number\", \"stroke\"]],\n        columnOptions: [{\"width\": \"1px\", \"className\": \"index_column\"}],\n        rowsPerPage: 25,\n        helpUrl: \"https://colab.research.google.com/notebooks/data_table.ipynb\",\n        suppressOutputScrolling: true,\n        minimumWidth: undefined,\n      });\n    ",
            "text/html": [
              "<div>\n",
              "<style scoped>\n",
              "    .dataframe tbody tr th:only-of-type {\n",
              "        vertical-align: middle;\n",
              "    }\n",
              "\n",
              "    .dataframe tbody tr th {\n",
              "        vertical-align: top;\n",
              "    }\n",
              "\n",
              "    .dataframe thead th {\n",
              "        text-align: right;\n",
              "    }\n",
              "</style>\n",
              "<table border=\"1\" class=\"dataframe\">\n",
              "  <thead>\n",
              "    <tr style=\"text-align: right;\">\n",
              "      <th></th>\n",
              "      <th>name</th>\n",
              "      <th>bore</th>\n",
              "      <th>stroke</th>\n",
              "    </tr>\n",
              "  </thead>\n",
              "  <tbody>\n",
              "    <tr>\n",
              "      <th>55</th>\n",
              "      <td>mazda</td>\n",
              "      <td>NaN</td>\n",
              "      <td>NaN</td>\n",
              "    </tr>\n",
              "    <tr>\n",
              "      <th>56</th>\n",
              "      <td>mazda</td>\n",
              "      <td>NaN</td>\n",
              "      <td>NaN</td>\n",
              "    </tr>\n",
              "    <tr>\n",
              "      <th>57</th>\n",
              "      <td>mazda</td>\n",
              "      <td>NaN</td>\n",
              "      <td>NaN</td>\n",
              "    </tr>\n",
              "    <tr>\n",
              "      <th>58</th>\n",
              "      <td>mazda</td>\n",
              "      <td>NaN</td>\n",
              "      <td>NaN</td>\n",
              "    </tr>\n",
              "  </tbody>\n",
              "</table>\n",
              "</div>"
            ],
            "text/plain": [
              "     name  bore  stroke\n",
              "55  mazda   NaN     NaN\n",
              "56  mazda   NaN     NaN\n",
              "57  mazda   NaN     NaN\n",
              "58  mazda   NaN     NaN"
            ]
          },
          "metadata": {
            "tags": []
          },
          "execution_count": 21
        }
      ]
    },
    {
      "cell_type": "markdown",
      "metadata": {
        "id": "YbeUBGKF9vTH",
        "colab_type": "text"
      },
      "source": [
        "Let's check what are the values of `bore`and `stroke`columns for other mazda cars."
      ]
    },
    {
      "cell_type": "code",
      "metadata": {
        "id": "32TNnkKP9bz8",
        "colab_type": "code",
        "colab": {
          "base_uri": "https://localhost:8080/",
          "height": 405
        },
        "outputId": "cec3f115-4e18-4762-9647-c2b7dd41a2a1"
      },
      "source": [
        "data.loc[data['name']=='mazda',['name','bore','stroke']]"
      ],
      "execution_count": null,
      "outputs": [
        {
          "output_type": "execute_result",
          "data": {
            "application/vnd.google.colaboratory.module+javascript": "\n      import \"https://ssl.gstatic.com/colaboratory/data_table/a6224c040fa35dcf/data_table.js\";\n\n      window.createDataTable({\n        data: [[{\n            'v': 50,\n            'f': \"50\",\n        },\n\"mazda\",\n{\n            'v': 3.03,\n            'f': \"3.03\",\n        },\n{\n            'v': 3.15,\n            'f': \"3.15\",\n        }],\n [{\n            'v': 51,\n            'f': \"51\",\n        },\n\"mazda\",\n{\n            'v': 3.03,\n            'f': \"3.03\",\n        },\n{\n            'v': 3.15,\n            'f': \"3.15\",\n        }],\n [{\n            'v': 52,\n            'f': \"52\",\n        },\n\"mazda\",\n{\n            'v': 3.03,\n            'f': \"3.03\",\n        },\n{\n            'v': 3.15,\n            'f': \"3.15\",\n        }],\n [{\n            'v': 53,\n            'f': \"53\",\n        },\n\"mazda\",\n{\n            'v': 3.03,\n            'f': \"3.03\",\n        },\n{\n            'v': 3.15,\n            'f': \"3.15\",\n        }],\n [{\n            'v': 54,\n            'f': \"54\",\n        },\n\"mazda\",\n{\n            'v': 3.08,\n            'f': \"3.08\",\n        },\n{\n            'v': 3.15,\n            'f': \"3.15\",\n        }],\n [{\n            'v': 55,\n            'f': \"55\",\n        },\n\"mazda\",\n{\n            'v': NaN,\n            'f': \"NaN\",\n        },\n{\n            'v': NaN,\n            'f': \"NaN\",\n        }],\n [{\n            'v': 56,\n            'f': \"56\",\n        },\n\"mazda\",\n{\n            'v': NaN,\n            'f': \"NaN\",\n        },\n{\n            'v': NaN,\n            'f': \"NaN\",\n        }],\n [{\n            'v': 57,\n            'f': \"57\",\n        },\n\"mazda\",\n{\n            'v': NaN,\n            'f': \"NaN\",\n        },\n{\n            'v': NaN,\n            'f': \"NaN\",\n        }],\n [{\n            'v': 58,\n            'f': \"58\",\n        },\n\"mazda\",\n{\n            'v': NaN,\n            'f': \"NaN\",\n        },\n{\n            'v': NaN,\n            'f': \"NaN\",\n        }],\n [{\n            'v': 59,\n            'f': \"59\",\n        },\n\"mazda\",\n{\n            'v': 3.39,\n            'f': \"3.39\",\n        },\n{\n            'v': 3.39,\n            'f': \"3.39\",\n        }],\n [{\n            'v': 60,\n            'f': \"60\",\n        },\n\"mazda\",\n{\n            'v': 3.39,\n            'f': \"3.39\",\n        },\n{\n            'v': 3.39,\n            'f': \"3.39\",\n        }],\n [{\n            'v': 61,\n            'f': \"61\",\n        },\n\"mazda\",\n{\n            'v': 3.39,\n            'f': \"3.39\",\n        },\n{\n            'v': 3.39,\n            'f': \"3.39\",\n        }],\n [{\n            'v': 62,\n            'f': \"62\",\n        },\n\"mazda\",\n{\n            'v': 3.39,\n            'f': \"3.39\",\n        },\n{\n            'v': 3.39,\n            'f': \"3.39\",\n        }],\n [{\n            'v': 63,\n            'f': \"63\",\n        },\n\"mazda\",\n{\n            'v': 3.39,\n            'f': \"3.39\",\n        },\n{\n            'v': 3.39,\n            'f': \"3.39\",\n        }],\n [{\n            'v': 64,\n            'f': \"64\",\n        },\n\"mazda\",\n{\n            'v': 3.39,\n            'f': \"3.39\",\n        },\n{\n            'v': 3.39,\n            'f': \"3.39\",\n        }],\n [{\n            'v': 65,\n            'f': \"65\",\n        },\n\"mazda\",\n{\n            'v': 3.76,\n            'f': \"3.76\",\n        },\n{\n            'v': 3.16,\n            'f': \"3.16\",\n        }],\n [{\n            'v': 66,\n            'f': \"66\",\n        },\n\"mazda\",\n{\n            'v': 3.43,\n            'f': \"3.43\",\n        },\n{\n            'v': 3.64,\n            'f': \"3.64\",\n        }]],\n        columns: [[\"number\", \"index\"], [\"string\", \"name\"], [\"number\", \"bore\"], [\"number\", \"stroke\"]],\n        columnOptions: [{\"width\": \"1px\", \"className\": \"index_column\"}],\n        rowsPerPage: 25,\n        helpUrl: \"https://colab.research.google.com/notebooks/data_table.ipynb\",\n        suppressOutputScrolling: true,\n        minimumWidth: undefined,\n      });\n    ",
            "text/html": [
              "<div>\n",
              "<style scoped>\n",
              "    .dataframe tbody tr th:only-of-type {\n",
              "        vertical-align: middle;\n",
              "    }\n",
              "\n",
              "    .dataframe tbody tr th {\n",
              "        vertical-align: top;\n",
              "    }\n",
              "\n",
              "    .dataframe thead th {\n",
              "        text-align: right;\n",
              "    }\n",
              "</style>\n",
              "<table border=\"1\" class=\"dataframe\">\n",
              "  <thead>\n",
              "    <tr style=\"text-align: right;\">\n",
              "      <th></th>\n",
              "      <th>name</th>\n",
              "      <th>bore</th>\n",
              "      <th>stroke</th>\n",
              "    </tr>\n",
              "  </thead>\n",
              "  <tbody>\n",
              "    <tr>\n",
              "      <th>50</th>\n",
              "      <td>mazda</td>\n",
              "      <td>3.03</td>\n",
              "      <td>3.15</td>\n",
              "    </tr>\n",
              "    <tr>\n",
              "      <th>51</th>\n",
              "      <td>mazda</td>\n",
              "      <td>3.03</td>\n",
              "      <td>3.15</td>\n",
              "    </tr>\n",
              "    <tr>\n",
              "      <th>52</th>\n",
              "      <td>mazda</td>\n",
              "      <td>3.03</td>\n",
              "      <td>3.15</td>\n",
              "    </tr>\n",
              "    <tr>\n",
              "      <th>53</th>\n",
              "      <td>mazda</td>\n",
              "      <td>3.03</td>\n",
              "      <td>3.15</td>\n",
              "    </tr>\n",
              "    <tr>\n",
              "      <th>54</th>\n",
              "      <td>mazda</td>\n",
              "      <td>3.08</td>\n",
              "      <td>3.15</td>\n",
              "    </tr>\n",
              "    <tr>\n",
              "      <th>55</th>\n",
              "      <td>mazda</td>\n",
              "      <td>NaN</td>\n",
              "      <td>NaN</td>\n",
              "    </tr>\n",
              "    <tr>\n",
              "      <th>56</th>\n",
              "      <td>mazda</td>\n",
              "      <td>NaN</td>\n",
              "      <td>NaN</td>\n",
              "    </tr>\n",
              "    <tr>\n",
              "      <th>57</th>\n",
              "      <td>mazda</td>\n",
              "      <td>NaN</td>\n",
              "      <td>NaN</td>\n",
              "    </tr>\n",
              "    <tr>\n",
              "      <th>58</th>\n",
              "      <td>mazda</td>\n",
              "      <td>NaN</td>\n",
              "      <td>NaN</td>\n",
              "    </tr>\n",
              "    <tr>\n",
              "      <th>59</th>\n",
              "      <td>mazda</td>\n",
              "      <td>3.39</td>\n",
              "      <td>3.39</td>\n",
              "    </tr>\n",
              "    <tr>\n",
              "      <th>60</th>\n",
              "      <td>mazda</td>\n",
              "      <td>3.39</td>\n",
              "      <td>3.39</td>\n",
              "    </tr>\n",
              "    <tr>\n",
              "      <th>61</th>\n",
              "      <td>mazda</td>\n",
              "      <td>3.39</td>\n",
              "      <td>3.39</td>\n",
              "    </tr>\n",
              "    <tr>\n",
              "      <th>62</th>\n",
              "      <td>mazda</td>\n",
              "      <td>3.39</td>\n",
              "      <td>3.39</td>\n",
              "    </tr>\n",
              "    <tr>\n",
              "      <th>63</th>\n",
              "      <td>mazda</td>\n",
              "      <td>3.39</td>\n",
              "      <td>3.39</td>\n",
              "    </tr>\n",
              "    <tr>\n",
              "      <th>64</th>\n",
              "      <td>mazda</td>\n",
              "      <td>3.39</td>\n",
              "      <td>3.39</td>\n",
              "    </tr>\n",
              "    <tr>\n",
              "      <th>65</th>\n",
              "      <td>mazda</td>\n",
              "      <td>3.76</td>\n",
              "      <td>3.16</td>\n",
              "    </tr>\n",
              "    <tr>\n",
              "      <th>66</th>\n",
              "      <td>mazda</td>\n",
              "      <td>3.43</td>\n",
              "      <td>3.64</td>\n",
              "    </tr>\n",
              "  </tbody>\n",
              "</table>\n",
              "</div>"
            ],
            "text/plain": [
              "     name  bore  stroke\n",
              "50  mazda  3.03    3.15\n",
              "51  mazda  3.03    3.15\n",
              "52  mazda  3.03    3.15\n",
              "53  mazda  3.03    3.15\n",
              "54  mazda  3.08    3.15\n",
              "55  mazda   NaN     NaN\n",
              "56  mazda   NaN     NaN\n",
              "57  mazda   NaN     NaN\n",
              "58  mazda   NaN     NaN\n",
              "59  mazda  3.39    3.39\n",
              "60  mazda  3.39    3.39\n",
              "61  mazda  3.39    3.39\n",
              "62  mazda  3.39    3.39\n",
              "63  mazda  3.39    3.39\n",
              "64  mazda  3.39    3.39\n",
              "65  mazda  3.76    3.16\n",
              "66  mazda  3.43    3.64"
            ]
          },
          "metadata": {
            "tags": []
          },
          "execution_count": 22
        }
      ]
    },
    {
      "cell_type": "markdown",
      "metadata": {
        "id": "vtC4FFNf9hKf",
        "colab_type": "text"
      },
      "source": [
        "Let's replace the `bore` and `stroke` missing values by the mean of that variables for cars that are 'mazda'.\n"
      ]
    },
    {
      "cell_type": "code",
      "metadata": {
        "id": "Nt93W5gy98Bj",
        "colab_type": "code",
        "colab": {}
      },
      "source": [
        "#data.loc[data['name']=='mazda','bore'].mean()\n",
        "data.loc[data['bore'].isna(),'bore'] = data.loc[data['name']=='mazda','bore'].mean()\n",
        "data.loc[data['stroke'].isna(),'stroke'] = data.loc[data['name']=='mazda','stroke'].mean()"
      ],
      "execution_count": null,
      "outputs": []
    },
    {
      "cell_type": "code",
      "metadata": {
        "id": "OrGoBPM5AaxV",
        "colab_type": "code",
        "colab": {
          "base_uri": "https://localhost:8080/",
          "height": 354
        },
        "outputId": "5d5c7ede-c8ac-4774-8a19-c70159efb0ec"
      },
      "source": [
        "print('checking if the code above worked!')\n",
        "print(data.loc[data['name']=='mazda',['name','bore','stroke']])"
      ],
      "execution_count": null,
      "outputs": [
        {
          "output_type": "stream",
          "text": [
            "checking if the code above worked!\n",
            "     name      bore    stroke\n",
            "50  mazda  3.030000  3.150000\n",
            "51  mazda  3.030000  3.150000\n",
            "52  mazda  3.030000  3.150000\n",
            "53  mazda  3.030000  3.150000\n",
            "54  mazda  3.080000  3.150000\n",
            "55  mazda  3.286923  3.299231\n",
            "56  mazda  3.286923  3.299231\n",
            "57  mazda  3.286923  3.299231\n",
            "58  mazda  3.286923  3.299231\n",
            "59  mazda  3.390000  3.390000\n",
            "60  mazda  3.390000  3.390000\n",
            "61  mazda  3.390000  3.390000\n",
            "62  mazda  3.390000  3.390000\n",
            "63  mazda  3.390000  3.390000\n",
            "64  mazda  3.390000  3.390000\n",
            "65  mazda  3.760000  3.160000\n",
            "66  mazda  3.430000  3.640000\n"
          ],
          "name": "stdout"
        }
      ]
    },
    {
      "cell_type": "code",
      "metadata": {
        "id": "h9jEVQim9SlY",
        "colab_type": "code",
        "colab": {
          "base_uri": "https://localhost:8080/",
          "height": 122
        },
        "outputId": "c411968a-804f-4de5-eaac-63352740fb16"
      },
      "source": [
        "data.loc[data['horsepower'].isna(),['name','horsepower','peak_rpm']]"
      ],
      "execution_count": null,
      "outputs": [
        {
          "output_type": "execute_result",
          "data": {
            "application/vnd.google.colaboratory.module+javascript": "\n      import \"https://ssl.gstatic.com/colaboratory/data_table/a6224c040fa35dcf/data_table.js\";\n\n      window.createDataTable({\n        data: [[{\n            'v': 130,\n            'f': \"130\",\n        },\n\"renault\",\n{\n            'v': NaN,\n            'f': \"NaN\",\n        },\n{\n            'v': NaN,\n            'f': \"NaN\",\n        }],\n [{\n            'v': 131,\n            'f': \"131\",\n        },\n\"renault\",\n{\n            'v': NaN,\n            'f': \"NaN\",\n        },\n{\n            'v': NaN,\n            'f': \"NaN\",\n        }]],\n        columns: [[\"number\", \"index\"], [\"string\", \"name\"], [\"number\", \"horsepower\"], [\"number\", \"peak_rpm\"]],\n        columnOptions: [{\"width\": \"1px\", \"className\": \"index_column\"}],\n        rowsPerPage: 25,\n        helpUrl: \"https://colab.research.google.com/notebooks/data_table.ipynb\",\n        suppressOutputScrolling: true,\n        minimumWidth: undefined,\n      });\n    ",
            "text/html": [
              "<div>\n",
              "<style scoped>\n",
              "    .dataframe tbody tr th:only-of-type {\n",
              "        vertical-align: middle;\n",
              "    }\n",
              "\n",
              "    .dataframe tbody tr th {\n",
              "        vertical-align: top;\n",
              "    }\n",
              "\n",
              "    .dataframe thead th {\n",
              "        text-align: right;\n",
              "    }\n",
              "</style>\n",
              "<table border=\"1\" class=\"dataframe\">\n",
              "  <thead>\n",
              "    <tr style=\"text-align: right;\">\n",
              "      <th></th>\n",
              "      <th>name</th>\n",
              "      <th>horsepower</th>\n",
              "      <th>peak_rpm</th>\n",
              "    </tr>\n",
              "  </thead>\n",
              "  <tbody>\n",
              "    <tr>\n",
              "      <th>130</th>\n",
              "      <td>renault</td>\n",
              "      <td>NaN</td>\n",
              "      <td>NaN</td>\n",
              "    </tr>\n",
              "    <tr>\n",
              "      <th>131</th>\n",
              "      <td>renault</td>\n",
              "      <td>NaN</td>\n",
              "      <td>NaN</td>\n",
              "    </tr>\n",
              "  </tbody>\n",
              "</table>\n",
              "</div>"
            ],
            "text/plain": [
              "        name  horsepower  peak_rpm\n",
              "130  renault         NaN       NaN\n",
              "131  renault         NaN       NaN"
            ]
          },
          "metadata": {
            "tags": []
          },
          "execution_count": 25
        }
      ]
    },
    {
      "cell_type": "code",
      "metadata": {
        "id": "m5bTk4rj9Nxb",
        "colab_type": "code",
        "colab": {
          "base_uri": "https://localhost:8080/",
          "height": 122
        },
        "outputId": "d9408d58-cf92-4232-e88a-79c638939605"
      },
      "source": [
        "data.loc[data['name']=='renault',['name','horsepower','peak_rpm']]"
      ],
      "execution_count": null,
      "outputs": [
        {
          "output_type": "execute_result",
          "data": {
            "application/vnd.google.colaboratory.module+javascript": "\n      import \"https://ssl.gstatic.com/colaboratory/data_table/a6224c040fa35dcf/data_table.js\";\n\n      window.createDataTable({\n        data: [[{\n            'v': 130,\n            'f': \"130\",\n        },\n\"renault\",\n{\n            'v': NaN,\n            'f': \"NaN\",\n        },\n{\n            'v': NaN,\n            'f': \"NaN\",\n        }],\n [{\n            'v': 131,\n            'f': \"131\",\n        },\n\"renault\",\n{\n            'v': NaN,\n            'f': \"NaN\",\n        },\n{\n            'v': NaN,\n            'f': \"NaN\",\n        }]],\n        columns: [[\"number\", \"index\"], [\"string\", \"name\"], [\"number\", \"horsepower\"], [\"number\", \"peak_rpm\"]],\n        columnOptions: [{\"width\": \"1px\", \"className\": \"index_column\"}],\n        rowsPerPage: 25,\n        helpUrl: \"https://colab.research.google.com/notebooks/data_table.ipynb\",\n        suppressOutputScrolling: true,\n        minimumWidth: undefined,\n      });\n    ",
            "text/html": [
              "<div>\n",
              "<style scoped>\n",
              "    .dataframe tbody tr th:only-of-type {\n",
              "        vertical-align: middle;\n",
              "    }\n",
              "\n",
              "    .dataframe tbody tr th {\n",
              "        vertical-align: top;\n",
              "    }\n",
              "\n",
              "    .dataframe thead th {\n",
              "        text-align: right;\n",
              "    }\n",
              "</style>\n",
              "<table border=\"1\" class=\"dataframe\">\n",
              "  <thead>\n",
              "    <tr style=\"text-align: right;\">\n",
              "      <th></th>\n",
              "      <th>name</th>\n",
              "      <th>horsepower</th>\n",
              "      <th>peak_rpm</th>\n",
              "    </tr>\n",
              "  </thead>\n",
              "  <tbody>\n",
              "    <tr>\n",
              "      <th>130</th>\n",
              "      <td>renault</td>\n",
              "      <td>NaN</td>\n",
              "      <td>NaN</td>\n",
              "    </tr>\n",
              "    <tr>\n",
              "      <th>131</th>\n",
              "      <td>renault</td>\n",
              "      <td>NaN</td>\n",
              "      <td>NaN</td>\n",
              "    </tr>\n",
              "  </tbody>\n",
              "</table>\n",
              "</div>"
            ],
            "text/plain": [
              "        name  horsepower  peak_rpm\n",
              "130  renault         NaN       NaN\n",
              "131  renault         NaN       NaN"
            ]
          },
          "metadata": {
            "tags": []
          },
          "execution_count": 26
        }
      ]
    },
    {
      "cell_type": "markdown",
      "metadata": {
        "id": "AeTIjeSd_83U",
        "colab_type": "text"
      },
      "source": [
        "We do not have other renault cars in our data set to replace the missing values with the mean. Thus, we will remove it from the data set. Finally, we will drop rows with missing values in price column as well. "
      ]
    },
    {
      "cell_type": "code",
      "metadata": {
        "id": "r7yobBn8AWT6",
        "colab_type": "code",
        "colab": {}
      },
      "source": [
        "data = data.dropna(axis=0)\n",
        "numeric_data = data.drop(labels=['name','symboling'],axis=1)\n",
        "numeric_data = numeric_data.astype(float)"
      ],
      "execution_count": null,
      "outputs": []
    },
    {
      "cell_type": "code",
      "metadata": {
        "id": "qaSGVK3BAur2",
        "colab_type": "code",
        "colab": {
          "base_uri": "https://localhost:8080/",
          "height": 407
        },
        "outputId": "104d1054-6695-4fef-9433-a4a6a696940d"
      },
      "source": [
        "numeric_data.info()"
      ],
      "execution_count": null,
      "outputs": [
        {
          "output_type": "stream",
          "text": [
            "<class 'pandas.core.frame.DataFrame'>\n",
            "Int64Index: 199 entries, 0 to 204\n",
            "Data columns (total 15 columns):\n",
            " #   Column             Non-Null Count  Dtype  \n",
            "---  ------             --------------  -----  \n",
            " 0   wheel_base         199 non-null    float64\n",
            " 1   length             199 non-null    float64\n",
            " 2   width              199 non-null    float64\n",
            " 3   height             199 non-null    float64\n",
            " 4   curb_weight        199 non-null    float64\n",
            " 5   cylinders          199 non-null    float64\n",
            " 6   engine_size        199 non-null    float64\n",
            " 7   bore               199 non-null    float64\n",
            " 8   stroke             199 non-null    float64\n",
            " 9   compression_ratio  199 non-null    float64\n",
            " 10  horsepower         199 non-null    float64\n",
            " 11  peak_rpm           199 non-null    float64\n",
            " 12  city_mpg           199 non-null    float64\n",
            " 13  highway_mpg        199 non-null    float64\n",
            " 14  price              199 non-null    float64\n",
            "dtypes: float64(15)\n",
            "memory usage: 24.9 KB\n"
          ],
          "name": "stdout"
        }
      ]
    },
    {
      "cell_type": "code",
      "metadata": {
        "id": "DRoaPnevBF1-",
        "colab_type": "code",
        "colab": {
          "base_uri": "https://localhost:8080/",
          "height": 220
        },
        "outputId": "2d9a1b0c-ca85-42fa-8c95-cb9c13a46fde"
      },
      "source": [
        "import seaborn as sns\n",
        "sns.set(style=\"ticks\")\n",
        "\n",
        "sns.pairplot(y_vars='price',data = numeric_data,\n",
        "             x_vars = ['wheel_base','length','width','height','curb_weight',\n",
        "                       'cylinders','engine_size','bore','stroke','compression_ratio','horsepower','peak_rpm','city_mpg'],\n",
        "             height=3,aspect=0.6,kind='reg',\n",
        "             markers='o', \n",
        "             )"
      ],
      "execution_count": null,
      "outputs": [
        {
          "output_type": "execute_result",
          "data": {
            "text/plain": [
              "<seaborn.axisgrid.PairGrid at 0x7fe14afb9400>"
            ]
          },
          "metadata": {
            "tags": []
          },
          "execution_count": 88
        },
        {
          "output_type": "display_data",
          "data": {
            "image/png": "[encoded data removed]",
            "text/plain": [
              "<Figure size 1684.8x216 with 13 Axes>"
            ]
          },
          "metadata": {
            "tags": []
          }
        }
      ]
    },
    {
      "cell_type": "markdown",
      "metadata": {
        "id": "YGzRFWTjdlgO",
        "colab_type": "text"
      },
      "source": [
        "# Building the KNN predictor "
      ]
    },
    {
      "cell_type": "markdown",
      "metadata": {
        "id": "M68sRF4cfi1v",
        "colab_type": "text"
      },
      "source": [
        "## Building a F feature predictor"
      ]
    },
    {
      "cell_type": "markdown",
      "metadata": {
        "id": "woSVfJ84f26p",
        "colab_type": "text"
      },
      "source": [
        "Let's define a function that input feature names, number of neighbors, target variable and output the mse and rmse values for a given test set."
      ]
    },
    {
      "cell_type": "code",
      "metadata": {
        "id": "7VNlmX2AgHX-",
        "colab_type": "code",
        "colab": {}
      },
      "source": [
        "from sklearn.preprocessing import MinMaxScaler\n",
        "from sklearn.model_selection import train_test_split\n",
        "from sklearn.neighbors import KNeighborsRegressor\n",
        "from sklearn.metrics import mean_squared_error"
      ],
      "execution_count": null,
      "outputs": []
    },
    {
      "cell_type": "code",
      "metadata": {
        "id": "t95XOPAysB8W",
        "colab_type": "code",
        "colab": {}
      },
      "source": [
        "def predictor(features,n_neighbors,target):\n",
        "    X = numeric_data[features] #Features data frame\n",
        "    Y = numeric_data[target]   #Target dataframe\n",
        "    scaler = MinMaxScaler()\n",
        "    scaled_X = scaler.fit_transform(X)\n",
        "    X_train, X_test,Y_train,Y_test = train_test_split(scaled_X,Y,random_state = 1,test_size = 0.33)\n",
        "    model = KNeighborsRegressor(n_neighbors = n_neighbors,algorithm = 'auto')\n",
        "    model.fit(X_train,Y_train)\n",
        "    predictions = model.predict(X_test)\n",
        "    mse = mean_squared_error(Y_test,predictions)\n",
        "    rmse = mse**0.5\n",
        "    return rmse"
      ],
      "execution_count": null,
      "outputs": []
    },
    {
      "cell_type": "code",
      "metadata": {
        "id": "M99D4TzhuMI5",
        "colab_type": "code",
        "colab": {
          "base_uri": "https://localhost:8080/",
          "height": 34
        },
        "outputId": "d1ee69fc-c330-482f-cf05-5559453ff705"
      },
      "source": [
        "#x_vars = ['wheel_base','length','width','curb_weight',\n",
        "          #'cylinders','engine_size','bore',\n",
        "          #'horsepower','city_mpg']\n",
        "predictor(['wheel_base'],3,'price')"
      ],
      "execution_count": null,
      "outputs": [
        {
          "output_type": "execute_result",
          "data": {
            "text/plain": [
              "5542.232044676317"
            ]
          },
          "metadata": {
            "tags": []
          },
          "execution_count": 49
        }
      ]
    },
    {
      "cell_type": "markdown",
      "metadata": {
        "id": "JVTpP8bNIBTQ",
        "colab_type": "text"
      },
      "source": [
        "# Feature Engineering"
      ]
    },
    {
      "cell_type": "code",
      "metadata": {
        "id": "xqPaZlHZIEPI",
        "colab_type": "code",
        "colab": {}
      },
      "source": [
        "#Determining the best features for the prediction\n",
        "\n",
        "k = [1,3,5,7,9,11,13,15,17] #Vector to vary the number of neighbors\n",
        "x_vars = ['wheel_base','length','width','height','curb_weight','cylinders','engine_size','bore','stroke','compression_ratio','horsepower','peak_rpm','city_mpg']\n",
        "avg_rmse = {features:{neig:0 for neig in k} for features in x_vars}\n",
        "\n",
        "for j in x_vars:\n",
        "    for i in k:\n",
        "        avg_rmse[j][i] = predictor([j],i,'price')"
      ],
      "execution_count": null,
      "outputs": []
    },
    {
      "cell_type": "code",
      "metadata": {
        "id": "sit5rGUdMhJE",
        "colab_type": "code",
        "colab": {}
      },
      "source": [
        "from statistics import mean\n",
        "feature_rank = {values[0]:mean(values[1].values()) for values in avg_rmse.items()}"
      ],
      "execution_count": null,
      "outputs": []
    },
    {
      "cell_type": "code",
      "metadata": {
        "id": "-nlZm5wXP2Fz",
        "colab_type": "code",
        "colab": {
          "base_uri": "https://localhost:8080/",
          "height": 265
        },
        "outputId": "95717797-f6f0-4009-ccbc-1efb4d58184b"
      },
      "source": [
        "series_rank = pd.Series(feature_rank).sort_values(ascending=True)\n",
        "series_rank"
      ],
      "execution_count": null,
      "outputs": [
        {
          "output_type": "execute_result",
          "data": {
            "text/plain": [
              "horsepower           3612.358584\n",
              "engine_size          3629.318586\n",
              "width                4439.482821\n",
              "city_mpg             4494.166289\n",
              "curb_weight          4541.250732\n",
              "length               5752.691428\n",
              "wheel_base           5872.794469\n",
              "cylinders            6225.842859\n",
              "compression_ratio    6539.693986\n",
              "bore                 6578.859331\n",
              "stroke               7091.482770\n",
              "peak_rpm             7271.851286\n",
              "height               7751.019758\n",
              "dtype: float64"
            ]
          },
          "metadata": {
            "tags": []
          },
          "execution_count": 89
        }
      ]
    },
    {
      "cell_type": "markdown",
      "metadata": {
        "id": "hyHnsFPXRDDA",
        "colab_type": "text"
      },
      "source": [
        "As the table above shows, the best four features for price prediction. Let's take the first 5!"
      ]
    },
    {
      "cell_type": "code",
      "metadata": {
        "id": "fmtiVGP-ShZl",
        "colab_type": "code",
        "colab": {}
      },
      "source": [
        "X_vec = series_rank.index.to_list()[0:5]"
      ],
      "execution_count": null,
      "outputs": []
    },
    {
      "cell_type": "code",
      "metadata": {
        "id": "NUlDmoWHStVj",
        "colab_type": "code",
        "colab": {
          "base_uri": "https://localhost:8080/",
          "height": 34
        },
        "outputId": "596693ce-2b32-4f96-a2ae-4cc12d1e2511"
      },
      "source": [
        "print('the choosen features are:',X_vec)"
      ],
      "execution_count": null,
      "outputs": [
        {
          "output_type": "stream",
          "text": [
            "the choosen features are: ['horsepower', 'engine_size', 'width', 'city_mpg', 'curb_weight']\n"
          ],
          "name": "stdout"
        }
      ]
    },
    {
      "cell_type": "markdown",
      "metadata": {
        "id": "IndPHMmrcSJ1",
        "colab_type": "text"
      },
      "source": [
        "# Hyperparameter Tunning"
      ]
    },
    {
      "cell_type": "markdown",
      "metadata": {
        "id": "cOAp37Gtb_TG",
        "colab_type": "text"
      },
      "source": [
        "Let's check what is the optimal number of neighbors and also choose the the number of j first best features!"
      ]
    },
    {
      "cell_type": "code",
      "metadata": {
        "id": "Axljh43GcKa1",
        "colab_type": "code",
        "colab": {}
      },
      "source": [
        "cross_validation = {best_feats:{neighbors:0 for neighbors in k} for best_feats in range(len(X_vec)) }\n",
        "\n",
        "for i in range(len(X_vec)):\n",
        "      for neighbors in k:\n",
        "           feats = X_vec[0:i+1]\n",
        "           predictions = predictor(feats,neighbors,'price')\n",
        "           cross_validation[i][neighbors] = predictions\n"
      ],
      "execution_count": null,
      "outputs": []
    },
    {
      "cell_type": "code",
      "metadata": {
        "id": "CpVghc1Lmgyi",
        "colab_type": "code",
        "colab": {}
      },
      "source": [
        "#Reshaping the cross_validation dictionary to a dataframe\n",
        "dataframe = pd.DataFrame(data= [[i, j, cross_validation[i][j]] for i in cross_validation for j in cross_validation[i]], columns = ['top_features','neighbors','rmse'])"
      ],
      "execution_count": null,
      "outputs": []
    },
    {
      "cell_type": "code",
      "metadata": {
        "id": "q8Sag2Bfn_0Q",
        "colab_type": "code",
        "colab": {
          "base_uri": "https://localhost:8080/",
          "height": 284
        },
        "outputId": "354c9c2b-8f88-47e7-85d4-a820d6207c3b"
      },
      "source": [
        "for v in range(len(X_vec)):\n",
        "  dados = dataframe.loc[dataframe['top_features'] == v,:]\n",
        "  x = dados['neighbors']\n",
        "  y = dados['rmse']\n",
        "  sns.lineplot(x=x,y=y)"
      ],
      "execution_count": null,
      "outputs": [
        {
          "output_type": "display_data",
          "data": {
            "image/png": "[encoded data removed]",
            "text/plain": [
              "<Figure size 432x288 with 1 Axes>"
            ]
          },
          "metadata": {
            "tags": []
          }
        }
      ]
    },
    {
      "cell_type": "code",
      "metadata": {
        "id": "3mYR41Seov7I",
        "colab_type": "code",
        "colab": {
          "base_uri": "https://localhost:8080/",
          "height": 105
        },
        "outputId": "3f051cab-1033-48cf-f28e-bb4a02e78f42"
      },
      "source": [
        "# The best predictor is\n",
        "print('The best Predictor is:')\n",
        "print('\\n')\n",
        "print(dataframe.loc[dataframe['rmse'] == dataframe['rmse'].min(),:])"
      ],
      "execution_count": null,
      "outputs": [
        {
          "output_type": "stream",
          "text": [
            "The best Predictor is:\n",
            "\n",
            "\n",
            "    top_features  neighbors         rmse\n",
            "19             2          3  1972.205782\n"
          ],
          "name": "stdout"
        }
      ]
    }
  ]
}